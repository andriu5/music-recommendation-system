{
 "cells": [
  {
   "cell_type": "markdown",
   "metadata": {
    "id": "sGYfholmV3YI"
   },
   "source": [
    "# **Music Recommendation System**"
   ]
  },
  {
   "cell_type": "markdown",
   "metadata": {
    "id": "YVDNpGT4WJ4q"
   },
   "source": [
    "## **Context:**\n",
    "\n",
    "Online music streaming platforms like **Spotify** have plenty of songs in their repositories. If we can build a **recommendation system** to recommend songs to the users based on their historical interactions with songs, this would improve customer satisfaction. Increased customer satisfaction will **increase the revenue of the company.** The techniques that we will learn here will not only be limited to songs but can be any item for which you can build a recommendation system."
   ]
  },
  {
   "cell_type": "markdown",
   "metadata": {
    "id": "ObjrHXr8WipL"
   },
   "source": [
    "## **Problem Statement:**\n",
    "\n",
    "In this project, we will build a music recommendation system for the [Million Song Dataset](http://millionsongdataset.com/). Our motivation consists of building an information filter to maintain the attention of users of a Music Platform because of information overload and decisions that they make, avoiding attrition of users using the Music Platform, this is of course undesirable. \n",
    "\n",
    "The constraints that we main follows given the data that we have, it's the provision of the characteristics of a small dataset constituted mainly of a small number of user_id and song_id of the universe of possibilities of the Million Song Dataset.\n",
    "\n",
    "There are many types of recommender systems in use today, so a major component of the project will be in benchmarking models to find the more appropriate recommendation system to propose songs for a user based on the user’s listening activity of a given song set.\n"
   ]
  },
  {
   "cell_type": "markdown",
   "metadata": {
    "id": "S4mRNmVLW7px"
   },
   "source": [
    "## **Objective:**\n",
    "\n",
    "Build a recommendation system to propose the top 10 songs for a user based on the likelihood of listening to those songs."
   ]
  },
  {
   "cell_type": "markdown",
   "metadata": {
    "id": "04ZahnrdXLxt"
   },
   "source": [
    "## **Data Dictionary:**\n",
    "\n",
    "The core dataset is the Taste Profile Subset released by The Echo Nest as part of the [Million Song Dataset](http://millionsongdataset.com/). There are two csv files in this dataset count_data and song_data. song_data file of 1,000,000 rows of songs contains the details about the song id, titles, release, artist name, and the year of release. The count_data file of 2,000,000 rows contains the user id, song id, and the play count of users.\n",
    "\n",
    "**song_data**\n",
    "* **song_id:** A unique id given to every song\n",
    "* **title:** Title of the song\n",
    "* **Release:** Name of the released album\n",
    "* **Artist_name:** Name of the artist\n",
    "* **year:** Year of release\n",
    "\n",
    "**count_data**\n",
    "* **user _id:** A unique id given to the user\n",
    "* **song_id:** A unique id given to the song\n",
    "* **play_count:** Number of times the song was played\n"
   ]
  },
  {
   "cell_type": "markdown",
   "metadata": {
    "id": "Sf3xMdluJc2D"
   },
   "source": [
    "### **Importing Libraries and the Dataset**"
   ]
  },
  {
   "cell_type": "code",
   "execution_count": 1,
   "metadata": {
    "colab": {
     "base_uri": "https://localhost:8080/"
    },
    "id": "49UVEsJ5JdmE",
    "outputId": "9afa468d-6871-4b16-bd81-213eae8d662a"
   },
   "outputs": [
    {
     "name": "stdout",
     "output_type": "stream",
     "text": [
      "Mounted at /content/drive\n"
     ]
    }
   ],
   "source": [
    "# Mounting the drive\n",
    "from google.colab import drive\n",
    "drive.mount('/content/drive')"
   ]
  },
  {
   "cell_type": "code",
   "execution_count": 1,
   "metadata": {
    "id": "2jViRRMSJfze"
   },
   "outputs": [],
   "source": [
    "# Used to ignore the warning given as output of the code\n",
    "import warnings\n",
    "warnings.filterwarnings('ignore')\n",
    "\n",
    "# Basic libraries of python for numeric and dataframe computations\n",
    "import numpy as np\n",
    "import pandas as pd\n",
    "\n",
    "# Basic library for data visualization\n",
    "import matplotlib.pyplot as plt\n",
    "\n",
    "# Slightly advanced library for data visualization\n",
    "import seaborn as sns\n",
    "\n",
    "from sklearn.preprocessing import LabelEncoder  # Encode target labels with value between 0 and n_classes-1"
   ]
  },
  {
   "cell_type": "markdown",
   "metadata": {
    "id": "wVqVKW3vJoaA"
   },
   "source": [
    "### **Load the dataset**"
   ]
  },
  {
   "cell_type": "code",
   "execution_count": 2,
   "metadata": {
    "id": "2YGuIbK2Jo7s"
   },
   "outputs": [],
   "source": [
    "# Importing the datasets\n",
    "# count_df = pd.read_csv('/content/drive/My Drive/Colab Notebooks/Project_Music_Recommendation_System/Million_Songs_Dataset/count_data.csv')\n",
    "# song_df = pd.read_csv('/content/drive/My Drive/Colab Notebooks/Project_Music_Recommendation_System/Million_Songs_Dataset/song_data.csv')\n",
    "count_df = pd.read_csv('./Million_Songs_Dataset/count_data.csv')\n",
    "song_df = pd.read_csv('./Million_Songs_Dataset/song_data.csv')"
   ]
  },
  {
   "cell_type": "markdown",
   "metadata": {
    "id": "zHa6g2y_C-x3"
   },
   "source": [
    "### **Understanding the data by viewing a few observations**"
   ]
  },
  {
   "cell_type": "code",
   "execution_count": 3,
   "metadata": {
    "colab": {
     "base_uri": "https://localhost:8080/",
     "height": 363
    },
    "id": "AureE35WJqlP",
    "outputId": "8332acbf-4cb2-4901-f745-3266c08f6fcc"
   },
   "outputs": [
    {
     "data": {
      "text/html": [
       "<div>\n",
       "<style scoped>\n",
       "    .dataframe tbody tr th:only-of-type {\n",
       "        vertical-align: middle;\n",
       "    }\n",
       "\n",
       "    .dataframe tbody tr th {\n",
       "        vertical-align: top;\n",
       "    }\n",
       "\n",
       "    .dataframe thead th {\n",
       "        text-align: right;\n",
       "    }\n",
       "</style>\n",
       "<table border=\"1\" class=\"dataframe\">\n",
       "  <thead>\n",
       "    <tr style=\"text-align: right;\">\n",
       "      <th></th>\n",
       "      <th>Unnamed: 0</th>\n",
       "      <th>user_id</th>\n",
       "      <th>song_id</th>\n",
       "      <th>play_count</th>\n",
       "    </tr>\n",
       "  </thead>\n",
       "  <tbody>\n",
       "    <tr>\n",
       "      <th>0</th>\n",
       "      <td>0</td>\n",
       "      <td>b80344d063b5ccb3212f76538f3d9e43d87dca9e</td>\n",
       "      <td>SOAKIMP12A8C130995</td>\n",
       "      <td>1</td>\n",
       "    </tr>\n",
       "    <tr>\n",
       "      <th>1</th>\n",
       "      <td>1</td>\n",
       "      <td>b80344d063b5ccb3212f76538f3d9e43d87dca9e</td>\n",
       "      <td>SOBBMDR12A8C13253B</td>\n",
       "      <td>2</td>\n",
       "    </tr>\n",
       "    <tr>\n",
       "      <th>2</th>\n",
       "      <td>2</td>\n",
       "      <td>b80344d063b5ccb3212f76538f3d9e43d87dca9e</td>\n",
       "      <td>SOBXHDL12A81C204C0</td>\n",
       "      <td>1</td>\n",
       "    </tr>\n",
       "    <tr>\n",
       "      <th>3</th>\n",
       "      <td>3</td>\n",
       "      <td>b80344d063b5ccb3212f76538f3d9e43d87dca9e</td>\n",
       "      <td>SOBYHAJ12A6701BF1D</td>\n",
       "      <td>1</td>\n",
       "    </tr>\n",
       "    <tr>\n",
       "      <th>4</th>\n",
       "      <td>4</td>\n",
       "      <td>b80344d063b5ccb3212f76538f3d9e43d87dca9e</td>\n",
       "      <td>SODACBL12A8C13C273</td>\n",
       "      <td>1</td>\n",
       "    </tr>\n",
       "    <tr>\n",
       "      <th>5</th>\n",
       "      <td>5</td>\n",
       "      <td>b80344d063b5ccb3212f76538f3d9e43d87dca9e</td>\n",
       "      <td>SODDNQT12A6D4F5F7E</td>\n",
       "      <td>5</td>\n",
       "    </tr>\n",
       "    <tr>\n",
       "      <th>6</th>\n",
       "      <td>6</td>\n",
       "      <td>b80344d063b5ccb3212f76538f3d9e43d87dca9e</td>\n",
       "      <td>SODXRTY12AB0180F3B</td>\n",
       "      <td>1</td>\n",
       "    </tr>\n",
       "    <tr>\n",
       "      <th>7</th>\n",
       "      <td>7</td>\n",
       "      <td>b80344d063b5ccb3212f76538f3d9e43d87dca9e</td>\n",
       "      <td>SOFGUAY12AB017B0A8</td>\n",
       "      <td>1</td>\n",
       "    </tr>\n",
       "    <tr>\n",
       "      <th>8</th>\n",
       "      <td>8</td>\n",
       "      <td>b80344d063b5ccb3212f76538f3d9e43d87dca9e</td>\n",
       "      <td>SOFRQTD12A81C233C0</td>\n",
       "      <td>1</td>\n",
       "    </tr>\n",
       "    <tr>\n",
       "      <th>9</th>\n",
       "      <td>9</td>\n",
       "      <td>b80344d063b5ccb3212f76538f3d9e43d87dca9e</td>\n",
       "      <td>SOHQWYZ12A6D4FA701</td>\n",
       "      <td>1</td>\n",
       "    </tr>\n",
       "  </tbody>\n",
       "</table>\n",
       "</div>"
      ],
      "text/plain": [
       "   Unnamed: 0                                   user_id             song_id  \\\n",
       "0           0  b80344d063b5ccb3212f76538f3d9e43d87dca9e  SOAKIMP12A8C130995   \n",
       "1           1  b80344d063b5ccb3212f76538f3d9e43d87dca9e  SOBBMDR12A8C13253B   \n",
       "2           2  b80344d063b5ccb3212f76538f3d9e43d87dca9e  SOBXHDL12A81C204C0   \n",
       "3           3  b80344d063b5ccb3212f76538f3d9e43d87dca9e  SOBYHAJ12A6701BF1D   \n",
       "4           4  b80344d063b5ccb3212f76538f3d9e43d87dca9e  SODACBL12A8C13C273   \n",
       "5           5  b80344d063b5ccb3212f76538f3d9e43d87dca9e  SODDNQT12A6D4F5F7E   \n",
       "6           6  b80344d063b5ccb3212f76538f3d9e43d87dca9e  SODXRTY12AB0180F3B   \n",
       "7           7  b80344d063b5ccb3212f76538f3d9e43d87dca9e  SOFGUAY12AB017B0A8   \n",
       "8           8  b80344d063b5ccb3212f76538f3d9e43d87dca9e  SOFRQTD12A81C233C0   \n",
       "9           9  b80344d063b5ccb3212f76538f3d9e43d87dca9e  SOHQWYZ12A6D4FA701   \n",
       "\n",
       "   play_count  \n",
       "0           1  \n",
       "1           2  \n",
       "2           1  \n",
       "3           1  \n",
       "4           1  \n",
       "5           5  \n",
       "6           1  \n",
       "7           1  \n",
       "8           1  \n",
       "9           1  "
      ]
     },
     "execution_count": 3,
     "metadata": {},
     "output_type": "execute_result"
    }
   ],
   "source": [
    "# See top 10 records of count_df data\n",
    "count_df.head(10)"
   ]
  },
  {
   "cell_type": "code",
   "execution_count": 4,
   "metadata": {
    "colab": {
     "base_uri": "https://localhost:8080/",
     "height": 363
    },
    "id": "Bhlt3Aw0DBqJ",
    "outputId": "9e197b9c-a7e7-4891-bb1b-3091b5e77ab7"
   },
   "outputs": [
    {
     "data": {
      "text/html": [
       "<div>\n",
       "<style scoped>\n",
       "    .dataframe tbody tr th:only-of-type {\n",
       "        vertical-align: middle;\n",
       "    }\n",
       "\n",
       "    .dataframe tbody tr th {\n",
       "        vertical-align: top;\n",
       "    }\n",
       "\n",
       "    .dataframe thead th {\n",
       "        text-align: right;\n",
       "    }\n",
       "</style>\n",
       "<table border=\"1\" class=\"dataframe\">\n",
       "  <thead>\n",
       "    <tr style=\"text-align: right;\">\n",
       "      <th></th>\n",
       "      <th>song_id</th>\n",
       "      <th>title</th>\n",
       "      <th>release</th>\n",
       "      <th>artist_name</th>\n",
       "      <th>year</th>\n",
       "    </tr>\n",
       "  </thead>\n",
       "  <tbody>\n",
       "    <tr>\n",
       "      <th>0</th>\n",
       "      <td>SOQMMHC12AB0180CB8</td>\n",
       "      <td>Silent Night</td>\n",
       "      <td>Monster Ballads X-Mas</td>\n",
       "      <td>Faster Pussy cat</td>\n",
       "      <td>2003</td>\n",
       "    </tr>\n",
       "    <tr>\n",
       "      <th>1</th>\n",
       "      <td>SOVFVAK12A8C1350D9</td>\n",
       "      <td>Tanssi vaan</td>\n",
       "      <td>Karkuteillä</td>\n",
       "      <td>Karkkiautomaatti</td>\n",
       "      <td>1995</td>\n",
       "    </tr>\n",
       "    <tr>\n",
       "      <th>2</th>\n",
       "      <td>SOGTUKN12AB017F4F1</td>\n",
       "      <td>No One Could Ever</td>\n",
       "      <td>Butter</td>\n",
       "      <td>Hudson Mohawke</td>\n",
       "      <td>2006</td>\n",
       "    </tr>\n",
       "    <tr>\n",
       "      <th>3</th>\n",
       "      <td>SOBNYVR12A8C13558C</td>\n",
       "      <td>Si Vos Querés</td>\n",
       "      <td>De Culo</td>\n",
       "      <td>Yerba Brava</td>\n",
       "      <td>2003</td>\n",
       "    </tr>\n",
       "    <tr>\n",
       "      <th>4</th>\n",
       "      <td>SOHSBXH12A8C13B0DF</td>\n",
       "      <td>Tangle Of Aspens</td>\n",
       "      <td>Rene Ablaze Presents Winter Sessions</td>\n",
       "      <td>Der Mystic</td>\n",
       "      <td>0</td>\n",
       "    </tr>\n",
       "    <tr>\n",
       "      <th>5</th>\n",
       "      <td>SOZVAPQ12A8C13B63C</td>\n",
       "      <td>Symphony No. 1 G minor \"Sinfonie Serieuse\"/All...</td>\n",
       "      <td>Berwald: Symphonies Nos. 1/2/3/4</td>\n",
       "      <td>David Montgomery</td>\n",
       "      <td>0</td>\n",
       "    </tr>\n",
       "    <tr>\n",
       "      <th>6</th>\n",
       "      <td>SOQVRHI12A6D4FB2D7</td>\n",
       "      <td>We Have Got Love</td>\n",
       "      <td>Strictly The Best Vol. 34</td>\n",
       "      <td>Sasha / Turbulence</td>\n",
       "      <td>0</td>\n",
       "    </tr>\n",
       "    <tr>\n",
       "      <th>7</th>\n",
       "      <td>SOEYRFT12AB018936C</td>\n",
       "      <td>2 Da Beat Ch'yall</td>\n",
       "      <td>Da Bomb</td>\n",
       "      <td>Kris Kross</td>\n",
       "      <td>1993</td>\n",
       "    </tr>\n",
       "    <tr>\n",
       "      <th>8</th>\n",
       "      <td>SOPMIYT12A6D4F851E</td>\n",
       "      <td>Goodbye</td>\n",
       "      <td>Danny Boy</td>\n",
       "      <td>Joseph Locke</td>\n",
       "      <td>0</td>\n",
       "    </tr>\n",
       "    <tr>\n",
       "      <th>9</th>\n",
       "      <td>SOJCFMH12A8C13B0C2</td>\n",
       "      <td>Mama_ mama can't you see ?</td>\n",
       "      <td>March to cadence with the US marines</td>\n",
       "      <td>The Sun Harbor's Chorus-Documentary Recordings</td>\n",
       "      <td>0</td>\n",
       "    </tr>\n",
       "  </tbody>\n",
       "</table>\n",
       "</div>"
      ],
      "text/plain": [
       "              song_id                                              title  \\\n",
       "0  SOQMMHC12AB0180CB8                                       Silent Night   \n",
       "1  SOVFVAK12A8C1350D9                                        Tanssi vaan   \n",
       "2  SOGTUKN12AB017F4F1                                  No One Could Ever   \n",
       "3  SOBNYVR12A8C13558C                                      Si Vos Querés   \n",
       "4  SOHSBXH12A8C13B0DF                                   Tangle Of Aspens   \n",
       "5  SOZVAPQ12A8C13B63C  Symphony No. 1 G minor \"Sinfonie Serieuse\"/All...   \n",
       "6  SOQVRHI12A6D4FB2D7                                   We Have Got Love   \n",
       "7  SOEYRFT12AB018936C                                  2 Da Beat Ch'yall   \n",
       "8  SOPMIYT12A6D4F851E                                            Goodbye   \n",
       "9  SOJCFMH12A8C13B0C2                         Mama_ mama can't you see ?   \n",
       "\n",
       "                                release  \\\n",
       "0                 Monster Ballads X-Mas   \n",
       "1                           Karkuteillä   \n",
       "2                                Butter   \n",
       "3                               De Culo   \n",
       "4  Rene Ablaze Presents Winter Sessions   \n",
       "5      Berwald: Symphonies Nos. 1/2/3/4   \n",
       "6             Strictly The Best Vol. 34   \n",
       "7                               Da Bomb   \n",
       "8                             Danny Boy   \n",
       "9  March to cadence with the US marines   \n",
       "\n",
       "                                      artist_name  year  \n",
       "0                                Faster Pussy cat  2003  \n",
       "1                                Karkkiautomaatti  1995  \n",
       "2                                  Hudson Mohawke  2006  \n",
       "3                                     Yerba Brava  2003  \n",
       "4                                      Der Mystic     0  \n",
       "5                                David Montgomery     0  \n",
       "6                              Sasha / Turbulence     0  \n",
       "7                                      Kris Kross  1993  \n",
       "8                                    Joseph Locke     0  \n",
       "9  The Sun Harbor's Chorus-Documentary Recordings     0  "
      ]
     },
     "execution_count": 4,
     "metadata": {},
     "output_type": "execute_result"
    }
   ],
   "source": [
    "# See top 10 records of song_df data\n",
    "song_df.head(10)"
   ]
  },
  {
   "cell_type": "markdown",
   "metadata": {
    "id": "SYVZnsz7DGrf"
   },
   "source": [
    "### **Let us check the data types and and missing values of each column**"
   ]
  },
  {
   "cell_type": "code",
   "execution_count": 5,
   "metadata": {
    "colab": {
     "base_uri": "https://localhost:8080/"
    },
    "id": "BxZC9WAPDDR6",
    "outputId": "1983e99c-cd59-4b63-e1f9-a1ef8746097b"
   },
   "outputs": [
    {
     "name": "stdout",
     "output_type": "stream",
     "text": [
      "<class 'pandas.core.frame.DataFrame'>\n",
      "RangeIndex: 2000000 entries, 0 to 1999999\n",
      "Data columns (total 4 columns):\n",
      " #   Column      Non-Null Count    Dtype \n",
      "---  ------      --------------    ----- \n",
      " 0   Unnamed: 0  2000000 non-null  int64 \n",
      " 1   user_id     2000000 non-null  object\n",
      " 2   song_id     2000000 non-null  object\n",
      " 3   play_count  2000000 non-null  int64 \n",
      "dtypes: int64(2), object(2)\n",
      "memory usage: 61.0+ MB\n"
     ]
    }
   ],
   "source": [
    "# See the info of the count_df data\n",
    "count_df.info(verbose=True, show_counts=True)"
   ]
  },
  {
   "cell_type": "code",
   "execution_count": 6,
   "metadata": {
    "colab": {
     "base_uri": "https://localhost:8080/"
    },
    "id": "px4dKvwjDIqA",
    "outputId": "7171fc6f-c232-44d1-e8ad-064e44db2ba9"
   },
   "outputs": [
    {
     "data": {
      "text/plain": [
       "(2000000, 4)"
      ]
     },
     "execution_count": 6,
     "metadata": {},
     "output_type": "execute_result"
    }
   ],
   "source": [
    "# display the dimension of the count_df data\n",
    "count_df.shape"
   ]
  },
  {
   "cell_type": "code",
   "execution_count": 7,
   "metadata": {
    "colab": {
     "base_uri": "https://localhost:8080/",
     "height": 300
    },
    "id": "8YOvjxCADKea",
    "outputId": "4ab2f4a0-3e35-4cdb-a6ce-06aff3d38775"
   },
   "outputs": [
    {
     "data": {
      "text/html": [
       "<div>\n",
       "<style scoped>\n",
       "    .dataframe tbody tr th:only-of-type {\n",
       "        vertical-align: middle;\n",
       "    }\n",
       "\n",
       "    .dataframe tbody tr th {\n",
       "        vertical-align: top;\n",
       "    }\n",
       "\n",
       "    .dataframe thead th {\n",
       "        text-align: right;\n",
       "    }\n",
       "</style>\n",
       "<table border=\"1\" class=\"dataframe\">\n",
       "  <thead>\n",
       "    <tr style=\"text-align: right;\">\n",
       "      <th></th>\n",
       "      <th>Unnamed: 0</th>\n",
       "      <th>play_count</th>\n",
       "    </tr>\n",
       "  </thead>\n",
       "  <tbody>\n",
       "    <tr>\n",
       "      <th>count</th>\n",
       "      <td>2.000000e+06</td>\n",
       "      <td>2.000000e+06</td>\n",
       "    </tr>\n",
       "    <tr>\n",
       "      <th>mean</th>\n",
       "      <td>9.999995e+05</td>\n",
       "      <td>3.045485e+00</td>\n",
       "    </tr>\n",
       "    <tr>\n",
       "      <th>std</th>\n",
       "      <td>5.773504e+05</td>\n",
       "      <td>6.579720e+00</td>\n",
       "    </tr>\n",
       "    <tr>\n",
       "      <th>min</th>\n",
       "      <td>0.000000e+00</td>\n",
       "      <td>1.000000e+00</td>\n",
       "    </tr>\n",
       "    <tr>\n",
       "      <th>25%</th>\n",
       "      <td>4.999998e+05</td>\n",
       "      <td>1.000000e+00</td>\n",
       "    </tr>\n",
       "    <tr>\n",
       "      <th>50%</th>\n",
       "      <td>9.999995e+05</td>\n",
       "      <td>1.000000e+00</td>\n",
       "    </tr>\n",
       "    <tr>\n",
       "      <th>75%</th>\n",
       "      <td>1.499999e+06</td>\n",
       "      <td>3.000000e+00</td>\n",
       "    </tr>\n",
       "    <tr>\n",
       "      <th>max</th>\n",
       "      <td>1.999999e+06</td>\n",
       "      <td>2.213000e+03</td>\n",
       "    </tr>\n",
       "  </tbody>\n",
       "</table>\n",
       "</div>"
      ],
      "text/plain": [
       "         Unnamed: 0    play_count\n",
       "count  2.000000e+06  2.000000e+06\n",
       "mean   9.999995e+05  3.045485e+00\n",
       "std    5.773504e+05  6.579720e+00\n",
       "min    0.000000e+00  1.000000e+00\n",
       "25%    4.999998e+05  1.000000e+00\n",
       "50%    9.999995e+05  1.000000e+00\n",
       "75%    1.499999e+06  3.000000e+00\n",
       "max    1.999999e+06  2.213000e+03"
      ]
     },
     "execution_count": 7,
     "metadata": {},
     "output_type": "execute_result"
    }
   ],
   "source": [
    "count_df.describe()"
   ]
  },
  {
   "cell_type": "code",
   "execution_count": 8,
   "metadata": {
    "colab": {
     "base_uri": "https://localhost:8080/"
    },
    "id": "OrOrQDIGDL4k",
    "outputId": "418953a9-978b-4413-8fe4-695f2645de82"
   },
   "outputs": [
    {
     "name": "stdout",
     "output_type": "stream",
     "text": [
      "<class 'pandas.core.frame.DataFrame'>\n",
      "RangeIndex: 1000000 entries, 0 to 999999\n",
      "Data columns (total 5 columns):\n",
      " #   Column       Non-Null Count    Dtype \n",
      "---  ------       --------------    ----- \n",
      " 0   song_id      1000000 non-null  object\n",
      " 1   title        999985 non-null   object\n",
      " 2   release      999995 non-null   object\n",
      " 3   artist_name  1000000 non-null  object\n",
      " 4   year         1000000 non-null  int64 \n",
      "dtypes: int64(1), object(4)\n",
      "memory usage: 38.1+ MB\n"
     ]
    }
   ],
   "source": [
    "# See the info of the song_df data\n",
    "song_df.info(verbose=True, show_counts=True)"
   ]
  },
  {
   "cell_type": "code",
   "execution_count": 9,
   "metadata": {
    "colab": {
     "base_uri": "https://localhost:8080/"
    },
    "id": "rwVb8tB8DNnN",
    "outputId": "24e0f97c-1db5-47b9-81f1-ad709dd6697e"
   },
   "outputs": [
    {
     "data": {
      "text/plain": [
       "(1000000, 5)"
      ]
     },
     "execution_count": 9,
     "metadata": {},
     "output_type": "execute_result"
    }
   ],
   "source": [
    "# display the dimension of the song_df data\n",
    "song_df.shape"
   ]
  },
  {
   "cell_type": "code",
   "execution_count": 10,
   "metadata": {
    "colab": {
     "base_uri": "https://localhost:8080/",
     "height": 300
    },
    "id": "HtKTRAqzDP5V",
    "outputId": "28b7dab2-5e7a-4299-b918-eb76a5415de8"
   },
   "outputs": [
    {
     "data": {
      "text/html": [
       "<div>\n",
       "<style scoped>\n",
       "    .dataframe tbody tr th:only-of-type {\n",
       "        vertical-align: middle;\n",
       "    }\n",
       "\n",
       "    .dataframe tbody tr th {\n",
       "        vertical-align: top;\n",
       "    }\n",
       "\n",
       "    .dataframe thead th {\n",
       "        text-align: right;\n",
       "    }\n",
       "</style>\n",
       "<table border=\"1\" class=\"dataframe\">\n",
       "  <thead>\n",
       "    <tr style=\"text-align: right;\">\n",
       "      <th></th>\n",
       "      <th>year</th>\n",
       "    </tr>\n",
       "  </thead>\n",
       "  <tbody>\n",
       "    <tr>\n",
       "      <th>count</th>\n",
       "      <td>1000000.000000</td>\n",
       "    </tr>\n",
       "    <tr>\n",
       "      <th>mean</th>\n",
       "      <td>1030.325652</td>\n",
       "    </tr>\n",
       "    <tr>\n",
       "      <th>std</th>\n",
       "      <td>998.745002</td>\n",
       "    </tr>\n",
       "    <tr>\n",
       "      <th>min</th>\n",
       "      <td>0.000000</td>\n",
       "    </tr>\n",
       "    <tr>\n",
       "      <th>25%</th>\n",
       "      <td>0.000000</td>\n",
       "    </tr>\n",
       "    <tr>\n",
       "      <th>50%</th>\n",
       "      <td>1969.000000</td>\n",
       "    </tr>\n",
       "    <tr>\n",
       "      <th>75%</th>\n",
       "      <td>2002.000000</td>\n",
       "    </tr>\n",
       "    <tr>\n",
       "      <th>max</th>\n",
       "      <td>2011.000000</td>\n",
       "    </tr>\n",
       "  </tbody>\n",
       "</table>\n",
       "</div>"
      ],
      "text/plain": [
       "                 year\n",
       "count  1000000.000000\n",
       "mean      1030.325652\n",
       "std        998.745002\n",
       "min          0.000000\n",
       "25%          0.000000\n",
       "50%       1969.000000\n",
       "75%       2002.000000\n",
       "max       2011.000000"
      ]
     },
     "execution_count": 10,
     "metadata": {},
     "output_type": "execute_result"
    }
   ],
   "source": [
    "song_df.describe()"
   ]
  },
  {
   "cell_type": "markdown",
   "metadata": {
    "id": "dHI9P4TvDWfD"
   },
   "source": [
    "#### 1. **Observations and Insights for count_df:**\n",
    "\n",
    "* The dataframe count_df have 2,000,000 observations for user_id, song_id, play_count with no missing values. The data types of the columns are user_id, song_id, are strings and play_count is an integer.\n",
    "* Column 'Unnamed: 0' contains the index of the count_df dataset, but we don't need an index column for our analysis. Hence, we can drop this column by considering features that add value to the model.\n",
    "* The standard deviation of play_count is 6.5797 indicating that there is high variability in the dataset and most data points slightly deviate from the mean. The mean of the play_count column is 3.045\n",
    "* The play_count is between '1.0' and '2213.0' for the available data. The typical rating in the dataset i.e. the median or 50th Percentile is '1.0', '1.0' in Q1 or 25th Percentile, and '3.0' in Q3 or 75th Percentile. That's behavior indicates thta the dataset highly skweed towards play_count '1.0'.\n",
    "\n",
    "#### 2.  **Observations and Insights for song_df:**\n",
    "\n",
    "* The dataframe song_df have 1,000,000 observations for song_id, title, release, artist_name, year with missing values in title and release. The data types of the columns are song_id, title, release, artist_name are strings and year is an integer.\n",
    "* We can observe that the year column goes from 1969 to 2011, the min value is 0 and the max value is 2011. The median for the years is 1969, and we can see that the average is low at 1030 indicating that there're songs with a year equal to 0 decreasing the mean value.\n",
    "\n",
    "#### 3. **General Observations and Insights:**\n",
    "\n",
    "* pandas .info() method for large datasets don't provide not null counts. So we can pass optional arguments verbose=True and show_counts=True to the .info() method to output information for all of the columns\n",
    "* we can merge by song_id to join both datasets into one, droping duplicate records.\n",
    "* Overall, we can observe that the amount of data is significant and that there are enough records to create a music recommendation system that allows recommending songs to users."
   ]
  },
  {
   "cell_type": "code",
   "execution_count": 11,
   "metadata": {
    "id": "WUSOskmRDXLH"
   },
   "outputs": [],
   "source": [
    "# Left merge the count_df and song_df data on \"song_id\". Drop duplicates from song_df data simultaneously\n",
    "\n",
    "df = pd.merge(count_df, song_df.drop_duplicates(['song_id']), on=\"song_id\", how=\"left\")\n",
    "\n",
    "# Drop the column 'Unnamed: 0'\n",
    "df.drop(['Unnamed: 0'], axis = 1, inplace=True)"
   ]
  },
  {
   "cell_type": "code",
   "execution_count": 12,
   "metadata": {
    "colab": {
     "base_uri": "https://localhost:8080/"
    },
    "id": "r9mvPrp0DZ6L",
    "outputId": "cf51132e-c9b2-4047-e8ca-0f015ffa33bb"
   },
   "outputs": [
    {
     "data": {
      "text/plain": [
       "(2000000, 7)"
      ]
     },
     "execution_count": 12,
     "metadata": {},
     "output_type": "execute_result"
    }
   ],
   "source": [
    "df.shape"
   ]
  },
  {
   "cell_type": "code",
   "execution_count": 13,
   "metadata": {
    "colab": {
     "base_uri": "https://localhost:8080/"
    },
    "id": "RScyEUodDbtu",
    "outputId": "c61c509f-a7fd-465f-bc48-b20b417444b5"
   },
   "outputs": [
    {
     "data": {
      "text/plain": [
       "False"
      ]
     },
     "execution_count": 13,
     "metadata": {},
     "output_type": "execute_result"
    }
   ],
   "source": [
    "df.isnull().values.any()"
   ]
  },
  {
   "cell_type": "markdown",
   "metadata": {
    "id": "IlUrxqrEDfNh"
   },
   "source": [
    "*   The resulting dataframe post left join of count_df and song_df data on \"song_id\" have 2,000,000 rows and 7 columns\n",
    "*   There are not missing values due to df_final.isnull().values.any() returns False indicating that all columns in the DataFrame are complete."
   ]
  },
  {
   "cell_type": "code",
   "execution_count": 14,
   "metadata": {
    "colab": {
     "base_uri": "https://localhost:8080/",
     "height": 423
    },
    "id": "ROs_aI9TDdGo",
    "outputId": "54c0e5d0-cb1e-41a2-95df-0153c81f782b"
   },
   "outputs": [
    {
     "data": {
      "text/html": [
       "<div>\n",
       "<style scoped>\n",
       "    .dataframe tbody tr th:only-of-type {\n",
       "        vertical-align: middle;\n",
       "    }\n",
       "\n",
       "    .dataframe tbody tr th {\n",
       "        vertical-align: top;\n",
       "    }\n",
       "\n",
       "    .dataframe thead th {\n",
       "        text-align: right;\n",
       "    }\n",
       "</style>\n",
       "<table border=\"1\" class=\"dataframe\">\n",
       "  <thead>\n",
       "    <tr style=\"text-align: right;\">\n",
       "      <th></th>\n",
       "      <th>user_id</th>\n",
       "      <th>song_id</th>\n",
       "      <th>play_count</th>\n",
       "      <th>title</th>\n",
       "      <th>release</th>\n",
       "      <th>artist_name</th>\n",
       "      <th>year</th>\n",
       "    </tr>\n",
       "  </thead>\n",
       "  <tbody>\n",
       "    <tr>\n",
       "      <th>0</th>\n",
       "      <td>b80344d063b5ccb3212f76538f3d9e43d87dca9e</td>\n",
       "      <td>SOAKIMP12A8C130995</td>\n",
       "      <td>1</td>\n",
       "      <td>The Cove</td>\n",
       "      <td>Thicker Than Water</td>\n",
       "      <td>Jack Johnson</td>\n",
       "      <td>0</td>\n",
       "    </tr>\n",
       "    <tr>\n",
       "      <th>1</th>\n",
       "      <td>b80344d063b5ccb3212f76538f3d9e43d87dca9e</td>\n",
       "      <td>SOBBMDR12A8C13253B</td>\n",
       "      <td>2</td>\n",
       "      <td>Entre Dos Aguas</td>\n",
       "      <td>Flamenco Para Niños</td>\n",
       "      <td>Paco De Lucia</td>\n",
       "      <td>1976</td>\n",
       "    </tr>\n",
       "    <tr>\n",
       "      <th>2</th>\n",
       "      <td>b80344d063b5ccb3212f76538f3d9e43d87dca9e</td>\n",
       "      <td>SOBXHDL12A81C204C0</td>\n",
       "      <td>1</td>\n",
       "      <td>Stronger</td>\n",
       "      <td>Graduation</td>\n",
       "      <td>Kanye West</td>\n",
       "      <td>2007</td>\n",
       "    </tr>\n",
       "    <tr>\n",
       "      <th>3</th>\n",
       "      <td>b80344d063b5ccb3212f76538f3d9e43d87dca9e</td>\n",
       "      <td>SOBYHAJ12A6701BF1D</td>\n",
       "      <td>1</td>\n",
       "      <td>Constellations</td>\n",
       "      <td>In Between Dreams</td>\n",
       "      <td>Jack Johnson</td>\n",
       "      <td>2005</td>\n",
       "    </tr>\n",
       "    <tr>\n",
       "      <th>4</th>\n",
       "      <td>b80344d063b5ccb3212f76538f3d9e43d87dca9e</td>\n",
       "      <td>SODACBL12A8C13C273</td>\n",
       "      <td>1</td>\n",
       "      <td>Learn To Fly</td>\n",
       "      <td>There Is Nothing Left To Lose</td>\n",
       "      <td>Foo Fighters</td>\n",
       "      <td>1999</td>\n",
       "    </tr>\n",
       "    <tr>\n",
       "      <th>...</th>\n",
       "      <td>...</td>\n",
       "      <td>...</td>\n",
       "      <td>...</td>\n",
       "      <td>...</td>\n",
       "      <td>...</td>\n",
       "      <td>...</td>\n",
       "      <td>...</td>\n",
       "    </tr>\n",
       "    <tr>\n",
       "      <th>95</th>\n",
       "      <td>e006b1a48f466bf59feefed32bec6494495a4436</td>\n",
       "      <td>SOEGIYH12A6D4FC0E3</td>\n",
       "      <td>3</td>\n",
       "      <td>Horn Concerto No. 4 in E flat K495: II. Romanc...</td>\n",
       "      <td>Mozart - Eine kleine Nachtmusik</td>\n",
       "      <td>Barry Tuckwell/Academy of St Martin-in-the-Fie...</td>\n",
       "      <td>0</td>\n",
       "    </tr>\n",
       "    <tr>\n",
       "      <th>96</th>\n",
       "      <td>e006b1a48f466bf59feefed32bec6494495a4436</td>\n",
       "      <td>SOEKGDE12AB0182795</td>\n",
       "      <td>4</td>\n",
       "      <td>Rhyme &amp; Reason</td>\n",
       "      <td>Listener Supported</td>\n",
       "      <td>DAVE MATTHEWS BAND</td>\n",
       "      <td>1994</td>\n",
       "    </tr>\n",
       "    <tr>\n",
       "      <th>97</th>\n",
       "      <td>e006b1a48f466bf59feefed32bec6494495a4436</td>\n",
       "      <td>SOFRQTD12A81C233C0</td>\n",
       "      <td>3</td>\n",
       "      <td>Sehr kosmisch</td>\n",
       "      <td>Musik von Harmonia</td>\n",
       "      <td>Harmonia</td>\n",
       "      <td>0</td>\n",
       "    </tr>\n",
       "    <tr>\n",
       "      <th>98</th>\n",
       "      <td>e006b1a48f466bf59feefed32bec6494495a4436</td>\n",
       "      <td>SOIICEQ12A6D4F7FE0</td>\n",
       "      <td>1</td>\n",
       "      <td>Someone Else's Arms</td>\n",
       "      <td>Everglow_ The</td>\n",
       "      <td>Mae</td>\n",
       "      <td>2005</td>\n",
       "    </tr>\n",
       "    <tr>\n",
       "      <th>99</th>\n",
       "      <td>e006b1a48f466bf59feefed32bec6494495a4436</td>\n",
       "      <td>SOIRRMU12A6D4FB0C0</td>\n",
       "      <td>2</td>\n",
       "      <td>Cry For Help (Album Version)</td>\n",
       "      <td>The Sound of Madness [Deluxe]</td>\n",
       "      <td>Shinedown</td>\n",
       "      <td>0</td>\n",
       "    </tr>\n",
       "  </tbody>\n",
       "</table>\n",
       "<p>100 rows × 7 columns</p>\n",
       "</div>"
      ],
      "text/plain": [
       "                                     user_id             song_id  play_count  \\\n",
       "0   b80344d063b5ccb3212f76538f3d9e43d87dca9e  SOAKIMP12A8C130995           1   \n",
       "1   b80344d063b5ccb3212f76538f3d9e43d87dca9e  SOBBMDR12A8C13253B           2   \n",
       "2   b80344d063b5ccb3212f76538f3d9e43d87dca9e  SOBXHDL12A81C204C0           1   \n",
       "3   b80344d063b5ccb3212f76538f3d9e43d87dca9e  SOBYHAJ12A6701BF1D           1   \n",
       "4   b80344d063b5ccb3212f76538f3d9e43d87dca9e  SODACBL12A8C13C273           1   \n",
       "..                                       ...                 ...         ...   \n",
       "95  e006b1a48f466bf59feefed32bec6494495a4436  SOEGIYH12A6D4FC0E3           3   \n",
       "96  e006b1a48f466bf59feefed32bec6494495a4436  SOEKGDE12AB0182795           4   \n",
       "97  e006b1a48f466bf59feefed32bec6494495a4436  SOFRQTD12A81C233C0           3   \n",
       "98  e006b1a48f466bf59feefed32bec6494495a4436  SOIICEQ12A6D4F7FE0           1   \n",
       "99  e006b1a48f466bf59feefed32bec6494495a4436  SOIRRMU12A6D4FB0C0           2   \n",
       "\n",
       "                                                title  \\\n",
       "0                                            The Cove   \n",
       "1                                     Entre Dos Aguas   \n",
       "2                                            Stronger   \n",
       "3                                      Constellations   \n",
       "4                                        Learn To Fly   \n",
       "..                                                ...   \n",
       "95  Horn Concerto No. 4 in E flat K495: II. Romanc...   \n",
       "96                                     Rhyme & Reason   \n",
       "97                                      Sehr kosmisch   \n",
       "98                                Someone Else's Arms   \n",
       "99                       Cry For Help (Album Version)   \n",
       "\n",
       "                            release  \\\n",
       "0                Thicker Than Water   \n",
       "1               Flamenco Para Niños   \n",
       "2                        Graduation   \n",
       "3                 In Between Dreams   \n",
       "4     There Is Nothing Left To Lose   \n",
       "..                              ...   \n",
       "95  Mozart - Eine kleine Nachtmusik   \n",
       "96               Listener Supported   \n",
       "97               Musik von Harmonia   \n",
       "98                    Everglow_ The   \n",
       "99    The Sound of Madness [Deluxe]   \n",
       "\n",
       "                                          artist_name  year  \n",
       "0                                        Jack Johnson     0  \n",
       "1                                       Paco De Lucia  1976  \n",
       "2                                          Kanye West  2007  \n",
       "3                                        Jack Johnson  2005  \n",
       "4                                        Foo Fighters  1999  \n",
       "..                                                ...   ...  \n",
       "95  Barry Tuckwell/Academy of St Martin-in-the-Fie...     0  \n",
       "96                                 DAVE MATTHEWS BAND  1994  \n",
       "97                                           Harmonia     0  \n",
       "98                                                Mae  2005  \n",
       "99                                          Shinedown     0  \n",
       "\n",
       "[100 rows x 7 columns]"
      ]
     },
     "execution_count": 14,
     "metadata": {},
     "output_type": "execute_result"
    }
   ],
   "source": [
    "df.head(100)"
   ]
  },
  {
   "cell_type": "markdown",
   "metadata": {
    "id": "_1QKt4hDDlKI"
   },
   "source": [
    "### **As the user_id and song_id are encrypted we can take advantage of it by encoding user_id and song_id values to numeric features**"
   ]
  },
  {
   "cell_type": "code",
   "execution_count": 15,
   "metadata": {
    "id": "TCFJHlLkDhNH"
   },
   "outputs": [],
   "source": [
    "# Apply label encoding for \"user_id\" and \"song_id\"\n",
    "\n",
    "le = LabelEncoder() # Instantiating LabelEncoder from sklearn\n",
    "\n",
    "df['user_id'] = le.fit_transform(df['user_id'])\n",
    "df['song_id'] = le.fit_transform(df['song_id'])"
   ]
  },
  {
   "cell_type": "code",
   "execution_count": 16,
   "metadata": {
    "colab": {
     "base_uri": "https://localhost:8080/",
     "height": 423
    },
    "id": "rBu8yZRCDrSM",
    "outputId": "5acaff9f-2b44-44c0-ba9b-66b844b0f97b"
   },
   "outputs": [
    {
     "data": {
      "text/html": [
       "<div>\n",
       "<style scoped>\n",
       "    .dataframe tbody tr th:only-of-type {\n",
       "        vertical-align: middle;\n",
       "    }\n",
       "\n",
       "    .dataframe tbody tr th {\n",
       "        vertical-align: top;\n",
       "    }\n",
       "\n",
       "    .dataframe thead th {\n",
       "        text-align: right;\n",
       "    }\n",
       "</style>\n",
       "<table border=\"1\" class=\"dataframe\">\n",
       "  <thead>\n",
       "    <tr style=\"text-align: right;\">\n",
       "      <th></th>\n",
       "      <th>user_id</th>\n",
       "      <th>song_id</th>\n",
       "      <th>play_count</th>\n",
       "      <th>title</th>\n",
       "      <th>release</th>\n",
       "      <th>artist_name</th>\n",
       "      <th>year</th>\n",
       "    </tr>\n",
       "  </thead>\n",
       "  <tbody>\n",
       "    <tr>\n",
       "      <th>0</th>\n",
       "      <td>54961</td>\n",
       "      <td>153</td>\n",
       "      <td>1</td>\n",
       "      <td>The Cove</td>\n",
       "      <td>Thicker Than Water</td>\n",
       "      <td>Jack Johnson</td>\n",
       "      <td>0</td>\n",
       "    </tr>\n",
       "    <tr>\n",
       "      <th>1</th>\n",
       "      <td>54961</td>\n",
       "      <td>413</td>\n",
       "      <td>2</td>\n",
       "      <td>Entre Dos Aguas</td>\n",
       "      <td>Flamenco Para Niños</td>\n",
       "      <td>Paco De Lucia</td>\n",
       "      <td>1976</td>\n",
       "    </tr>\n",
       "    <tr>\n",
       "      <th>2</th>\n",
       "      <td>54961</td>\n",
       "      <td>736</td>\n",
       "      <td>1</td>\n",
       "      <td>Stronger</td>\n",
       "      <td>Graduation</td>\n",
       "      <td>Kanye West</td>\n",
       "      <td>2007</td>\n",
       "    </tr>\n",
       "    <tr>\n",
       "      <th>3</th>\n",
       "      <td>54961</td>\n",
       "      <td>750</td>\n",
       "      <td>1</td>\n",
       "      <td>Constellations</td>\n",
       "      <td>In Between Dreams</td>\n",
       "      <td>Jack Johnson</td>\n",
       "      <td>2005</td>\n",
       "    </tr>\n",
       "    <tr>\n",
       "      <th>4</th>\n",
       "      <td>54961</td>\n",
       "      <td>1188</td>\n",
       "      <td>1</td>\n",
       "      <td>Learn To Fly</td>\n",
       "      <td>There Is Nothing Left To Lose</td>\n",
       "      <td>Foo Fighters</td>\n",
       "      <td>1999</td>\n",
       "    </tr>\n",
       "    <tr>\n",
       "      <th>...</th>\n",
       "      <td>...</td>\n",
       "      <td>...</td>\n",
       "      <td>...</td>\n",
       "      <td>...</td>\n",
       "      <td>...</td>\n",
       "      <td>...</td>\n",
       "      <td>...</td>\n",
       "    </tr>\n",
       "    <tr>\n",
       "      <th>95</th>\n",
       "      <td>66678</td>\n",
       "      <td>1664</td>\n",
       "      <td>3</td>\n",
       "      <td>Horn Concerto No. 4 in E flat K495: II. Romanc...</td>\n",
       "      <td>Mozart - Eine kleine Nachtmusik</td>\n",
       "      <td>Barry Tuckwell/Academy of St Martin-in-the-Fie...</td>\n",
       "      <td>0</td>\n",
       "    </tr>\n",
       "    <tr>\n",
       "      <th>96</th>\n",
       "      <td>66678</td>\n",
       "      <td>1731</td>\n",
       "      <td>4</td>\n",
       "      <td>Rhyme &amp; Reason</td>\n",
       "      <td>Listener Supported</td>\n",
       "      <td>DAVE MATTHEWS BAND</td>\n",
       "      <td>1994</td>\n",
       "    </tr>\n",
       "    <tr>\n",
       "      <th>97</th>\n",
       "      <td>66678</td>\n",
       "      <td>2220</td>\n",
       "      <td>3</td>\n",
       "      <td>Sehr kosmisch</td>\n",
       "      <td>Musik von Harmonia</td>\n",
       "      <td>Harmonia</td>\n",
       "      <td>0</td>\n",
       "    </tr>\n",
       "    <tr>\n",
       "      <th>98</th>\n",
       "      <td>66678</td>\n",
       "      <td>3305</td>\n",
       "      <td>1</td>\n",
       "      <td>Someone Else's Arms</td>\n",
       "      <td>Everglow_ The</td>\n",
       "      <td>Mae</td>\n",
       "      <td>2005</td>\n",
       "    </tr>\n",
       "    <tr>\n",
       "      <th>99</th>\n",
       "      <td>66678</td>\n",
       "      <td>3456</td>\n",
       "      <td>2</td>\n",
       "      <td>Cry For Help (Album Version)</td>\n",
       "      <td>The Sound of Madness [Deluxe]</td>\n",
       "      <td>Shinedown</td>\n",
       "      <td>0</td>\n",
       "    </tr>\n",
       "  </tbody>\n",
       "</table>\n",
       "<p>100 rows × 7 columns</p>\n",
       "</div>"
      ],
      "text/plain": [
       "    user_id  song_id  play_count  \\\n",
       "0     54961      153           1   \n",
       "1     54961      413           2   \n",
       "2     54961      736           1   \n",
       "3     54961      750           1   \n",
       "4     54961     1188           1   \n",
       "..      ...      ...         ...   \n",
       "95    66678     1664           3   \n",
       "96    66678     1731           4   \n",
       "97    66678     2220           3   \n",
       "98    66678     3305           1   \n",
       "99    66678     3456           2   \n",
       "\n",
       "                                                title  \\\n",
       "0                                            The Cove   \n",
       "1                                     Entre Dos Aguas   \n",
       "2                                            Stronger   \n",
       "3                                      Constellations   \n",
       "4                                        Learn To Fly   \n",
       "..                                                ...   \n",
       "95  Horn Concerto No. 4 in E flat K495: II. Romanc...   \n",
       "96                                     Rhyme & Reason   \n",
       "97                                      Sehr kosmisch   \n",
       "98                                Someone Else's Arms   \n",
       "99                       Cry For Help (Album Version)   \n",
       "\n",
       "                            release  \\\n",
       "0                Thicker Than Water   \n",
       "1               Flamenco Para Niños   \n",
       "2                        Graduation   \n",
       "3                 In Between Dreams   \n",
       "4     There Is Nothing Left To Lose   \n",
       "..                              ...   \n",
       "95  Mozart - Eine kleine Nachtmusik   \n",
       "96               Listener Supported   \n",
       "97               Musik von Harmonia   \n",
       "98                    Everglow_ The   \n",
       "99    The Sound of Madness [Deluxe]   \n",
       "\n",
       "                                          artist_name  year  \n",
       "0                                        Jack Johnson     0  \n",
       "1                                       Paco De Lucia  1976  \n",
       "2                                          Kanye West  2007  \n",
       "3                                        Jack Johnson  2005  \n",
       "4                                        Foo Fighters  1999  \n",
       "..                                                ...   ...  \n",
       "95  Barry Tuckwell/Academy of St Martin-in-the-Fie...     0  \n",
       "96                                 DAVE MATTHEWS BAND  1994  \n",
       "97                                           Harmonia     0  \n",
       "98                                                Mae  2005  \n",
       "99                                          Shinedown     0  \n",
       "\n",
       "[100 rows x 7 columns]"
      ]
     },
     "execution_count": 16,
     "metadata": {},
     "output_type": "execute_result"
    }
   ],
   "source": [
    "df.head(100)"
   ]
  },
  {
   "cell_type": "code",
   "execution_count": 17,
   "metadata": {},
   "outputs": [
    {
     "name": "stdout",
     "output_type": "stream",
     "text": [
      "Total number of unique user_id:  76353\n"
     ]
    }
   ],
   "source": [
    "# Display total number of unique user_id\n",
    "print('Total number of unique user_id: ', df.user_id.nunique())"
   ]
  },
  {
   "cell_type": "code",
   "execution_count": 18,
   "metadata": {},
   "outputs": [
    {
     "name": "stdout",
     "output_type": "stream",
     "text": [
      "Total number of unique song_id:  10000\n"
     ]
    }
   ],
   "source": [
    "# Display total number of unique song_id\n",
    "print('Total number of unique song_id: ', df.song_id.nunique())"
   ]
  },
  {
   "cell_type": "code",
   "execution_count": 19,
   "metadata": {},
   "outputs": [
    {
     "name": "stdout",
     "output_type": "stream",
     "text": [
      "Total number of play_count in the dataset:  (2000000, 7)\n"
     ]
    }
   ],
   "source": [
    "# Display total number of user_id, song_id and play_count in the dataset\n",
    "print('Total number of play_count in the dataset: ', df[df['play_count'] > 0].shape)"
   ]
  },
  {
   "cell_type": "code",
   "execution_count": 20,
   "metadata": {},
   "outputs": [
    {
     "data": {
      "text/plain": [
       "(2000000, 7)"
      ]
     },
     "execution_count": 20,
     "metadata": {},
     "output_type": "execute_result"
    }
   ],
   "source": [
    "df.shape"
   ]
  },
  {
   "cell_type": "code",
   "execution_count": 21,
   "metadata": {},
   "outputs": [
    {
     "name": "stdout",
     "output_type": "stream",
     "text": [
      "763530000\n",
      "Fraction of known play_count:  0.0026194124657839247\n"
     ]
    }
   ],
   "source": [
    "# Fraction known play_count \n",
    "print(76353*10000)\n",
    "print('Fraction of known play_count: ', 2000000 / (76353*10000))"
   ]
  },
  {
   "cell_type": "markdown",
   "metadata": {
    "id": "hpKDdNsdDyN4"
   },
   "source": [
    "### **As the data also contains users who have listened to very few songs and vice versa, we propose to filter the data so that it contains users who have listened to a good count of songs and vice versa**"
   ]
  },
  {
   "cell_type": "code",
   "execution_count": 22,
   "metadata": {
    "id": "nkojogM-Dubw"
   },
   "outputs": [],
   "source": [
    "# Get the column containing the users\n",
    "users = df.user_id\n",
    "\n",
    "# Create a dictionary from users to their number of songs\n",
    "ratings_count = dict()\n",
    "\n",
    "for user in users:\n",
    "    # If we already have the user, just add 1 to their rating count\n",
    "    if user in ratings_count:\n",
    "        ratings_count[user] += 1\n",
    "    \n",
    "    # Otherwise, set their rating count to 1\n",
    "    else:\n",
    "        ratings_count[user] = 1"
   ]
  },
  {
   "cell_type": "code",
   "execution_count": 23,
   "metadata": {
    "id": "2v5sfgjZD1i9"
   },
   "outputs": [],
   "source": [
    "# We want our users to have listened at least 90 songs\n",
    "RATINGS_CUTOFF = 90\n",
    "\n",
    "# Create a list of users who need to be removed\n",
    "remove_users = []\n",
    "\n",
    "for user, num_ratings in ratings_count.items():\n",
    "    \n",
    "    if num_ratings < RATINGS_CUTOFF:\n",
    "        remove_users.append(user)\n",
    "\n",
    "df = df.loc[ ~ df.user_id.isin(remove_users)]"
   ]
  },
  {
   "cell_type": "code",
   "execution_count": 24,
   "metadata": {
    "id": "cwYSD4sqD3xN"
   },
   "outputs": [],
   "source": [
    "# Get the column containing the songs\n",
    "songs = df.song_id\n",
    "\n",
    "# Create a dictionary from songs to their number of users\n",
    "ratings_count = dict()\n",
    "\n",
    "for song in songs:\n",
    "    # If we already have the song, just add 1 to their rating count\n",
    "    if song in ratings_count:\n",
    "        ratings_count[song] += 1\n",
    "    \n",
    "    # Otherwise, set their rating count to 1\n",
    "    else:\n",
    "        ratings_count[song] = 1    "
   ]
  },
  {
   "cell_type": "code",
   "execution_count": 25,
   "metadata": {
    "id": "hDU8v1YVD5Gu"
   },
   "outputs": [],
   "source": [
    "# We want our song to be listened by atleast 120 users to be considred\n",
    "RATINGS_CUTOFF = 120\n",
    "\n",
    "remove_songs = []\n",
    "\n",
    "for song, num_ratings in ratings_count.items():\n",
    "    if num_ratings < RATINGS_CUTOFF:\n",
    "        remove_songs.append(song)\n",
    "\n",
    "df_final= df.loc[ ~ df.song_id.isin(remove_songs)]"
   ]
  },
  {
   "cell_type": "code",
   "execution_count": 26,
   "metadata": {
    "id": "H1jfh8PSD64i"
   },
   "outputs": [],
   "source": [
    "# Drop records with play_count more than(>) 5\n",
    "df_final = df_final[df_final.play_count <= 5]"
   ]
  },
  {
   "cell_type": "code",
   "execution_count": 27,
   "metadata": {
    "colab": {
     "base_uri": "https://localhost:8080/"
    },
    "id": "m2JWNK3AD8Je",
    "outputId": "13834bf3-7f90-45c7-a23a-1c00027ccdf5"
   },
   "outputs": [
    {
     "data": {
      "text/plain": [
       "(117876, 7)"
      ]
     },
     "execution_count": 27,
     "metadata": {},
     "output_type": "execute_result"
    }
   ],
   "source": [
    "# Check the shape of the data\n",
    "df_final.shape"
   ]
  },
  {
   "cell_type": "markdown",
   "metadata": {
    "id": "YGcQOz-sGlSd"
   },
   "source": [
    "#### **Observations and Insights:**\n",
    "\n",
    "* The constraints that we mainly follow given the subset that we have post filtering, it's the provision of the characteristics of a small dataset of 117,876 played songs (user_id and song_id pairs) of the universe of possibilities of the Million Song Dataset.\n",
    "\n",
    "* In the current project, as the user_id and song_id are given in the text format, it becomes necessary to convert them to numbers so that we can pass them to the algorithms."
   ]
  },
  {
   "cell_type": "markdown",
   "metadata": {
    "id": "4LsknGfAHATH"
   },
   "source": [
    "## **Exploratory Data Analysis**"
   ]
  },
  {
   "cell_type": "markdown",
   "metadata": {
    "id": "Qlu1GUUrHCAv"
   },
   "source": [
    "### **Let's check the total number of unique users, songs, artists in the data**\n"
   ]
  },
  {
   "cell_type": "code",
   "execution_count": 28,
   "metadata": {
    "colab": {
     "base_uri": "https://localhost:8080/"
    },
    "id": "q6vjAh_TD9fT",
    "outputId": "4106756e-9703-499a-f184-7e5dc1eef80a"
   },
   "outputs": [
    {
     "name": "stdout",
     "output_type": "stream",
     "text": [
      "Total number of unique user_id:  3155\n"
     ]
    }
   ],
   "source": [
    "# Display total number of unique user_id\n",
    "print('Total number of unique user_id: ', df_final.user_id.nunique())"
   ]
  },
  {
   "cell_type": "code",
   "execution_count": 29,
   "metadata": {
    "colab": {
     "base_uri": "https://localhost:8080/"
    },
    "id": "h8AmWimUHI-P",
    "outputId": "6c80fb8e-ec1b-4e0f-ae04-ab6ed92eaa02"
   },
   "outputs": [
    {
     "name": "stdout",
     "output_type": "stream",
     "text": [
      "Total number of unique song_id:  563\n"
     ]
    }
   ],
   "source": [
    "# Display total number of unique song_id\n",
    "print('Total number of unique song_id: ', df_final.song_id.nunique())"
   ]
  },
  {
   "cell_type": "code",
   "execution_count": 30,
   "metadata": {
    "colab": {
     "base_uri": "https://localhost:8080/"
    },
    "id": "0NYSCoyXHKs_",
    "outputId": "b5acfbe6-89a7-4c36-ccc4-59cfbf4f8da1"
   },
   "outputs": [
    {
     "name": "stdout",
     "output_type": "stream",
     "text": [
      "Total number of unique artists:  232\n"
     ]
    }
   ],
   "source": [
    "# Display total number of unique artists\n",
    "print('Total number of unique artists: ', df_final.artist_name.nunique())"
   ]
  },
  {
   "cell_type": "markdown",
   "metadata": {
    "id": "xzijxAQJHQlG"
   },
   "source": [
    "#### **Observations and Insights:**\n",
    "\n",
    "* There are **3155 unique user**s in the \"Million Song Dataset\" dataset.\n",
    "* There are **563 unique songs** in the dataset.\n",
    "* As per the number of unique users and songs, there is a **possibility of 3155 * 563 = 1,776,265 listened songs** in the dataset. But we only have 117,876 played songs, i.e., not every user has listened every song in the dataset, which is quite understandable. This creates the possibility of building a recommendation system to recommend songs to the users which they have not interacted with.\n",
    "* **For user engagement,** we might add data from the analytics of the music platform to the current dataset. However, adding web-scraped data to the original data of the current project will alter the results and affect the novelty of the problem itself. Keeping this in mind, it is advisable to proceed with the given data only. So, we don't have access to important information that would model the interactions between user songs, such as:\n",
    "  * Listening time and average listening duration\n",
    "  * Likes, Dislikes\n",
    "  * Comments\n",
    "  * ..."
   ]
  },
  {
   "cell_type": "markdown",
   "metadata": {
    "id": "tq3EzXe9L4oi"
   },
   "source": [
    "### **Let's find out about the most interacted songs and interacted users**"
   ]
  },
  {
   "cell_type": "markdown",
   "metadata": {
    "id": "dljeGdPfL9Ir"
   },
   "source": [
    "#### **Is there any song that has been interacted with more than once by the same user?**"
   ]
  },
  {
   "cell_type": "code",
   "execution_count": 31,
   "metadata": {
    "colab": {
     "base_uri": "https://localhost:8080/",
     "height": 455
    },
    "id": "eG9T5e0tL7rZ",
    "outputId": "49f6ccad-6bd7-481a-fdf2-d0f596cf383e"
   },
   "outputs": [
    {
     "data": {
      "text/html": [
       "<div>\n",
       "<style scoped>\n",
       "    .dataframe tbody tr th:only-of-type {\n",
       "        vertical-align: middle;\n",
       "    }\n",
       "\n",
       "    .dataframe tbody tr th {\n",
       "        vertical-align: top;\n",
       "    }\n",
       "\n",
       "    .dataframe thead th {\n",
       "        text-align: right;\n",
       "    }\n",
       "</style>\n",
       "<table border=\"1\" class=\"dataframe\">\n",
       "  <thead>\n",
       "    <tr style=\"text-align: right;\">\n",
       "      <th></th>\n",
       "      <th></th>\n",
       "      <th>play_count</th>\n",
       "      <th>title</th>\n",
       "      <th>release</th>\n",
       "      <th>artist_name</th>\n",
       "      <th>year</th>\n",
       "    </tr>\n",
       "    <tr>\n",
       "      <th>user_id</th>\n",
       "      <th>song_id</th>\n",
       "      <th></th>\n",
       "      <th></th>\n",
       "      <th></th>\n",
       "      <th></th>\n",
       "      <th></th>\n",
       "    </tr>\n",
       "  </thead>\n",
       "  <tbody>\n",
       "    <tr>\n",
       "      <th rowspan=\"3\" valign=\"top\">11</th>\n",
       "      <th>5158</th>\n",
       "      <td>1</td>\n",
       "      <td>1</td>\n",
       "      <td>1</td>\n",
       "      <td>1</td>\n",
       "      <td>1</td>\n",
       "    </tr>\n",
       "    <tr>\n",
       "      <th>8019</th>\n",
       "      <td>1</td>\n",
       "      <td>1</td>\n",
       "      <td>1</td>\n",
       "      <td>1</td>\n",
       "      <td>1</td>\n",
       "    </tr>\n",
       "    <tr>\n",
       "      <th>8882</th>\n",
       "      <td>1</td>\n",
       "      <td>1</td>\n",
       "      <td>1</td>\n",
       "      <td>1</td>\n",
       "      <td>1</td>\n",
       "    </tr>\n",
       "    <tr>\n",
       "      <th rowspan=\"2\" valign=\"top\">17</th>\n",
       "      <th>314</th>\n",
       "      <td>1</td>\n",
       "      <td>1</td>\n",
       "      <td>1</td>\n",
       "      <td>1</td>\n",
       "      <td>1</td>\n",
       "    </tr>\n",
       "    <tr>\n",
       "      <th>703</th>\n",
       "      <td>1</td>\n",
       "      <td>1</td>\n",
       "      <td>1</td>\n",
       "      <td>1</td>\n",
       "      <td>1</td>\n",
       "    </tr>\n",
       "    <tr>\n",
       "      <th>...</th>\n",
       "      <th>...</th>\n",
       "      <td>...</td>\n",
       "      <td>...</td>\n",
       "      <td>...</td>\n",
       "      <td>...</td>\n",
       "      <td>...</td>\n",
       "    </tr>\n",
       "    <tr>\n",
       "      <th rowspan=\"4\" valign=\"top\">76342</th>\n",
       "      <th>5375</th>\n",
       "      <td>1</td>\n",
       "      <td>1</td>\n",
       "      <td>1</td>\n",
       "      <td>1</td>\n",
       "      <td>1</td>\n",
       "    </tr>\n",
       "    <tr>\n",
       "      <th>7889</th>\n",
       "      <td>1</td>\n",
       "      <td>1</td>\n",
       "      <td>1</td>\n",
       "      <td>1</td>\n",
       "      <td>1</td>\n",
       "    </tr>\n",
       "    <tr>\n",
       "      <th>8494</th>\n",
       "      <td>1</td>\n",
       "      <td>1</td>\n",
       "      <td>1</td>\n",
       "      <td>1</td>\n",
       "      <td>1</td>\n",
       "    </tr>\n",
       "    <tr>\n",
       "      <th>9942</th>\n",
       "      <td>1</td>\n",
       "      <td>1</td>\n",
       "      <td>1</td>\n",
       "      <td>1</td>\n",
       "      <td>1</td>\n",
       "    </tr>\n",
       "    <tr>\n",
       "      <th>76347</th>\n",
       "      <th>5879</th>\n",
       "      <td>1</td>\n",
       "      <td>1</td>\n",
       "      <td>1</td>\n",
       "      <td>1</td>\n",
       "      <td>1</td>\n",
       "    </tr>\n",
       "  </tbody>\n",
       "</table>\n",
       "<p>117876 rows × 5 columns</p>\n",
       "</div>"
      ],
      "text/plain": [
       "                 play_count  title  release  artist_name  year\n",
       "user_id song_id                                               \n",
       "11      5158              1      1        1            1     1\n",
       "        8019              1      1        1            1     1\n",
       "        8882              1      1        1            1     1\n",
       "17      314               1      1        1            1     1\n",
       "        703               1      1        1            1     1\n",
       "...                     ...    ...      ...          ...   ...\n",
       "76342   5375              1      1        1            1     1\n",
       "        7889              1      1        1            1     1\n",
       "        8494              1      1        1            1     1\n",
       "        9942              1      1        1            1     1\n",
       "76347   5879              1      1        1            1     1\n",
       "\n",
       "[117876 rows x 5 columns]"
      ]
     },
     "execution_count": 31,
     "metadata": {},
     "output_type": "execute_result"
    }
   ],
   "source": [
    "# Finding the frequency of songs played by each user\n",
    "df_final.groupby(['user_id', 'song_id']).count()"
   ]
  },
  {
   "cell_type": "code",
   "execution_count": 32,
   "metadata": {
    "colab": {
     "base_uri": "https://localhost:8080/"
    },
    "id": "0Hrv5EhlMBL-",
    "outputId": "756a7bd5-8f24-40ec-ba58-8469112c1139"
   },
   "outputs": [
    {
     "data": {
      "text/plain": [
       "117876"
      ]
     },
     "execution_count": 32,
     "metadata": {},
     "output_type": "execute_result"
    }
   ],
   "source": [
    "# Finding the sum of ratings count by user-song pair\n",
    "df_final.groupby(['user_id', 'song_id']).count()['play_count'].sum()"
   ]
  },
  {
   "cell_type": "code",
   "execution_count": 33,
   "metadata": {
    "colab": {
     "base_uri": "https://localhost:8080/"
    },
    "id": "VZ-tABmPMCyR",
    "outputId": "d30352f0-d70a-40f2-cdab-7c1387587b97"
   },
   "outputs": [
    {
     "data": {
      "text/plain": [
       "0"
      ]
     },
     "execution_count": 33,
     "metadata": {},
     "output_type": "execute_result"
    }
   ],
   "source": [
    "df_final.duplicated(subset=['user_id', 'song_id']).sum()"
   ]
  },
  {
   "cell_type": "markdown",
   "metadata": {
    "id": "h0U_v3b8MPAr"
   },
   "source": [
    "### **Most interacted songs**"
   ]
  },
  {
   "cell_type": "code",
   "execution_count": 34,
   "metadata": {
    "colab": {
     "base_uri": "https://localhost:8080/"
    },
    "id": "fXEsSB23MG04",
    "outputId": "0179025b-c1ea-4adc-979f-fd81e56b0794"
   },
   "outputs": [
    {
     "data": {
      "text/plain": [
       "8582    751\n",
       "352     748\n",
       "2220    713\n",
       "1118    662\n",
       "4152    652\n",
       "       ... \n",
       "9048    103\n",
       "6450    102\n",
       "990     101\n",
       "4831     97\n",
       "8324     96\n",
       "Name: song_id, Length: 563, dtype: int64"
      ]
     },
     "execution_count": 34,
     "metadata": {},
     "output_type": "execute_result"
    }
   ],
   "source": [
    "# Counting the number of people who have listened a certain song\n",
    "df_final['song_id'].value_counts()"
   ]
  },
  {
   "cell_type": "markdown",
   "metadata": {
    "id": "dvq9q56yMVCo"
   },
   "source": [
    "Also, out of these 751 interactions, we need to consider the distribution of play_count as well to check whether this song is the most liked or most disliked song."
   ]
  },
  {
   "cell_type": "code",
   "execution_count": 35,
   "metadata": {
    "colab": {
     "base_uri": "https://localhost:8080/",
     "height": 439
    },
    "id": "IA2668lqMS57",
    "outputId": "48103679-421c-46df-8b44-ef18418446d8"
   },
   "outputs": [
    {
     "data": {
      "image/png": "[encoded data removed]",
      "text/plain": [
       "<Figure size 504x504 with 1 Axes>"
      ]
     },
     "metadata": {
      "needs_background": "light"
     },
     "output_type": "display_data"
    }
   ],
   "source": [
    "# Plotting distributions of play_count for 751 interactions with song_id 8582\n",
    "\n",
    "# Let us fix the size of the figure\n",
    "plt.figure(figsize = (7, 7))\n",
    "\n",
    "df_final[df_final['song_id'] == 8582]['play_count'].value_counts().plot(kind = 'bar')\n",
    "\n",
    "# This gives a label to the variable on the x-axis\n",
    "plt.xlabel('Play Count')\n",
    "\n",
    "# This gives a label to the variable on the y-axis\n",
    "plt.ylabel('Count')\n",
    "\n",
    "# This displays the plot\n",
    "plt.show()"
   ]
  },
  {
   "cell_type": "code",
   "execution_count": 36,
   "metadata": {
    "colab": {
     "base_uri": "https://localhost:8080/",
     "height": 455
    },
    "id": "cpsTGcbeMcmw",
    "outputId": "5c10027a-4f57-46f4-8ae0-0a113b360297"
   },
   "outputs": [
    {
     "data": {
      "text/html": [
       "<div>\n",
       "<style scoped>\n",
       "    .dataframe tbody tr th:only-of-type {\n",
       "        vertical-align: middle;\n",
       "    }\n",
       "\n",
       "    .dataframe tbody tr th {\n",
       "        vertical-align: top;\n",
       "    }\n",
       "\n",
       "    .dataframe thead th {\n",
       "        text-align: right;\n",
       "    }\n",
       "</style>\n",
       "<table border=\"1\" class=\"dataframe\">\n",
       "  <thead>\n",
       "    <tr style=\"text-align: right;\">\n",
       "      <th></th>\n",
       "      <th>count</th>\n",
       "      <th>median</th>\n",
       "      <th>mean</th>\n",
       "    </tr>\n",
       "    <tr>\n",
       "      <th>song_id</th>\n",
       "      <th></th>\n",
       "      <th></th>\n",
       "      <th></th>\n",
       "    </tr>\n",
       "  </thead>\n",
       "  <tbody>\n",
       "    <tr>\n",
       "      <th>8582</th>\n",
       "      <td>751</td>\n",
       "      <td>2.0</td>\n",
       "      <td>1.948069</td>\n",
       "    </tr>\n",
       "    <tr>\n",
       "      <th>352</th>\n",
       "      <td>748</td>\n",
       "      <td>2.0</td>\n",
       "      <td>2.184492</td>\n",
       "    </tr>\n",
       "    <tr>\n",
       "      <th>2220</th>\n",
       "      <td>713</td>\n",
       "      <td>2.0</td>\n",
       "      <td>2.220196</td>\n",
       "    </tr>\n",
       "    <tr>\n",
       "      <th>1118</th>\n",
       "      <td>662</td>\n",
       "      <td>1.0</td>\n",
       "      <td>1.817221</td>\n",
       "    </tr>\n",
       "    <tr>\n",
       "      <th>4152</th>\n",
       "      <td>652</td>\n",
       "      <td>2.0</td>\n",
       "      <td>1.930982</td>\n",
       "    </tr>\n",
       "    <tr>\n",
       "      <th>...</th>\n",
       "      <td>...</td>\n",
       "      <td>...</td>\n",
       "      <td>...</td>\n",
       "    </tr>\n",
       "    <tr>\n",
       "      <th>9048</th>\n",
       "      <td>103</td>\n",
       "      <td>1.0</td>\n",
       "      <td>1.970874</td>\n",
       "    </tr>\n",
       "    <tr>\n",
       "      <th>6450</th>\n",
       "      <td>102</td>\n",
       "      <td>1.0</td>\n",
       "      <td>2.578431</td>\n",
       "    </tr>\n",
       "    <tr>\n",
       "      <th>990</th>\n",
       "      <td>101</td>\n",
       "      <td>1.0</td>\n",
       "      <td>1.732673</td>\n",
       "    </tr>\n",
       "    <tr>\n",
       "      <th>4831</th>\n",
       "      <td>97</td>\n",
       "      <td>2.0</td>\n",
       "      <td>2.206186</td>\n",
       "    </tr>\n",
       "    <tr>\n",
       "      <th>8324</th>\n",
       "      <td>96</td>\n",
       "      <td>1.0</td>\n",
       "      <td>2.625000</td>\n",
       "    </tr>\n",
       "  </tbody>\n",
       "</table>\n",
       "<p>563 rows × 3 columns</p>\n",
       "</div>"
      ],
      "text/plain": [
       "         count  median      mean\n",
       "song_id                         \n",
       "8582       751     2.0  1.948069\n",
       "352        748     2.0  2.184492\n",
       "2220       713     2.0  2.220196\n",
       "1118       662     1.0  1.817221\n",
       "4152       652     2.0  1.930982\n",
       "...        ...     ...       ...\n",
       "9048       103     1.0  1.970874\n",
       "6450       102     1.0  2.578431\n",
       "990        101     1.0  1.732673\n",
       "4831        97     2.0  2.206186\n",
       "8324        96     1.0  2.625000\n",
       "\n",
       "[563 rows x 3 columns]"
      ]
     },
     "execution_count": 36,
     "metadata": {},
     "output_type": "execute_result"
    }
   ],
   "source": [
    "df_final.groupby('song_id')['play_count'].agg(['count', 'median', 'mean']).sort_values(by='count', ascending = False)"
   ]
  },
  {
   "cell_type": "markdown",
   "metadata": {
    "id": "t1dEzlMyMhm9"
   },
   "source": [
    "#### **Observations and Insights:**\n",
    "\n",
    "* We can see that the song 8582 has been listened to by the majority of users typically 2 times.\n",
    "* There can be songs with very high interactions, but the play_count 1 and 2 may be much higher than the play_count 4 or 5 which would imply that the song is known by the majority of the user, but they don't necessarily like that song."
   ]
  },
  {
   "cell_type": "markdown",
   "metadata": {
    "id": "g44UlzkWMsfp"
   },
   "source": [
    "### **Most interacted users**"
   ]
  },
  {
   "cell_type": "code",
   "execution_count": 37,
   "metadata": {
    "colab": {
     "base_uri": "https://localhost:8080/"
    },
    "id": "TxPIvROcMe4R",
    "outputId": "eb1e4aaa-3445-4b51-ab7e-8d74798e02ec"
   },
   "outputs": [
    {
     "data": {
      "text/plain": [
       "61472    243\n",
       "15733    227\n",
       "37049    202\n",
       "9570     184\n",
       "23337    177\n",
       "        ... \n",
       "19776      1\n",
       "45476      1\n",
       "17961      1\n",
       "14439      1\n",
       "10412      1\n",
       "Name: user_id, Length: 3155, dtype: int64"
      ]
     },
     "execution_count": 37,
     "metadata": {},
     "output_type": "execute_result"
    }
   ],
   "source": [
    "# Counting the number of movies each user has watched\n",
    "df_final['user_id'].value_counts()"
   ]
  },
  {
   "cell_type": "markdown",
   "metadata": {
    "id": "9-JV4tUJMxw-"
   },
   "source": [
    "#### **Observations and Insights:**\n",
    "\n",
    "* The sum is equal to the total number of observations, which implies that there is only one interaction between a pair of a song and a user.\n",
    "* The song with song_id 8582 has been interacted by most users which is 751 times.\n",
    "* But still, there is a possibility of 3155-751 = 2404 more interactions as we have 3155 unique users in our dataset. For those 2404 remaining users, we can build a recommendation system to predict who is most likely to interact with this song.\n",
    "* The user with user_id: 61472 has interacted with the most number of songs, i.e., 243 times.\n",
    "* But still, there is a possibility of 320 more interactions as we have 563 unique songs in our dataset. For those 320 remaining songs, we can build a recommendation system to predict which songs are most likely to be listened by the user 61472."
   ]
  },
  {
   "cell_type": "markdown",
   "metadata": {
    "id": "yTvIqi7uM1yj"
   },
   "source": [
    "### **What is the distribution of the user-song interactions in this dataset?**"
   ]
  },
  {
   "cell_type": "code",
   "execution_count": 38,
   "metadata": {
    "id": "ysINRFaQMu8C"
   },
   "outputs": [],
   "source": [
    "# Finding user-song interactions distribution\n",
    "song_count = df_final.groupby('user_id').count()[['song_id']]"
   ]
  },
  {
   "cell_type": "code",
   "execution_count": 39,
   "metadata": {
    "colab": {
     "base_uri": "https://localhost:8080/",
     "height": 406
    },
    "id": "YzXhekc-M5EU",
    "outputId": "e5e9413b-ee13-4e14-b560-077f41a6a05c"
   },
   "outputs": [
    {
     "data": {
      "text/plain": [
       "Text(0.5, 0, 'Number of unique songs a user listens to')"
      ]
     },
     "execution_count": 39,
     "metadata": {},
     "output_type": "execute_result"
    },
    {
     "data": {
      "image/png": "[encoded data removed]",
      "text/plain": [
       "<Figure size 720x432 with 1 Axes>"
      ]
     },
     "metadata": {
      "needs_background": "light"
     },
     "output_type": "display_data"
    }
   ],
   "source": [
    "fig1 = plt.figure(figsize=(10,6))\n",
    "\n",
    "sns.distplot(song_count)\n",
    "plt.xlabel(\"Number of unique songs a user listens to\")"
   ]
  },
  {
   "cell_type": "markdown",
   "metadata": {
    "id": "ru5x_OSXNxwO"
   },
   "source": [
    "### **Observations:**\n",
    "\n",
    "* The plot shows that most users listen to less than 200 songs. Let's take a closer look at the box plot of this distribution."
   ]
  },
  {
   "cell_type": "code",
   "execution_count": 40,
   "metadata": {
    "colab": {
     "base_uri": "https://localhost:8080/",
     "height": 422
    },
    "id": "6g4uGXeMM6RD",
    "outputId": "2967cab8-ae09-4934-fb86-1c39f1150914"
   },
   "outputs": [
    {
     "data": {
      "text/plain": [
       "Text(0.5, 1.0, 'Boxplot of Total Songs a User Has Listened to')"
      ]
     },
     "execution_count": 40,
     "metadata": {},
     "output_type": "execute_result"
    },
    {
     "data": {
      "image/png": "[encoded data removed]",
      "text/plain": [
       "<Figure size 720x432 with 1 Axes>"
      ]
     },
     "metadata": {
      "needs_background": "light"
     },
     "output_type": "display_data"
    }
   ],
   "source": [
    "fig2 = plt.figure(figsize=(10,6))\n",
    "\n",
    "sns.boxplot(song_count['song_id'])\n",
    "plt.xlabel(\"Count of Unique Songs\")\n",
    "plt.title(\"Boxplot of Total Songs a User Has Listened to\")"
   ]
  },
  {
   "cell_type": "markdown",
   "metadata": {
    "id": "e16VuS3JN9Qq"
   },
   "source": [
    "### **Observations:**\n",
    "\n",
    "* Since we are building a recommendation system, outliers are treated differently as it is valid data of human activity. Also, the percentage of users that have only listened to one song is low so we can conclude that our data is valid for our model."
   ]
  },
  {
   "cell_type": "markdown",
   "metadata": {
    "id": "Ee6dpB9yPMWK"
   },
   "source": [
    "## **Songs played in a year**\n"
   ]
  },
  {
   "cell_type": "code",
   "execution_count": 41,
   "metadata": {
    "colab": {
     "base_uri": "https://localhost:8080/",
     "height": 237
    },
    "id": "nzD-Kpl2N7Na",
    "outputId": "b4483540-2541-43fe-f0f7-a15ceb258f3b"
   },
   "outputs": [
    {
     "data": {
      "text/html": [
       "<div>\n",
       "<style scoped>\n",
       "    .dataframe tbody tr th:only-of-type {\n",
       "        vertical-align: middle;\n",
       "    }\n",
       "\n",
       "    .dataframe tbody tr th {\n",
       "        vertical-align: top;\n",
       "    }\n",
       "\n",
       "    .dataframe thead th {\n",
       "        text-align: right;\n",
       "    }\n",
       "</style>\n",
       "<table border=\"1\" class=\"dataframe\">\n",
       "  <thead>\n",
       "    <tr style=\"text-align: right;\">\n",
       "      <th></th>\n",
       "      <th>title</th>\n",
       "    </tr>\n",
       "    <tr>\n",
       "      <th>year</th>\n",
       "      <th></th>\n",
       "    </tr>\n",
       "  </thead>\n",
       "  <tbody>\n",
       "    <tr>\n",
       "      <th>2006</th>\n",
       "      <td>7592</td>\n",
       "    </tr>\n",
       "    <tr>\n",
       "      <th>2007</th>\n",
       "      <td>13750</td>\n",
       "    </tr>\n",
       "    <tr>\n",
       "      <th>2008</th>\n",
       "      <td>14031</td>\n",
       "    </tr>\n",
       "    <tr>\n",
       "      <th>2009</th>\n",
       "      <td>16351</td>\n",
       "    </tr>\n",
       "    <tr>\n",
       "      <th>2010</th>\n",
       "      <td>4087</td>\n",
       "    </tr>\n",
       "  </tbody>\n",
       "</table>\n",
       "</div>"
      ],
      "text/plain": [
       "      title\n",
       "year       \n",
       "2006   7592\n",
       "2007  13750\n",
       "2008  14031\n",
       "2009  16351\n",
       "2010   4087"
      ]
     },
     "execution_count": 41,
     "metadata": {},
     "output_type": "execute_result"
    }
   ],
   "source": [
    "count_songs = df_final.groupby('year').count()['title']\n",
    "\n",
    "count = pd.DataFrame(count_songs)\n",
    "\n",
    "count.drop(count.index[0], inplace = True)\n",
    "\n",
    "count.tail()"
   ]
  },
  {
   "cell_type": "code",
   "execution_count": 42,
   "metadata": {
    "colab": {
     "base_uri": "https://localhost:8080/",
     "height": 606
    },
    "id": "jhWBdP3RPPuM",
    "outputId": "ea67ee8c-5c8a-4876-f338-ec04c6fc0458"
   },
   "outputs": [
    {
     "data": {
      "image/png": "[encoded data removed]",
      "text/plain": [
       "<Figure size 2160x720 with 1 Axes>"
      ]
     },
     "metadata": {
      "needs_background": "light"
     },
     "output_type": "display_data"
    }
   ],
   "source": [
    "# Create the plot\n",
    "\n",
    "# Set the figure size\n",
    "plt.figure(figsize = (30, 10))\n",
    "\n",
    "sns.barplot(x = count.index,\n",
    "            y = 'title',\n",
    "            data = count,\n",
    "            estimator = np.median)\n",
    "\n",
    "# Set the y label of the plot\n",
    "plt.ylabel('number of titles played') \n",
    "\n",
    "# Show the plot\n",
    "plt.show()"
   ]
  },
  {
   "cell_type": "markdown",
   "metadata": {
    "id": "QJ5wcLdRPZV9"
   },
   "source": [
    "#### **Observations and Insights:** # \n",
    "\n",
    "* 2009 is the year with the highest number of titles played with a number of 16351 reproductions, followed by 2008 with 14031 reproductions, and 2007 with 13750 reproductions.\n",
    "* We can observe that the Million Song Dataset constains titles played from 1969 to 2010.\n",
    "* We can see that the majority of titles played are modern, we can build a recommendation system to predict which songs are most likely to be listened from year 2000 to 2010. \n",
    "* It is highly likely that users are young and know old songs, but that they like songs from the year 2000 onwards. This creates the possibility of building a recommendation system to recommend songs to the users which they have not interacted with."
   ]
  },
  {
   "cell_type": "markdown",
   "metadata": {
    "id": "3DvKoMHxPdpY"
   },
   "source": [
    "## **Proposed approach**"
   ]
  },
  {
   "cell_type": "markdown",
   "metadata": {
    "id": "uOKQ3wqtPgh4"
   },
   "source": [
    "In this project we will build a music recommendation system for the Million Song Dataset to recommend songs to users based on their previous listening activity using six different algorithms. They are as follows:\n",
    "1.\tRank-based using averages\n",
    "2.\tUser-User similarity-based collaborative filtering\n",
    "3.\tItem-Item similarity-based collaborative filtering\n",
    "4.\tModel-based collaborative filtering - Matrix Factorization\n",
    "5.\tclustering-based recommendation systems\n",
    "6.\tcontent-based recommendation systems\n",
    "\n",
    "To achieve that goal, we first explored the **Million Song Dataset** to understand the data and get insights, pre-process the data. Then, we will build a baseline recommendation system, build recommendation systems using the six algorithms mentioned. To develop them we will use the surprise library and the python programming language.\n",
    "\n",
    "The surprise library will be used to demonstrate **\"user-user similarity-based collaborative filtering,\"** **\"item-item similarity-based collaborative filtering,\"** **\"model-based collaborative filtering (matrix factorization)\",** and **clustering-based recommendation systems** algorithms. For these algorithms, grid search cross-validation is used to find the optimal hyperparameters for the data, and related predictions will be created using the optimal hyperparameters. Finally, in the **content-based recommendation system** will be based on Natural Language Processing to get information from the text data. The nltk library (natural language toolkit library) will be used to implement **TF-IDF** as a weighting factor to extract features from the feature - text, i.e., reviews to find similar songs.\n",
    "\n",
    "To assess the performance evaluation of these models' **precision@k and recall@k with k=10** will be used. Using these two metrics, the F_1 score will be calculated for each working model. precision@k is a modified performance assessment metric for recommendation systems. Here, k is the number of items (songs here) recommended to a user.\n",
    "\n",
    "We will try also combine different recommendation techniques to build hybrid recommendation systems."
   ]
  },
  {
   "cell_type": "markdown",
   "metadata": {
    "id": "G_5eWJs8ZfVE"
   },
   "source": [
    "### **Saving the Final dataset:**\n"
   ]
  },
  {
   "cell_type": "code",
   "execution_count": 43,
   "metadata": {
    "id": "ijHU_vf8PReU"
   },
   "outputs": [],
   "source": [
    "df_final.to_csv('./Million_Songs_Dataset/user_song_data.csv', index = False)"
   ]
  },
  {
   "cell_type": "markdown",
   "metadata": {
    "id": "vIxXnFEvZ3eW"
   },
   "source": [
    "## **Objective:**\n",
    "\n",
    "Using the dataset **user_song_data** saved in df_final pandas dataframe we will build a recommendation system to propose the top 10 songs for a user based on the likelihood of listening to those songs."
   ]
  },
  {
   "cell_type": "markdown",
   "metadata": {
    "id": "B2pY0t4kaLK3"
   },
   "source": [
    "## **Final Data Dictionary**\n",
    "\n",
    "The core data is the Taste Profile Subset released by the Echo Nest as part of the Million Song Dataset. However, we will use a subset generated previously. There is one CSV file in this dataset **user_song_data**. `user_song_data.csv` file of 117,876 rows of songs contains the details about the user id, song id, play count, title, release, artist name, and the year of release. \n",
    "\n",
    "**user_song_data**\n",
    "- **user _id:** A unique id given to the user\n",
    "- **song_id:** A unique id given to every song\n",
    "- **play_count:** Number of times the song was played\n",
    "- **title:** Title of the song\n",
    "- **release:** Name of the released album\n",
    "- **artist_name:** Name of the artist\n",
    "- **year:** Year of release\n",
    "\n",
    "\n",
    "## **Data Source**\n",
    "http://millionsongdataset.com/"
   ]
  },
  {
   "cell_type": "markdown",
   "metadata": {
    "id": "euQqjUQ9azW5"
   },
   "source": [
    "## **Importing the necessary libraries and overview of the dataset**"
   ]
  },
  {
   "cell_type": "code",
   "execution_count": 44,
   "metadata": {
    "id": "yAN_sW5dZvV_"
   },
   "outputs": [],
   "source": [
    "from collections import defaultdict                    # A dictionary output that does not raise a key error\n",
    "\n",
    "from sklearn.metrics import mean_squared_error         # A performance metrics in sklearn\n",
    "from sklearn.metrics.pairwise import cosine_similarity # To find the similarity between two vectors"
   ]
  },
  {
   "cell_type": "markdown",
   "metadata": {
    "id": "dSqJqPgba7ID"
   },
   "source": [
    "## **Load the dataset**"
   ]
  },
  {
   "cell_type": "code",
   "execution_count": 45,
   "metadata": {
    "id": "E1O6YnAWa3qC"
   },
   "outputs": [],
   "source": [
    "# Load the dataset you have saved at the end of milestone 1\n",
    "df_final = pd.read_csv('./Million_Songs_Dataset/user_song_data.csv')"
   ]
  },
  {
   "cell_type": "markdown",
   "metadata": {
    "id": "mMiFhJmlbVFp"
   },
   "source": [
    "### **Let's double check the total number of unique users, songs, artists in the data**"
   ]
  },
  {
   "cell_type": "markdown",
   "metadata": {
    "id": "NpHTAe0QbZIP"
   },
   "source": [
    "### **How many unique users are in the dataset?**"
   ]
  },
  {
   "cell_type": "code",
   "execution_count": 46,
   "metadata": {
    "colab": {
     "base_uri": "https://localhost:8080/"
    },
    "id": "7kC4ABiOa_U3",
    "outputId": "79e27172-2a8f-4301-fccf-1a8c4b6215ff"
   },
   "outputs": [
    {
     "name": "stdout",
     "output_type": "stream",
     "text": [
      "Total number of unique user_id:  3155\n"
     ]
    }
   ],
   "source": [
    "print('Total number of unique user_id: ', df_final.user_id.nunique())"
   ]
  },
  {
   "cell_type": "markdown",
   "metadata": {
    "id": "FMYVZtuHbeMc"
   },
   "source": [
    "- We validated that there are **3155 unique users** in the dataset as we see previously"
   ]
  },
  {
   "cell_type": "markdown",
   "metadata": {
    "id": "kN3j64jTbvJL"
   },
   "source": [
    "### **What is the total number of unique songs?**"
   ]
  },
  {
   "cell_type": "code",
   "execution_count": 47,
   "metadata": {
    "colab": {
     "base_uri": "https://localhost:8080/"
    },
    "id": "uhEtkjDvbbrk",
    "outputId": "57993320-52ab-4220-bbae-3a81071550cb"
   },
   "outputs": [
    {
     "name": "stdout",
     "output_type": "stream",
     "text": [
      "Total number of unique song_id:  563\n"
     ]
    }
   ],
   "source": [
    "print('Total number of unique song_id: ', df_final.song_id.nunique())"
   ]
  },
  {
   "cell_type": "markdown",
   "metadata": {
    "id": "Iimx_-N_bzge"
   },
   "source": [
    "- We validated that there are **563 unique songs** in the dataset as we see previously"
   ]
  },
  {
   "cell_type": "code",
   "execution_count": 48,
   "metadata": {
    "colab": {
     "base_uri": "https://localhost:8080/"
    },
    "id": "ZOV6eyRLbxUz",
    "outputId": "e65fe7ba-1c9e-4468-854c-7ba77c174804"
   },
   "outputs": [
    {
     "name": "stdout",
     "output_type": "stream",
     "text": [
      "<class 'pandas.core.frame.DataFrame'>\n",
      "RangeIndex: 117876 entries, 0 to 117875\n",
      "Data columns (total 7 columns):\n",
      " #   Column       Non-Null Count   Dtype \n",
      "---  ------       --------------   ----- \n",
      " 0   user_id      117876 non-null  int64 \n",
      " 1   song_id      117876 non-null  int64 \n",
      " 2   play_count   117876 non-null  int64 \n",
      " 3   title        117876 non-null  object\n",
      " 4   release      117876 non-null  object\n",
      " 5   artist_name  117876 non-null  object\n",
      " 6   year         117876 non-null  int64 \n",
      "dtypes: int64(4), object(3)\n",
      "memory usage: 6.3+ MB\n"
     ]
    }
   ],
   "source": [
    "# Checking info of the dataset\n",
    "df_final.info()"
   ]
  },
  {
   "cell_type": "code",
   "execution_count": 49,
   "metadata": {
    "colab": {
     "base_uri": "https://localhost:8080/",
     "height": 363
    },
    "id": "_zJae53pb_Ns",
    "outputId": "cfccadba-6f0e-471c-b8a0-75f721a6aaad"
   },
   "outputs": [
    {
     "data": {
      "text/html": [
       "<div>\n",
       "<style scoped>\n",
       "    .dataframe tbody tr th:only-of-type {\n",
       "        vertical-align: middle;\n",
       "    }\n",
       "\n",
       "    .dataframe tbody tr th {\n",
       "        vertical-align: top;\n",
       "    }\n",
       "\n",
       "    .dataframe thead th {\n",
       "        text-align: right;\n",
       "    }\n",
       "</style>\n",
       "<table border=\"1\" class=\"dataframe\">\n",
       "  <thead>\n",
       "    <tr style=\"text-align: right;\">\n",
       "      <th></th>\n",
       "      <th>user_id</th>\n",
       "      <th>song_id</th>\n",
       "      <th>play_count</th>\n",
       "      <th>title</th>\n",
       "      <th>release</th>\n",
       "      <th>artist_name</th>\n",
       "      <th>year</th>\n",
       "    </tr>\n",
       "  </thead>\n",
       "  <tbody>\n",
       "    <tr>\n",
       "      <th>0</th>\n",
       "      <td>6958</td>\n",
       "      <td>447</td>\n",
       "      <td>1</td>\n",
       "      <td>Daisy And Prudence</td>\n",
       "      <td>Distillation</td>\n",
       "      <td>Erin McKeown</td>\n",
       "      <td>2000</td>\n",
       "    </tr>\n",
       "    <tr>\n",
       "      <th>1</th>\n",
       "      <td>6958</td>\n",
       "      <td>512</td>\n",
       "      <td>1</td>\n",
       "      <td>The Ballad of Michael Valentine</td>\n",
       "      <td>Sawdust</td>\n",
       "      <td>The Killers</td>\n",
       "      <td>2004</td>\n",
       "    </tr>\n",
       "    <tr>\n",
       "      <th>2</th>\n",
       "      <td>6958</td>\n",
       "      <td>549</td>\n",
       "      <td>1</td>\n",
       "      <td>I Stand Corrected (Album)</td>\n",
       "      <td>Vampire Weekend</td>\n",
       "      <td>Vampire Weekend</td>\n",
       "      <td>2007</td>\n",
       "    </tr>\n",
       "    <tr>\n",
       "      <th>3</th>\n",
       "      <td>6958</td>\n",
       "      <td>703</td>\n",
       "      <td>1</td>\n",
       "      <td>They Might Follow You</td>\n",
       "      <td>Tiny Vipers</td>\n",
       "      <td>Tiny Vipers</td>\n",
       "      <td>2007</td>\n",
       "    </tr>\n",
       "    <tr>\n",
       "      <th>4</th>\n",
       "      <td>6958</td>\n",
       "      <td>719</td>\n",
       "      <td>1</td>\n",
       "      <td>Monkey Man</td>\n",
       "      <td>You Know I'm No Good</td>\n",
       "      <td>Amy Winehouse</td>\n",
       "      <td>2007</td>\n",
       "    </tr>\n",
       "    <tr>\n",
       "      <th>5</th>\n",
       "      <td>6958</td>\n",
       "      <td>892</td>\n",
       "      <td>1</td>\n",
       "      <td>Bleeding Hearts</td>\n",
       "      <td>Hell Train</td>\n",
       "      <td>Soltero</td>\n",
       "      <td>0</td>\n",
       "    </tr>\n",
       "    <tr>\n",
       "      <th>6</th>\n",
       "      <td>6958</td>\n",
       "      <td>1050</td>\n",
       "      <td>5</td>\n",
       "      <td>Wet Blanket</td>\n",
       "      <td>Old World Underground_ Where Are You Now?</td>\n",
       "      <td>Metric</td>\n",
       "      <td>2003</td>\n",
       "    </tr>\n",
       "    <tr>\n",
       "      <th>7</th>\n",
       "      <td>6958</td>\n",
       "      <td>1480</td>\n",
       "      <td>1</td>\n",
       "      <td>Fast As I Can</td>\n",
       "      <td>Monday Morning Cold</td>\n",
       "      <td>Erin McKeown</td>\n",
       "      <td>2000</td>\n",
       "    </tr>\n",
       "    <tr>\n",
       "      <th>8</th>\n",
       "      <td>6958</td>\n",
       "      <td>1671</td>\n",
       "      <td>2</td>\n",
       "      <td>Sleeping In (Album)</td>\n",
       "      <td>Give Up</td>\n",
       "      <td>Postal Service</td>\n",
       "      <td>2003</td>\n",
       "    </tr>\n",
       "    <tr>\n",
       "      <th>9</th>\n",
       "      <td>6958</td>\n",
       "      <td>1752</td>\n",
       "      <td>1</td>\n",
       "      <td>Gimme Sympathy</td>\n",
       "      <td>Gimme Sympathy</td>\n",
       "      <td>Metric</td>\n",
       "      <td>2009</td>\n",
       "    </tr>\n",
       "  </tbody>\n",
       "</table>\n",
       "</div>"
      ],
      "text/plain": [
       "   user_id  song_id  play_count                            title  \\\n",
       "0     6958      447           1               Daisy And Prudence   \n",
       "1     6958      512           1  The Ballad of Michael Valentine   \n",
       "2     6958      549           1        I Stand Corrected (Album)   \n",
       "3     6958      703           1            They Might Follow You   \n",
       "4     6958      719           1                       Monkey Man   \n",
       "5     6958      892           1                  Bleeding Hearts   \n",
       "6     6958     1050           5                      Wet Blanket   \n",
       "7     6958     1480           1                    Fast As I Can   \n",
       "8     6958     1671           2              Sleeping In (Album)   \n",
       "9     6958     1752           1                   Gimme Sympathy   \n",
       "\n",
       "                                     release      artist_name  year  \n",
       "0                               Distillation     Erin McKeown  2000  \n",
       "1                                    Sawdust      The Killers  2004  \n",
       "2                            Vampire Weekend  Vampire Weekend  2007  \n",
       "3                                Tiny Vipers      Tiny Vipers  2007  \n",
       "4                       You Know I'm No Good    Amy Winehouse  2007  \n",
       "5                                 Hell Train          Soltero     0  \n",
       "6  Old World Underground_ Where Are You Now?           Metric  2003  \n",
       "7                        Monday Morning Cold     Erin McKeown  2000  \n",
       "8                                    Give Up   Postal Service  2003  \n",
       "9                             Gimme Sympathy           Metric  2009  "
      ]
     },
     "execution_count": 49,
     "metadata": {},
     "output_type": "execute_result"
    }
   ],
   "source": [
    "# See top 10 records of df_final data\n",
    "df_final.head(10)"
   ]
  },
  {
   "cell_type": "code",
   "execution_count": 50,
   "metadata": {
    "colab": {
     "base_uri": "https://localhost:8080/"
    },
    "id": "3ps4bPAfcAio",
    "outputId": "95a6f16a-b065-4aad-d1d2-b3cca0509a76"
   },
   "outputs": [
    {
     "data": {
      "text/plain": [
       "(117876, 7)"
      ]
     },
     "execution_count": 50,
     "metadata": {},
     "output_type": "execute_result"
    }
   ],
   "source": [
    "# display the dimension of the df_final data\n",
    "df_final.shape"
   ]
  },
  {
   "cell_type": "code",
   "execution_count": 51,
   "metadata": {},
   "outputs": [],
   "source": [
    "# After cleaning the data, we will divide them into training and test sets in a stratified way\n",
    "from sklearn.model_selection import train_test_split\n",
    "\n",
    "np.random.seed(0)\n",
    "\n",
    "# Splitting the data into train and test\n",
    "train_data, test_data = train_test_split(df_final, test_size = 0.20, random_state=42)\n",
    "\n",
    "# Indexing by user_id and song_id to speed up the searches during evaluation\n",
    "train_data_indexed = train_data.set_index(['user_id', 'song_id'])\n",
    "test_data_indexed = test_data.set_index(['user_id', 'song_id'])"
   ]
  },
  {
   "cell_type": "code",
   "execution_count": 52,
   "metadata": {
    "colab": {
     "base_uri": "https://localhost:8080/",
     "height": 423
    },
    "id": "6hKKL3QHcB8T",
    "outputId": "f4b90d0f-85c2-4f65-98f8-2d059099f0b1"
   },
   "outputs": [
    {
     "data": {
      "text/html": [
       "<div>\n",
       "<style scoped>\n",
       "    .dataframe tbody tr th:only-of-type {\n",
       "        vertical-align: middle;\n",
       "    }\n",
       "\n",
       "    .dataframe tbody tr th {\n",
       "        vertical-align: top;\n",
       "    }\n",
       "\n",
       "    .dataframe thead th {\n",
       "        text-align: right;\n",
       "    }\n",
       "</style>\n",
       "<table border=\"1\" class=\"dataframe\">\n",
       "  <thead>\n",
       "    <tr style=\"text-align: right;\">\n",
       "      <th></th>\n",
       "      <th></th>\n",
       "      <th>play_count</th>\n",
       "      <th>title</th>\n",
       "      <th>release</th>\n",
       "      <th>artist_name</th>\n",
       "      <th>year</th>\n",
       "    </tr>\n",
       "    <tr>\n",
       "      <th>user_id</th>\n",
       "      <th>song_id</th>\n",
       "      <th></th>\n",
       "      <th></th>\n",
       "      <th></th>\n",
       "      <th></th>\n",
       "      <th></th>\n",
       "    </tr>\n",
       "  </thead>\n",
       "  <tbody>\n",
       "    <tr>\n",
       "      <th>39985</th>\n",
       "      <th>1188</th>\n",
       "      <td>2</td>\n",
       "      <td>Learn To Fly</td>\n",
       "      <td>There Is Nothing Left To Lose</td>\n",
       "      <td>Foo Fighters</td>\n",
       "      <td>1999</td>\n",
       "    </tr>\n",
       "    <tr>\n",
       "      <th>66637</th>\n",
       "      <th>1188</th>\n",
       "      <td>1</td>\n",
       "      <td>Learn To Fly</td>\n",
       "      <td>There Is Nothing Left To Lose</td>\n",
       "      <td>Foo Fighters</td>\n",
       "      <td>1999</td>\n",
       "    </tr>\n",
       "    <tr>\n",
       "      <th>3533</th>\n",
       "      <th>1188</th>\n",
       "      <td>1</td>\n",
       "      <td>Learn To Fly</td>\n",
       "      <td>There Is Nothing Left To Lose</td>\n",
       "      <td>Foo Fighters</td>\n",
       "      <td>1999</td>\n",
       "    </tr>\n",
       "    <tr>\n",
       "      <th>54605</th>\n",
       "      <th>1188</th>\n",
       "      <td>3</td>\n",
       "      <td>Learn To Fly</td>\n",
       "      <td>There Is Nothing Left To Lose</td>\n",
       "      <td>Foo Fighters</td>\n",
       "      <td>1999</td>\n",
       "    </tr>\n",
       "    <tr>\n",
       "      <th>1329</th>\n",
       "      <th>1188</th>\n",
       "      <td>1</td>\n",
       "      <td>Learn To Fly</td>\n",
       "      <td>There Is Nothing Left To Lose</td>\n",
       "      <td>Foo Fighters</td>\n",
       "      <td>1999</td>\n",
       "    </tr>\n",
       "    <tr>\n",
       "      <th>...</th>\n",
       "      <th>...</th>\n",
       "      <td>...</td>\n",
       "      <td>...</td>\n",
       "      <td>...</td>\n",
       "      <td>...</td>\n",
       "      <td>...</td>\n",
       "    </tr>\n",
       "    <tr>\n",
       "      <th>27446</th>\n",
       "      <th>1188</th>\n",
       "      <td>2</td>\n",
       "      <td>Learn To Fly</td>\n",
       "      <td>There Is Nothing Left To Lose</td>\n",
       "      <td>Foo Fighters</td>\n",
       "      <td>1999</td>\n",
       "    </tr>\n",
       "    <tr>\n",
       "      <th>61153</th>\n",
       "      <th>1188</th>\n",
       "      <td>2</td>\n",
       "      <td>Learn To Fly</td>\n",
       "      <td>There Is Nothing Left To Lose</td>\n",
       "      <td>Foo Fighters</td>\n",
       "      <td>1999</td>\n",
       "    </tr>\n",
       "    <tr>\n",
       "      <th>25422</th>\n",
       "      <th>1188</th>\n",
       "      <td>1</td>\n",
       "      <td>Learn To Fly</td>\n",
       "      <td>There Is Nothing Left To Lose</td>\n",
       "      <td>Foo Fighters</td>\n",
       "      <td>1999</td>\n",
       "    </tr>\n",
       "    <tr>\n",
       "      <th>72298</th>\n",
       "      <th>1188</th>\n",
       "      <td>2</td>\n",
       "      <td>Learn To Fly</td>\n",
       "      <td>There Is Nothing Left To Lose</td>\n",
       "      <td>Foo Fighters</td>\n",
       "      <td>1999</td>\n",
       "    </tr>\n",
       "    <tr>\n",
       "      <th>24745</th>\n",
       "      <th>1188</th>\n",
       "      <td>1</td>\n",
       "      <td>Learn To Fly</td>\n",
       "      <td>There Is Nothing Left To Lose</td>\n",
       "      <td>Foo Fighters</td>\n",
       "      <td>1999</td>\n",
       "    </tr>\n",
       "  </tbody>\n",
       "</table>\n",
       "<p>174 rows × 5 columns</p>\n",
       "</div>"
      ],
      "text/plain": [
       "                 play_count         title                        release  \\\n",
       "user_id song_id                                                            \n",
       "39985   1188              2  Learn To Fly  There Is Nothing Left To Lose   \n",
       "66637   1188              1  Learn To Fly  There Is Nothing Left To Lose   \n",
       "3533    1188              1  Learn To Fly  There Is Nothing Left To Lose   \n",
       "54605   1188              3  Learn To Fly  There Is Nothing Left To Lose   \n",
       "1329    1188              1  Learn To Fly  There Is Nothing Left To Lose   \n",
       "...                     ...           ...                            ...   \n",
       "27446   1188              2  Learn To Fly  There Is Nothing Left To Lose   \n",
       "61153   1188              2  Learn To Fly  There Is Nothing Left To Lose   \n",
       "25422   1188              1  Learn To Fly  There Is Nothing Left To Lose   \n",
       "72298   1188              2  Learn To Fly  There Is Nothing Left To Lose   \n",
       "24745   1188              1  Learn To Fly  There Is Nothing Left To Lose   \n",
       "\n",
       "                  artist_name  year  \n",
       "user_id song_id                      \n",
       "39985   1188     Foo Fighters  1999  \n",
       "66637   1188     Foo Fighters  1999  \n",
       "3533    1188     Foo Fighters  1999  \n",
       "54605   1188     Foo Fighters  1999  \n",
       "1329    1188     Foo Fighters  1999  \n",
       "...                       ...   ...  \n",
       "27446   1188     Foo Fighters  1999  \n",
       "61153   1188     Foo Fighters  1999  \n",
       "25422   1188     Foo Fighters  1999  \n",
       "72298   1188     Foo Fighters  1999  \n",
       "24745   1188     Foo Fighters  1999  \n",
       "\n",
       "[174 rows x 5 columns]"
      ]
     },
     "execution_count": 52,
     "metadata": {},
     "output_type": "execute_result"
    }
   ],
   "source": [
    "# Find the song with title 'Learn To Fly'\n",
    "train_data_indexed[train_data_indexed['title'] == 'Learn To Fly']"
   ]
  },
  {
   "cell_type": "code",
   "execution_count": 53,
   "metadata": {},
   "outputs": [
    {
     "data": {
      "text/html": [
       "<div>\n",
       "<style scoped>\n",
       "    .dataframe tbody tr th:only-of-type {\n",
       "        vertical-align: middle;\n",
       "    }\n",
       "\n",
       "    .dataframe tbody tr th {\n",
       "        vertical-align: top;\n",
       "    }\n",
       "\n",
       "    .dataframe thead th {\n",
       "        text-align: right;\n",
       "    }\n",
       "</style>\n",
       "<table border=\"1\" class=\"dataframe\">\n",
       "  <thead>\n",
       "    <tr style=\"text-align: right;\">\n",
       "      <th></th>\n",
       "      <th></th>\n",
       "      <th>play_count</th>\n",
       "      <th>title</th>\n",
       "      <th>release</th>\n",
       "      <th>artist_name</th>\n",
       "      <th>year</th>\n",
       "    </tr>\n",
       "    <tr>\n",
       "      <th>user_id</th>\n",
       "      <th>song_id</th>\n",
       "      <th></th>\n",
       "      <th></th>\n",
       "      <th></th>\n",
       "      <th></th>\n",
       "      <th></th>\n",
       "    </tr>\n",
       "  </thead>\n",
       "  <tbody>\n",
       "    <tr>\n",
       "      <th>19774</th>\n",
       "      <th>1188</th>\n",
       "      <td>2</td>\n",
       "      <td>Learn To Fly</td>\n",
       "      <td>There Is Nothing Left To Lose</td>\n",
       "      <td>Foo Fighters</td>\n",
       "      <td>1999</td>\n",
       "    </tr>\n",
       "    <tr>\n",
       "      <th>68627</th>\n",
       "      <th>1188</th>\n",
       "      <td>3</td>\n",
       "      <td>Learn To Fly</td>\n",
       "      <td>There Is Nothing Left To Lose</td>\n",
       "      <td>Foo Fighters</td>\n",
       "      <td>1999</td>\n",
       "    </tr>\n",
       "    <tr>\n",
       "      <th>19751</th>\n",
       "      <th>1188</th>\n",
       "      <td>1</td>\n",
       "      <td>Learn To Fly</td>\n",
       "      <td>There Is Nothing Left To Lose</td>\n",
       "      <td>Foo Fighters</td>\n",
       "      <td>1999</td>\n",
       "    </tr>\n",
       "    <tr>\n",
       "      <th>36015</th>\n",
       "      <th>1188</th>\n",
       "      <td>1</td>\n",
       "      <td>Learn To Fly</td>\n",
       "      <td>There Is Nothing Left To Lose</td>\n",
       "      <td>Foo Fighters</td>\n",
       "      <td>1999</td>\n",
       "    </tr>\n",
       "    <tr>\n",
       "      <th>23472</th>\n",
       "      <th>1188</th>\n",
       "      <td>1</td>\n",
       "      <td>Learn To Fly</td>\n",
       "      <td>There Is Nothing Left To Lose</td>\n",
       "      <td>Foo Fighters</td>\n",
       "      <td>1999</td>\n",
       "    </tr>\n",
       "    <tr>\n",
       "      <th>70760</th>\n",
       "      <th>1188</th>\n",
       "      <td>1</td>\n",
       "      <td>Learn To Fly</td>\n",
       "      <td>There Is Nothing Left To Lose</td>\n",
       "      <td>Foo Fighters</td>\n",
       "      <td>1999</td>\n",
       "    </tr>\n",
       "    <tr>\n",
       "      <th>53134</th>\n",
       "      <th>1188</th>\n",
       "      <td>3</td>\n",
       "      <td>Learn To Fly</td>\n",
       "      <td>There Is Nothing Left To Lose</td>\n",
       "      <td>Foo Fighters</td>\n",
       "      <td>1999</td>\n",
       "    </tr>\n",
       "    <tr>\n",
       "      <th>70285</th>\n",
       "      <th>1188</th>\n",
       "      <td>1</td>\n",
       "      <td>Learn To Fly</td>\n",
       "      <td>There Is Nothing Left To Lose</td>\n",
       "      <td>Foo Fighters</td>\n",
       "      <td>1999</td>\n",
       "    </tr>\n",
       "    <tr>\n",
       "      <th>19783</th>\n",
       "      <th>1188</th>\n",
       "      <td>2</td>\n",
       "      <td>Learn To Fly</td>\n",
       "      <td>There Is Nothing Left To Lose</td>\n",
       "      <td>Foo Fighters</td>\n",
       "      <td>1999</td>\n",
       "    </tr>\n",
       "    <tr>\n",
       "      <th>48066</th>\n",
       "      <th>1188</th>\n",
       "      <td>3</td>\n",
       "      <td>Learn To Fly</td>\n",
       "      <td>There Is Nothing Left To Lose</td>\n",
       "      <td>Foo Fighters</td>\n",
       "      <td>1999</td>\n",
       "    </tr>\n",
       "    <tr>\n",
       "      <th>4768</th>\n",
       "      <th>1188</th>\n",
       "      <td>1</td>\n",
       "      <td>Learn To Fly</td>\n",
       "      <td>There Is Nothing Left To Lose</td>\n",
       "      <td>Foo Fighters</td>\n",
       "      <td>1999</td>\n",
       "    </tr>\n",
       "    <tr>\n",
       "      <th>45482</th>\n",
       "      <th>1188</th>\n",
       "      <td>1</td>\n",
       "      <td>Learn To Fly</td>\n",
       "      <td>There Is Nothing Left To Lose</td>\n",
       "      <td>Foo Fighters</td>\n",
       "      <td>1999</td>\n",
       "    </tr>\n",
       "    <tr>\n",
       "      <th>55173</th>\n",
       "      <th>1188</th>\n",
       "      <td>1</td>\n",
       "      <td>Learn To Fly</td>\n",
       "      <td>There Is Nothing Left To Lose</td>\n",
       "      <td>Foo Fighters</td>\n",
       "      <td>1999</td>\n",
       "    </tr>\n",
       "    <tr>\n",
       "      <th>14911</th>\n",
       "      <th>1188</th>\n",
       "      <td>1</td>\n",
       "      <td>Learn To Fly</td>\n",
       "      <td>There Is Nothing Left To Lose</td>\n",
       "      <td>Foo Fighters</td>\n",
       "      <td>1999</td>\n",
       "    </tr>\n",
       "    <tr>\n",
       "      <th>72937</th>\n",
       "      <th>1188</th>\n",
       "      <td>1</td>\n",
       "      <td>Learn To Fly</td>\n",
       "      <td>There Is Nothing Left To Lose</td>\n",
       "      <td>Foo Fighters</td>\n",
       "      <td>1999</td>\n",
       "    </tr>\n",
       "    <tr>\n",
       "      <th>62797</th>\n",
       "      <th>1188</th>\n",
       "      <td>1</td>\n",
       "      <td>Learn To Fly</td>\n",
       "      <td>There Is Nothing Left To Lose</td>\n",
       "      <td>Foo Fighters</td>\n",
       "      <td>1999</td>\n",
       "    </tr>\n",
       "    <tr>\n",
       "      <th>19848</th>\n",
       "      <th>1188</th>\n",
       "      <td>1</td>\n",
       "      <td>Learn To Fly</td>\n",
       "      <td>There Is Nothing Left To Lose</td>\n",
       "      <td>Foo Fighters</td>\n",
       "      <td>1999</td>\n",
       "    </tr>\n",
       "    <tr>\n",
       "      <th>67980</th>\n",
       "      <th>1188</th>\n",
       "      <td>1</td>\n",
       "      <td>Learn To Fly</td>\n",
       "      <td>There Is Nothing Left To Lose</td>\n",
       "      <td>Foo Fighters</td>\n",
       "      <td>1999</td>\n",
       "    </tr>\n",
       "    <tr>\n",
       "      <th>73070</th>\n",
       "      <th>1188</th>\n",
       "      <td>1</td>\n",
       "      <td>Learn To Fly</td>\n",
       "      <td>There Is Nothing Left To Lose</td>\n",
       "      <td>Foo Fighters</td>\n",
       "      <td>1999</td>\n",
       "    </tr>\n",
       "    <tr>\n",
       "      <th>70341</th>\n",
       "      <th>1188</th>\n",
       "      <td>4</td>\n",
       "      <td>Learn To Fly</td>\n",
       "      <td>There Is Nothing Left To Lose</td>\n",
       "      <td>Foo Fighters</td>\n",
       "      <td>1999</td>\n",
       "    </tr>\n",
       "    <tr>\n",
       "      <th>59840</th>\n",
       "      <th>1188</th>\n",
       "      <td>1</td>\n",
       "      <td>Learn To Fly</td>\n",
       "      <td>There Is Nothing Left To Lose</td>\n",
       "      <td>Foo Fighters</td>\n",
       "      <td>1999</td>\n",
       "    </tr>\n",
       "    <tr>\n",
       "      <th>38694</th>\n",
       "      <th>1188</th>\n",
       "      <td>1</td>\n",
       "      <td>Learn To Fly</td>\n",
       "      <td>There Is Nothing Left To Lose</td>\n",
       "      <td>Foo Fighters</td>\n",
       "      <td>1999</td>\n",
       "    </tr>\n",
       "    <tr>\n",
       "      <th>68884</th>\n",
       "      <th>1188</th>\n",
       "      <td>1</td>\n",
       "      <td>Learn To Fly</td>\n",
       "      <td>There Is Nothing Left To Lose</td>\n",
       "      <td>Foo Fighters</td>\n",
       "      <td>1999</td>\n",
       "    </tr>\n",
       "    <tr>\n",
       "      <th>35118</th>\n",
       "      <th>1188</th>\n",
       "      <td>1</td>\n",
       "      <td>Learn To Fly</td>\n",
       "      <td>There Is Nothing Left To Lose</td>\n",
       "      <td>Foo Fighters</td>\n",
       "      <td>1999</td>\n",
       "    </tr>\n",
       "    <tr>\n",
       "      <th>49418</th>\n",
       "      <th>1188</th>\n",
       "      <td>4</td>\n",
       "      <td>Learn To Fly</td>\n",
       "      <td>There Is Nothing Left To Lose</td>\n",
       "      <td>Foo Fighters</td>\n",
       "      <td>1999</td>\n",
       "    </tr>\n",
       "    <tr>\n",
       "      <th>46796</th>\n",
       "      <th>1188</th>\n",
       "      <td>2</td>\n",
       "      <td>Learn To Fly</td>\n",
       "      <td>There Is Nothing Left To Lose</td>\n",
       "      <td>Foo Fighters</td>\n",
       "      <td>1999</td>\n",
       "    </tr>\n",
       "    <tr>\n",
       "      <th>31514</th>\n",
       "      <th>1188</th>\n",
       "      <td>1</td>\n",
       "      <td>Learn To Fly</td>\n",
       "      <td>There Is Nothing Left To Lose</td>\n",
       "      <td>Foo Fighters</td>\n",
       "      <td>1999</td>\n",
       "    </tr>\n",
       "    <tr>\n",
       "      <th>21883</th>\n",
       "      <th>1188</th>\n",
       "      <td>1</td>\n",
       "      <td>Learn To Fly</td>\n",
       "      <td>There Is Nothing Left To Lose</td>\n",
       "      <td>Foo Fighters</td>\n",
       "      <td>1999</td>\n",
       "    </tr>\n",
       "    <tr>\n",
       "      <th>11035</th>\n",
       "      <th>1188</th>\n",
       "      <td>1</td>\n",
       "      <td>Learn To Fly</td>\n",
       "      <td>There Is Nothing Left To Lose</td>\n",
       "      <td>Foo Fighters</td>\n",
       "      <td>1999</td>\n",
       "    </tr>\n",
       "    <tr>\n",
       "      <th>61872</th>\n",
       "      <th>1188</th>\n",
       "      <td>1</td>\n",
       "      <td>Learn To Fly</td>\n",
       "      <td>There Is Nothing Left To Lose</td>\n",
       "      <td>Foo Fighters</td>\n",
       "      <td>1999</td>\n",
       "    </tr>\n",
       "    <tr>\n",
       "      <th>11780</th>\n",
       "      <th>1188</th>\n",
       "      <td>1</td>\n",
       "      <td>Learn To Fly</td>\n",
       "      <td>There Is Nothing Left To Lose</td>\n",
       "      <td>Foo Fighters</td>\n",
       "      <td>1999</td>\n",
       "    </tr>\n",
       "    <tr>\n",
       "      <th>2073</th>\n",
       "      <th>1188</th>\n",
       "      <td>1</td>\n",
       "      <td>Learn To Fly</td>\n",
       "      <td>There Is Nothing Left To Lose</td>\n",
       "      <td>Foo Fighters</td>\n",
       "      <td>1999</td>\n",
       "    </tr>\n",
       "    <tr>\n",
       "      <th>26052</th>\n",
       "      <th>1188</th>\n",
       "      <td>2</td>\n",
       "      <td>Learn To Fly</td>\n",
       "      <td>There Is Nothing Left To Lose</td>\n",
       "      <td>Foo Fighters</td>\n",
       "      <td>1999</td>\n",
       "    </tr>\n",
       "    <tr>\n",
       "      <th>41572</th>\n",
       "      <th>1188</th>\n",
       "      <td>3</td>\n",
       "      <td>Learn To Fly</td>\n",
       "      <td>There Is Nothing Left To Lose</td>\n",
       "      <td>Foo Fighters</td>\n",
       "      <td>1999</td>\n",
       "    </tr>\n",
       "    <tr>\n",
       "      <th>10902</th>\n",
       "      <th>1188</th>\n",
       "      <td>1</td>\n",
       "      <td>Learn To Fly</td>\n",
       "      <td>There Is Nothing Left To Lose</td>\n",
       "      <td>Foo Fighters</td>\n",
       "      <td>1999</td>\n",
       "    </tr>\n",
       "    <tr>\n",
       "      <th>36014</th>\n",
       "      <th>1188</th>\n",
       "      <td>1</td>\n",
       "      <td>Learn To Fly</td>\n",
       "      <td>There Is Nothing Left To Lose</td>\n",
       "      <td>Foo Fighters</td>\n",
       "      <td>1999</td>\n",
       "    </tr>\n",
       "    <tr>\n",
       "      <th>74002</th>\n",
       "      <th>1188</th>\n",
       "      <td>1</td>\n",
       "      <td>Learn To Fly</td>\n",
       "      <td>There Is Nothing Left To Lose</td>\n",
       "      <td>Foo Fighters</td>\n",
       "      <td>1999</td>\n",
       "    </tr>\n",
       "    <tr>\n",
       "      <th>15733</th>\n",
       "      <th>1188</th>\n",
       "      <td>2</td>\n",
       "      <td>Learn To Fly</td>\n",
       "      <td>There Is Nothing Left To Lose</td>\n",
       "      <td>Foo Fighters</td>\n",
       "      <td>1999</td>\n",
       "    </tr>\n",
       "    <tr>\n",
       "      <th>47516</th>\n",
       "      <th>1188</th>\n",
       "      <td>1</td>\n",
       "      <td>Learn To Fly</td>\n",
       "      <td>There Is Nothing Left To Lose</td>\n",
       "      <td>Foo Fighters</td>\n",
       "      <td>1999</td>\n",
       "    </tr>\n",
       "    <tr>\n",
       "      <th>76287</th>\n",
       "      <th>1188</th>\n",
       "      <td>1</td>\n",
       "      <td>Learn To Fly</td>\n",
       "      <td>There Is Nothing Left To Lose</td>\n",
       "      <td>Foo Fighters</td>\n",
       "      <td>1999</td>\n",
       "    </tr>\n",
       "    <tr>\n",
       "      <th>3237</th>\n",
       "      <th>1188</th>\n",
       "      <td>4</td>\n",
       "      <td>Learn To Fly</td>\n",
       "      <td>There Is Nothing Left To Lose</td>\n",
       "      <td>Foo Fighters</td>\n",
       "      <td>1999</td>\n",
       "    </tr>\n",
       "    <tr>\n",
       "      <th>66999</th>\n",
       "      <th>1188</th>\n",
       "      <td>2</td>\n",
       "      <td>Learn To Fly</td>\n",
       "      <td>There Is Nothing Left To Lose</td>\n",
       "      <td>Foo Fighters</td>\n",
       "      <td>1999</td>\n",
       "    </tr>\n",
       "    <tr>\n",
       "      <th>40451</th>\n",
       "      <th>1188</th>\n",
       "      <td>2</td>\n",
       "      <td>Learn To Fly</td>\n",
       "      <td>There Is Nothing Left To Lose</td>\n",
       "      <td>Foo Fighters</td>\n",
       "      <td>1999</td>\n",
       "    </tr>\n",
       "    <tr>\n",
       "      <th>73325</th>\n",
       "      <th>1188</th>\n",
       "      <td>3</td>\n",
       "      <td>Learn To Fly</td>\n",
       "      <td>There Is Nothing Left To Lose</td>\n",
       "      <td>Foo Fighters</td>\n",
       "      <td>1999</td>\n",
       "    </tr>\n",
       "    <tr>\n",
       "      <th>69567</th>\n",
       "      <th>1188</th>\n",
       "      <td>5</td>\n",
       "      <td>Learn To Fly</td>\n",
       "      <td>There Is Nothing Left To Lose</td>\n",
       "      <td>Foo Fighters</td>\n",
       "      <td>1999</td>\n",
       "    </tr>\n",
       "    <tr>\n",
       "      <th>51122</th>\n",
       "      <th>1188</th>\n",
       "      <td>3</td>\n",
       "      <td>Learn To Fly</td>\n",
       "      <td>There Is Nothing Left To Lose</td>\n",
       "      <td>Foo Fighters</td>\n",
       "      <td>1999</td>\n",
       "    </tr>\n",
       "    <tr>\n",
       "      <th>63988</th>\n",
       "      <th>1188</th>\n",
       "      <td>2</td>\n",
       "      <td>Learn To Fly</td>\n",
       "      <td>There Is Nothing Left To Lose</td>\n",
       "      <td>Foo Fighters</td>\n",
       "      <td>1999</td>\n",
       "    </tr>\n",
       "    <tr>\n",
       "      <th>16156</th>\n",
       "      <th>1188</th>\n",
       "      <td>2</td>\n",
       "      <td>Learn To Fly</td>\n",
       "      <td>There Is Nothing Left To Lose</td>\n",
       "      <td>Foo Fighters</td>\n",
       "      <td>1999</td>\n",
       "    </tr>\n",
       "  </tbody>\n",
       "</table>\n",
       "</div>"
      ],
      "text/plain": [
       "                 play_count         title                        release  \\\n",
       "user_id song_id                                                            \n",
       "19774   1188              2  Learn To Fly  There Is Nothing Left To Lose   \n",
       "68627   1188              3  Learn To Fly  There Is Nothing Left To Lose   \n",
       "19751   1188              1  Learn To Fly  There Is Nothing Left To Lose   \n",
       "36015   1188              1  Learn To Fly  There Is Nothing Left To Lose   \n",
       "23472   1188              1  Learn To Fly  There Is Nothing Left To Lose   \n",
       "70760   1188              1  Learn To Fly  There Is Nothing Left To Lose   \n",
       "53134   1188              3  Learn To Fly  There Is Nothing Left To Lose   \n",
       "70285   1188              1  Learn To Fly  There Is Nothing Left To Lose   \n",
       "19783   1188              2  Learn To Fly  There Is Nothing Left To Lose   \n",
       "48066   1188              3  Learn To Fly  There Is Nothing Left To Lose   \n",
       "4768    1188              1  Learn To Fly  There Is Nothing Left To Lose   \n",
       "45482   1188              1  Learn To Fly  There Is Nothing Left To Lose   \n",
       "55173   1188              1  Learn To Fly  There Is Nothing Left To Lose   \n",
       "14911   1188              1  Learn To Fly  There Is Nothing Left To Lose   \n",
       "72937   1188              1  Learn To Fly  There Is Nothing Left To Lose   \n",
       "62797   1188              1  Learn To Fly  There Is Nothing Left To Lose   \n",
       "19848   1188              1  Learn To Fly  There Is Nothing Left To Lose   \n",
       "67980   1188              1  Learn To Fly  There Is Nothing Left To Lose   \n",
       "73070   1188              1  Learn To Fly  There Is Nothing Left To Lose   \n",
       "70341   1188              4  Learn To Fly  There Is Nothing Left To Lose   \n",
       "59840   1188              1  Learn To Fly  There Is Nothing Left To Lose   \n",
       "38694   1188              1  Learn To Fly  There Is Nothing Left To Lose   \n",
       "68884   1188              1  Learn To Fly  There Is Nothing Left To Lose   \n",
       "35118   1188              1  Learn To Fly  There Is Nothing Left To Lose   \n",
       "49418   1188              4  Learn To Fly  There Is Nothing Left To Lose   \n",
       "46796   1188              2  Learn To Fly  There Is Nothing Left To Lose   \n",
       "31514   1188              1  Learn To Fly  There Is Nothing Left To Lose   \n",
       "21883   1188              1  Learn To Fly  There Is Nothing Left To Lose   \n",
       "11035   1188              1  Learn To Fly  There Is Nothing Left To Lose   \n",
       "61872   1188              1  Learn To Fly  There Is Nothing Left To Lose   \n",
       "11780   1188              1  Learn To Fly  There Is Nothing Left To Lose   \n",
       "2073    1188              1  Learn To Fly  There Is Nothing Left To Lose   \n",
       "26052   1188              2  Learn To Fly  There Is Nothing Left To Lose   \n",
       "41572   1188              3  Learn To Fly  There Is Nothing Left To Lose   \n",
       "10902   1188              1  Learn To Fly  There Is Nothing Left To Lose   \n",
       "36014   1188              1  Learn To Fly  There Is Nothing Left To Lose   \n",
       "74002   1188              1  Learn To Fly  There Is Nothing Left To Lose   \n",
       "15733   1188              2  Learn To Fly  There Is Nothing Left To Lose   \n",
       "47516   1188              1  Learn To Fly  There Is Nothing Left To Lose   \n",
       "76287   1188              1  Learn To Fly  There Is Nothing Left To Lose   \n",
       "3237    1188              4  Learn To Fly  There Is Nothing Left To Lose   \n",
       "66999   1188              2  Learn To Fly  There Is Nothing Left To Lose   \n",
       "40451   1188              2  Learn To Fly  There Is Nothing Left To Lose   \n",
       "73325   1188              3  Learn To Fly  There Is Nothing Left To Lose   \n",
       "69567   1188              5  Learn To Fly  There Is Nothing Left To Lose   \n",
       "51122   1188              3  Learn To Fly  There Is Nothing Left To Lose   \n",
       "63988   1188              2  Learn To Fly  There Is Nothing Left To Lose   \n",
       "16156   1188              2  Learn To Fly  There Is Nothing Left To Lose   \n",
       "\n",
       "                  artist_name  year  \n",
       "user_id song_id                      \n",
       "19774   1188     Foo Fighters  1999  \n",
       "68627   1188     Foo Fighters  1999  \n",
       "19751   1188     Foo Fighters  1999  \n",
       "36015   1188     Foo Fighters  1999  \n",
       "23472   1188     Foo Fighters  1999  \n",
       "70760   1188     Foo Fighters  1999  \n",
       "53134   1188     Foo Fighters  1999  \n",
       "70285   1188     Foo Fighters  1999  \n",
       "19783   1188     Foo Fighters  1999  \n",
       "48066   1188     Foo Fighters  1999  \n",
       "4768    1188     Foo Fighters  1999  \n",
       "45482   1188     Foo Fighters  1999  \n",
       "55173   1188     Foo Fighters  1999  \n",
       "14911   1188     Foo Fighters  1999  \n",
       "72937   1188     Foo Fighters  1999  \n",
       "62797   1188     Foo Fighters  1999  \n",
       "19848   1188     Foo Fighters  1999  \n",
       "67980   1188     Foo Fighters  1999  \n",
       "73070   1188     Foo Fighters  1999  \n",
       "70341   1188     Foo Fighters  1999  \n",
       "59840   1188     Foo Fighters  1999  \n",
       "38694   1188     Foo Fighters  1999  \n",
       "68884   1188     Foo Fighters  1999  \n",
       "35118   1188     Foo Fighters  1999  \n",
       "49418   1188     Foo Fighters  1999  \n",
       "46796   1188     Foo Fighters  1999  \n",
       "31514   1188     Foo Fighters  1999  \n",
       "21883   1188     Foo Fighters  1999  \n",
       "11035   1188     Foo Fighters  1999  \n",
       "61872   1188     Foo Fighters  1999  \n",
       "11780   1188     Foo Fighters  1999  \n",
       "2073    1188     Foo Fighters  1999  \n",
       "26052   1188     Foo Fighters  1999  \n",
       "41572   1188     Foo Fighters  1999  \n",
       "10902   1188     Foo Fighters  1999  \n",
       "36014   1188     Foo Fighters  1999  \n",
       "74002   1188     Foo Fighters  1999  \n",
       "15733   1188     Foo Fighters  1999  \n",
       "47516   1188     Foo Fighters  1999  \n",
       "76287   1188     Foo Fighters  1999  \n",
       "3237    1188     Foo Fighters  1999  \n",
       "66999   1188     Foo Fighters  1999  \n",
       "40451   1188     Foo Fighters  1999  \n",
       "73325   1188     Foo Fighters  1999  \n",
       "69567   1188     Foo Fighters  1999  \n",
       "51122   1188     Foo Fighters  1999  \n",
       "63988   1188     Foo Fighters  1999  \n",
       "16156   1188     Foo Fighters  1999  "
      ]
     },
     "execution_count": 53,
     "metadata": {},
     "output_type": "execute_result"
    }
   ],
   "source": [
    "# Find the song with title 'Learn To Fly'\n",
    "test_data_indexed[test_data_indexed['title'] == 'Learn To Fly']"
   ]
  },
  {
   "cell_type": "markdown",
   "metadata": {
    "id": "H_6U1_NVcFcQ"
   },
   "source": [
    "- There are **117,876 observations** and **7 columns** in the data. \n",
    "- All the columns are of **numeric data type** except the **title, release, artist_name**."
   ]
  },
  {
   "cell_type": "markdown",
   "metadata": {
    "id": "sqyBZ8IFcH5y"
   },
   "source": [
    "### **Popularity-Based Recommendation Systems**"
   ]
  },
  {
   "cell_type": "markdown",
   "metadata": {
    "id": "Spba28PvcOPe"
   },
   "source": [
    "Let's take the count and sum of play counts of the songs and build the popularity recommendation systems based on the sum of play counts."
   ]
  },
  {
   "cell_type": "code",
   "execution_count": 54,
   "metadata": {
    "id": "1VbkgWAIcDiT"
   },
   "outputs": [],
   "source": [
    "# Calculating average play_count\n",
    "average_count = df_final.groupby('song_id')['play_count'].agg(['mean']).sort_values(by='song_id', ascending = True)\n",
    "\n",
    "# Calculating the frequency a song is played\n",
    "play_freq = df_final.groupby('song_id')['play_count'].agg(['count']).sort_values(by='song_id', ascending = True)"
   ]
  },
  {
   "cell_type": "code",
   "execution_count": 55,
   "metadata": {},
   "outputs": [],
   "source": [
    "# Calculating average play_count for the training data\n",
    "train_average_count = train_data_indexed.groupby('song_id')['play_count'].agg(['mean']).sort_values(by='song_id', ascending = True)\n",
    "\n",
    "# Calculating the frequency a song is played for the training data\n",
    "train_play_freq = train_data_indexed.groupby('song_id')['play_count'].agg(['count']).sort_values(by='song_id', ascending = True)"
   ]
  },
  {
   "cell_type": "code",
   "execution_count": 56,
   "metadata": {
    "colab": {
     "base_uri": "https://localhost:8080/"
    },
    "id": "yBMb3AGZcXqt",
    "outputId": "2231887e-fc20-42a7-9534-28bc9ddda760"
   },
   "outputs": [],
   "source": [
    "# Calculating average play_count for the test data\n",
    "test_average_count = test_data_indexed.groupby('song_id')['play_count'].agg(['mean']).sort_values(by='song_id', ascending = True)\n",
    "\n",
    "# Calculating the frequency a song is played for the test data\n",
    "test_play_freq = test_data_indexed.groupby('song_id')['play_count'].agg(['count']).sort_values(by='song_id', ascending = True)"
   ]
  },
  {
   "cell_type": "code",
   "execution_count": 57,
   "metadata": {
    "colab": {
     "base_uri": "https://localhost:8080/",
     "height": 237
    },
    "id": "_xxO5VQccfQ9",
    "outputId": "da11c71b-294f-4388-f8b0-a90c5a64900c"
   },
   "outputs": [
    {
     "data": {
      "text/html": [
       "<div>\n",
       "<style scoped>\n",
       "    .dataframe tbody tr th:only-of-type {\n",
       "        vertical-align: middle;\n",
       "    }\n",
       "\n",
       "    .dataframe tbody tr th {\n",
       "        vertical-align: top;\n",
       "    }\n",
       "\n",
       "    .dataframe thead th {\n",
       "        text-align: right;\n",
       "    }\n",
       "</style>\n",
       "<table border=\"1\" class=\"dataframe\">\n",
       "  <thead>\n",
       "    <tr style=\"text-align: right;\">\n",
       "      <th></th>\n",
       "      <th>avg_count</th>\n",
       "      <th>play_freq</th>\n",
       "    </tr>\n",
       "    <tr>\n",
       "      <th>song_id</th>\n",
       "      <th></th>\n",
       "      <th></th>\n",
       "    </tr>\n",
       "  </thead>\n",
       "  <tbody>\n",
       "    <tr>\n",
       "      <th>21</th>\n",
       "      <td>1.622642</td>\n",
       "      <td>265</td>\n",
       "    </tr>\n",
       "    <tr>\n",
       "      <th>22</th>\n",
       "      <td>1.492424</td>\n",
       "      <td>132</td>\n",
       "    </tr>\n",
       "    <tr>\n",
       "      <th>52</th>\n",
       "      <td>1.729216</td>\n",
       "      <td>421</td>\n",
       "    </tr>\n",
       "    <tr>\n",
       "      <th>62</th>\n",
       "      <td>1.728070</td>\n",
       "      <td>114</td>\n",
       "    </tr>\n",
       "    <tr>\n",
       "      <th>93</th>\n",
       "      <td>1.452174</td>\n",
       "      <td>115</td>\n",
       "    </tr>\n",
       "  </tbody>\n",
       "</table>\n",
       "</div>"
      ],
      "text/plain": [
       "         avg_count  play_freq\n",
       "song_id                      \n",
       "21        1.622642        265\n",
       "22        1.492424        132\n",
       "52        1.729216        421\n",
       "62        1.728070        114\n",
       "93        1.452174        115"
      ]
     },
     "execution_count": 57,
     "metadata": {},
     "output_type": "execute_result"
    }
   ],
   "source": [
    "# Making a dataframe with the average_count and play_freq\n",
    "final_play = pd.DataFrame({'avg_count': average_count['mean'], 'play_freq': play_freq['count']})\n",
    "\n",
    "# Let us see the first five records of the final_play dataset\n",
    "final_play.head()"
   ]
  },
  {
   "cell_type": "code",
   "execution_count": 58,
   "metadata": {},
   "outputs": [
    {
     "data": {
      "text/plain": [
       "(563, 2)"
      ]
     },
     "execution_count": 58,
     "metadata": {},
     "output_type": "execute_result"
    }
   ],
   "source": [
    "final_play.shape"
   ]
  },
  {
   "cell_type": "code",
   "execution_count": 59,
   "metadata": {},
   "outputs": [
    {
     "data": {
      "text/html": [
       "<div>\n",
       "<style scoped>\n",
       "    .dataframe tbody tr th:only-of-type {\n",
       "        vertical-align: middle;\n",
       "    }\n",
       "\n",
       "    .dataframe tbody tr th {\n",
       "        vertical-align: top;\n",
       "    }\n",
       "\n",
       "    .dataframe thead th {\n",
       "        text-align: right;\n",
       "    }\n",
       "</style>\n",
       "<table border=\"1\" class=\"dataframe\">\n",
       "  <thead>\n",
       "    <tr style=\"text-align: right;\">\n",
       "      <th></th>\n",
       "      <th>avg_count</th>\n",
       "      <th>play_freq</th>\n",
       "    </tr>\n",
       "    <tr>\n",
       "      <th>song_id</th>\n",
       "      <th></th>\n",
       "      <th></th>\n",
       "    </tr>\n",
       "  </thead>\n",
       "  <tbody>\n",
       "    <tr>\n",
       "      <th>21</th>\n",
       "      <td>1.600000</td>\n",
       "      <td>215</td>\n",
       "    </tr>\n",
       "    <tr>\n",
       "      <th>22</th>\n",
       "      <td>1.560748</td>\n",
       "      <td>107</td>\n",
       "    </tr>\n",
       "    <tr>\n",
       "      <th>52</th>\n",
       "      <td>1.738602</td>\n",
       "      <td>329</td>\n",
       "    </tr>\n",
       "    <tr>\n",
       "      <th>62</th>\n",
       "      <td>1.640449</td>\n",
       "      <td>89</td>\n",
       "    </tr>\n",
       "    <tr>\n",
       "      <th>93</th>\n",
       "      <td>1.472527</td>\n",
       "      <td>91</td>\n",
       "    </tr>\n",
       "  </tbody>\n",
       "</table>\n",
       "</div>"
      ],
      "text/plain": [
       "         avg_count  play_freq\n",
       "song_id                      \n",
       "21        1.600000        215\n",
       "22        1.560748        107\n",
       "52        1.738602        329\n",
       "62        1.640449         89\n",
       "93        1.472527         91"
      ]
     },
     "execution_count": 59,
     "metadata": {},
     "output_type": "execute_result"
    }
   ],
   "source": [
    "# Making a dataframe with the train_average_count and train_play_freq\n",
    "train_final_play = pd.DataFrame({'avg_count': train_average_count['mean'], 'play_freq': train_play_freq['count']})\n",
    "\n",
    "# Let us see the first five records of the train_final_play dataset\n",
    "train_final_play.head()"
   ]
  },
  {
   "cell_type": "code",
   "execution_count": 60,
   "metadata": {},
   "outputs": [
    {
     "data": {
      "text/html": [
       "<div>\n",
       "<style scoped>\n",
       "    .dataframe tbody tr th:only-of-type {\n",
       "        vertical-align: middle;\n",
       "    }\n",
       "\n",
       "    .dataframe tbody tr th {\n",
       "        vertical-align: top;\n",
       "    }\n",
       "\n",
       "    .dataframe thead th {\n",
       "        text-align: right;\n",
       "    }\n",
       "</style>\n",
       "<table border=\"1\" class=\"dataframe\">\n",
       "  <thead>\n",
       "    <tr style=\"text-align: right;\">\n",
       "      <th></th>\n",
       "      <th>avg_count</th>\n",
       "      <th>play_freq</th>\n",
       "    </tr>\n",
       "    <tr>\n",
       "      <th>song_id</th>\n",
       "      <th></th>\n",
       "      <th></th>\n",
       "    </tr>\n",
       "  </thead>\n",
       "  <tbody>\n",
       "    <tr>\n",
       "      <th>21</th>\n",
       "      <td>1.720000</td>\n",
       "      <td>50</td>\n",
       "    </tr>\n",
       "    <tr>\n",
       "      <th>22</th>\n",
       "      <td>1.200000</td>\n",
       "      <td>25</td>\n",
       "    </tr>\n",
       "    <tr>\n",
       "      <th>52</th>\n",
       "      <td>1.695652</td>\n",
       "      <td>92</td>\n",
       "    </tr>\n",
       "    <tr>\n",
       "      <th>62</th>\n",
       "      <td>2.040000</td>\n",
       "      <td>25</td>\n",
       "    </tr>\n",
       "    <tr>\n",
       "      <th>93</th>\n",
       "      <td>1.375000</td>\n",
       "      <td>24</td>\n",
       "    </tr>\n",
       "  </tbody>\n",
       "</table>\n",
       "</div>"
      ],
      "text/plain": [
       "         avg_count  play_freq\n",
       "song_id                      \n",
       "21        1.720000         50\n",
       "22        1.200000         25\n",
       "52        1.695652         92\n",
       "62        2.040000         25\n",
       "93        1.375000         24"
      ]
     },
     "execution_count": 60,
     "metadata": {},
     "output_type": "execute_result"
    }
   ],
   "source": [
    "# Making a dataframe with the test_average_count and test_play_freq\n",
    "test_final_play = pd.DataFrame({'avg_count': test_average_count['mean'], 'play_freq': test_play_freq['count']})\n",
    "\n",
    "# Let us see the first five records of the test_final_play dataset\n",
    "test_final_play.head()"
   ]
  },
  {
   "cell_type": "markdown",
   "metadata": {
    "id": "aYJCqVSbclvN"
   },
   "source": [
    "Now, let's create a function to find the top n songs for a recommendation based on the average play count of song. We can also add a threshold for a minimum number of playcounts for a song to be considered for recommendation."
   ]
  },
  {
   "cell_type": "code",
   "execution_count": 61,
   "metadata": {
    "id": "XVlOcSRucjAJ"
   },
   "outputs": [],
   "source": [
    "# Build the function to find top n songs\n",
    "def top_n_songs(data, n, min_interaction = 100):\n",
    "    \n",
    "    # Finding songs with interactions greater than the minimum number of interactions\n",
    "    recommendations = data[data['play_freq'] > min_interaction]\n",
    "    \n",
    "    # Sorting values with respect to the average rating\n",
    "    recommendations = recommendations.sort_values(by = 'avg_count', ascending = False)\n",
    "    \n",
    "    return recommendations.index[:n]"
   ]
  },
  {
   "cell_type": "markdown",
   "metadata": {
    "id": "qFCiwN60cqXl"
   },
   "source": [
    "We can **use this function with different n's and minimum interactions** as threshold for a minimum number of playcounts for a song to be considered for recommendation."
   ]
  },
  {
   "cell_type": "markdown",
   "metadata": {
    "id": "vtIDwJqacsxi"
   },
   "source": [
    "### **Recommending top 10 songs with 50 minimum interactions based on popularity**"
   ]
  },
  {
   "cell_type": "code",
   "execution_count": 162,
   "metadata": {},
   "outputs": [
    {
     "data": {
      "text/html": [
       "<div>\n",
       "<style scoped>\n",
       "    .dataframe tbody tr th:only-of-type {\n",
       "        vertical-align: middle;\n",
       "    }\n",
       "\n",
       "    .dataframe tbody tr th {\n",
       "        vertical-align: top;\n",
       "    }\n",
       "\n",
       "    .dataframe thead th {\n",
       "        text-align: right;\n",
       "    }\n",
       "</style>\n",
       "<table border=\"1\" class=\"dataframe\">\n",
       "  <thead>\n",
       "    <tr style=\"text-align: right;\">\n",
       "      <th></th>\n",
       "      <th>user_id</th>\n",
       "      <th>song_id</th>\n",
       "      <th>play_count</th>\n",
       "      <th>title</th>\n",
       "      <th>release</th>\n",
       "      <th>artist_name</th>\n",
       "      <th>year</th>\n",
       "      <th>text</th>\n",
       "    </tr>\n",
       "  </thead>\n",
       "  <tbody>\n",
       "    <tr>\n",
       "      <th>0</th>\n",
       "      <td>6958</td>\n",
       "      <td>447</td>\n",
       "      <td>1</td>\n",
       "      <td>Daisy And Prudence</td>\n",
       "      <td>Distillation</td>\n",
       "      <td>Erin McKeown</td>\n",
       "      <td>2000</td>\n",
       "      <td>Daisy And Prudence Distillation Erin McKeown</td>\n",
       "    </tr>\n",
       "    <tr>\n",
       "      <th>1</th>\n",
       "      <td>6958</td>\n",
       "      <td>512</td>\n",
       "      <td>1</td>\n",
       "      <td>The Ballad of Michael Valentine</td>\n",
       "      <td>Sawdust</td>\n",
       "      <td>The Killers</td>\n",
       "      <td>2004</td>\n",
       "      <td>The Ballad of Michael Valentine Sawdust The Ki...</td>\n",
       "    </tr>\n",
       "    <tr>\n",
       "      <th>2</th>\n",
       "      <td>6958</td>\n",
       "      <td>549</td>\n",
       "      <td>1</td>\n",
       "      <td>I Stand Corrected (Album)</td>\n",
       "      <td>Vampire Weekend</td>\n",
       "      <td>Vampire Weekend</td>\n",
       "      <td>2007</td>\n",
       "      <td>I Stand Corrected (Album) Vampire Weekend Vamp...</td>\n",
       "    </tr>\n",
       "    <tr>\n",
       "      <th>3</th>\n",
       "      <td>6958</td>\n",
       "      <td>703</td>\n",
       "      <td>1</td>\n",
       "      <td>They Might Follow You</td>\n",
       "      <td>Tiny Vipers</td>\n",
       "      <td>Tiny Vipers</td>\n",
       "      <td>2007</td>\n",
       "      <td>They Might Follow You Tiny Vipers Tiny Vipers</td>\n",
       "    </tr>\n",
       "    <tr>\n",
       "      <th>4</th>\n",
       "      <td>6958</td>\n",
       "      <td>719</td>\n",
       "      <td>1</td>\n",
       "      <td>Monkey Man</td>\n",
       "      <td>You Know I'm No Good</td>\n",
       "      <td>Amy Winehouse</td>\n",
       "      <td>2007</td>\n",
       "      <td>Monkey Man You Know I'm No Good Amy Winehouse</td>\n",
       "    </tr>\n",
       "  </tbody>\n",
       "</table>\n",
       "</div>"
      ],
      "text/plain": [
       "   user_id  song_id  play_count                            title  \\\n",
       "0     6958      447           1               Daisy And Prudence   \n",
       "1     6958      512           1  The Ballad of Michael Valentine   \n",
       "2     6958      549           1        I Stand Corrected (Album)   \n",
       "3     6958      703           1            They Might Follow You   \n",
       "4     6958      719           1                       Monkey Man   \n",
       "\n",
       "                release      artist_name  year  \\\n",
       "0          Distillation     Erin McKeown  2000   \n",
       "1               Sawdust      The Killers  2004   \n",
       "2       Vampire Weekend  Vampire Weekend  2007   \n",
       "3           Tiny Vipers      Tiny Vipers  2007   \n",
       "4  You Know I'm No Good    Amy Winehouse  2007   \n",
       "\n",
       "                                                text  \n",
       "0       Daisy And Prudence Distillation Erin McKeown  \n",
       "1  The Ballad of Michael Valentine Sawdust The Ki...  \n",
       "2  I Stand Corrected (Album) Vampire Weekend Vamp...  \n",
       "3      They Might Follow You Tiny Vipers Tiny Vipers  \n",
       "4      Monkey Man You Know I'm No Good Amy Winehouse  "
      ]
     },
     "execution_count": 162,
     "metadata": {},
     "output_type": "execute_result"
    }
   ],
   "source": [
    "df_final.head()\n"
   ]
  },
  {
   "cell_type": "code",
   "execution_count": 171,
   "metadata": {},
   "outputs": [],
   "source": [
    "def print_recommended_songs(recommended_songs):\n",
    "    print(recommended_songs)\n",
    "    for i, song in enumerate(df_final.reset_index().loc[recommended_songs, ['title','artist_name', 'year']].values):\n",
    "        print(f\"{i+1}) {song[0]} by {song[1]}, in, {song[2]}\")"
   ]
  },
  {
   "cell_type": "code",
   "execution_count": 176,
   "metadata": {},
   "outputs": [
    {
     "name": "stdout",
     "output_type": "stream",
     "text": [
      "[7224, 8324, 6450, 9942, 5531, 5653, 8483, 2220, 657, 614]\n",
      "1) Joe's Head by Kings Of Leon, in, 2003\n",
      "2) Secrets by OneRepublic, in, 2009\n",
      "3) In Person by The Pussycat Dolls, in, 2008\n",
      "4) If I Ain't Got You by Alicia Keys, in, 2003\n",
      "5) The Funeral (Album Version) by Band Of Horses, in, 0\n",
      "6) Weird Fishes/Arpeggi by Radiohead, in, 2007\n",
      "7) Jamaica Roots II(Agora E Sempre) by Natiruts, in, 0\n",
      "8) In My Place by Coldplay, in, 2001\n",
      "9) Black by Pearl Jam, in, 1991\n",
      "10) Step Through The Door by Soltero, in, 0\n"
     ]
    }
   ],
   "source": [
    "# Recommend top 10 songs using the function defined above\n",
    "print_recommended_songs(list(top_n_songs(final_play, 10, 50)))"
   ]
  },
  {
   "cell_type": "code",
   "execution_count": 177,
   "metadata": {},
   "outputs": [
    {
     "name": "stdout",
     "output_type": "stream",
     "text": [
      "[7224, 8324, 6450, 9942, 5531, 5653, 8483, 2220, 657, 614]\n",
      "1) Joe's Head by Kings Of Leon, in, 2003\n",
      "2) Secrets by OneRepublic, in, 2009\n",
      "3) In Person by The Pussycat Dolls, in, 2008\n",
      "4) If I Ain't Got You by Alicia Keys, in, 2003\n",
      "5) The Funeral (Album Version) by Band Of Horses, in, 0\n",
      "6) Weird Fishes/Arpeggi by Radiohead, in, 2007\n",
      "7) Jamaica Roots II(Agora E Sempre) by Natiruts, in, 0\n",
      "8) In My Place by Coldplay, in, 2001\n",
      "9) Black by Pearl Jam, in, 1991\n",
      "10) Step Through The Door by Soltero, in, 0\n"
     ]
    }
   ],
   "source": [
    "# Recommend top 10 songs using the function defined above\n",
    "print_recommended_songs(list(top_n_songs(final_play, 10, 10)))"
   ]
  },
  {
   "cell_type": "code",
   "execution_count": 172,
   "metadata": {
    "colab": {
     "base_uri": "https://localhost:8080/"
    },
    "id": "bau0ki5jcopc",
    "outputId": "a977ea14-9145-483b-a2e7-d943f426627a"
   },
   "outputs": [
    {
     "name": "stdout",
     "output_type": "stream",
     "text": [
      "[7224, 8324, 6450, 8483, 9942, 657, 5531, 2220, 1664, 5653]\n",
      "1) Joe's Head by Kings Of Leon, in, 2003\n",
      "2) Secrets by OneRepublic, in, 2009\n",
      "3) In Person by The Pussycat Dolls, in, 2008\n",
      "4) Jamaica Roots II(Agora E Sempre) by Natiruts, in, 0\n",
      "5) If I Ain't Got You by Alicia Keys, in, 2003\n",
      "6) Black by Pearl Jam, in, 1991\n",
      "7) The Funeral (Album Version) by Band Of Horses, in, 0\n",
      "8) In My Place by Coldplay, in, 2001\n",
      "9) Electric Bloom by Foals, in, 2008\n",
      "10) Weird Fishes/Arpeggi by Radiohead, in, 2007\n"
     ]
    }
   ],
   "source": [
    "# Recommend top 10 songs using the function defined above\n",
    "print_recommended_songs(list(top_n_songs(train_final_play, 10, 50)))"
   ]
  },
  {
   "cell_type": "code",
   "execution_count": 173,
   "metadata": {},
   "outputs": [
    {
     "name": "stdout",
     "output_type": "stream",
     "text": [
      "[614, 6246, 5531, 4284, 352, 1334, 4448, 2220, 6230, 7913]\n",
      "1) Step Through The Door by Soltero, in, 0\n",
      "2) Use Somebody by Kings Of Leon, in, 2008\n",
      "3) The Funeral (Album Version) by Band Of Horses, in, 0\n",
      "4) When I Grow Up by The Pussycat Dolls, in, 2008\n",
      "5) Ghost At The Foot Of The Bed by Soltero, in, 0\n",
      "6) Until The End Of Time by Justin Timberlake duet with Beyonce, in, 2006\n",
      "7) Cousins by Vampire Weekend, in, 2009\n",
      "8) In My Place by Coldplay, in, 2001\n",
      "9) Stuck In The Moment by Justin Bieber, in, 2010\n",
      "10) Revelry by Kings Of Leon, in, 2008\n"
     ]
    }
   ],
   "source": [
    "# Recommend top 10 songs using the function defined above\n",
    "print_recommended_songs(list(top_n_songs(test_final_play, 10, 50)))"
   ]
  },
  {
   "cell_type": "code",
   "execution_count": 174,
   "metadata": {},
   "outputs": [
    {
     "name": "stdout",
     "output_type": "stream",
     "text": [
      "[7224, 8324, 6450, 8483, 9942, 657, 5531, 2220, 1664, 5653]\n",
      "1) Joe's Head by Kings Of Leon, in, 2003\n",
      "2) Secrets by OneRepublic, in, 2009\n",
      "3) In Person by The Pussycat Dolls, in, 2008\n",
      "4) Jamaica Roots II(Agora E Sempre) by Natiruts, in, 0\n",
      "5) If I Ain't Got You by Alicia Keys, in, 2003\n",
      "6) Black by Pearl Jam, in, 1991\n",
      "7) The Funeral (Album Version) by Band Of Horses, in, 0\n",
      "8) In My Place by Coldplay, in, 2001\n",
      "9) Electric Bloom by Foals, in, 2008\n",
      "10) Weird Fishes/Arpeggi by Radiohead, in, 2007\n"
     ]
    }
   ],
   "source": [
    "# Recommend top 10 songs using the function defined above\n",
    "print_recommended_songs(list(top_n_songs(train_final_play, 10, 10)))"
   ]
  },
  {
   "cell_type": "code",
   "execution_count": 175,
   "metadata": {},
   "outputs": [
    {
     "name": "stdout",
     "output_type": "stream",
     "text": [
      "[5653, 7224, 9942, 614, 4462, 8610, 8324, 8831, 6246, 5531]\n",
      "1) Weird Fishes/Arpeggi by Radiohead, in, 2007\n",
      "2) Joe's Head by Kings Of Leon, in, 2003\n",
      "3) If I Ain't Got You by Alicia Keys, in, 2003\n",
      "4) Step Through The Door by Soltero, in, 0\n",
      "5) Cosmic Love by Florence + The Machine, in, 2009\n",
      "6) Shiver by Coldplay, in, 2000\n",
      "7) Secrets by OneRepublic, in, 2009\n",
      "8) I Gotta Feeling by Black Eyed Peas, in, 2009\n",
      "9) Use Somebody by Kings Of Leon, in, 2008\n",
      "10) The Funeral (Album Version) by Band Of Horses, in, 0\n"
     ]
    }
   ],
   "source": [
    "# Recommend top 10 songs using the function defined above\n",
    "print_recommended_songs(list(top_n_songs(test_final_play, 10, 10)))"
   ]
  },
  {
   "cell_type": "code",
   "execution_count": 66,
   "metadata": {},
   "outputs": [],
   "source": [
    "# Evaluating the model with the function to calulate the precision@k, recall@k, and F_1 score for the Popularity-Based Recommendation Systems\n",
    "def evaluate_popularity_model(train_data, test_data, k, min_interaction):\n",
    "    # Get the top n songs\n",
    "    top_n_songs_train = top_n_songs(train_data, k, min_interaction)\n",
    "    top_n_songs_test = top_n_songs(test_data, k, min_interaction)\n",
    "\n",
    "    # Get the common songs in the train and test set\n",
    "    common_songs = set(top_n_songs_train).intersection(set(top_n_songs_test))\n",
    "\n",
    "    # Calculate the precision@k\n",
    "    precision = len(common_songs)/k\n",
    "\n",
    "    # Calculate the recall@k\n",
    "    recall = len(common_songs)/len(top_n_songs_test)\n",
    "\n",
    "    # Calculate the F_1 score\n",
    "    f_1 = round((2 * precision * recall) / (precision + recall), 3)\n",
    "\n",
    "    # Command to print the overall precision\n",
    "    print('Precision: ', precision)\n",
    "\n",
    "    # Command to print the overall recall\n",
    "    print('Recall: ', recall)\n",
    "    \n",
    "    # Formula to compute the F-1 score\n",
    "    print('F_1 score: ', f_1)\n",
    "\n",
    "    # return precision, recall, f_1"
   ]
  },
  {
   "cell_type": "code",
   "execution_count": 67,
   "metadata": {},
   "outputs": [
    {
     "name": "stdout",
     "output_type": "stream",
     "text": [
      "Precision:  0.5\n",
      "Recall:  0.5\n",
      "F_1 score:  0.5\n"
     ]
    }
   ],
   "source": [
    "# Evaluating the model with the function defined above\n",
    "evaluate_popularity_model(train_final_play, test_final_play, 10, 1)"
   ]
  },
  {
   "cell_type": "code",
   "execution_count": 68,
   "metadata": {},
   "outputs": [
    {
     "name": "stdout",
     "output_type": "stream",
     "text": [
      "Precision:  0.5\n",
      "Recall:  0.5\n",
      "F_1 score:  0.5\n"
     ]
    }
   ],
   "source": [
    "# Evaluating the model with the function defined above\n",
    "evaluate_popularity_model(train_final_play, test_final_play, 10, 2)"
   ]
  },
  {
   "cell_type": "code",
   "execution_count": 69,
   "metadata": {},
   "outputs": [
    {
     "name": "stdout",
     "output_type": "stream",
     "text": [
      "Precision:  0.5\n",
      "Recall:  0.5\n",
      "F_1 score:  0.5\n"
     ]
    }
   ],
   "source": [
    "# Evaluating the model with the function defined above\n",
    "evaluate_popularity_model(train_final_play, test_final_play, 10, 10)"
   ]
  },
  {
   "cell_type": "code",
   "execution_count": 70,
   "metadata": {},
   "outputs": [
    {
     "name": "stdout",
     "output_type": "stream",
     "text": [
      "Precision:  0.4\n",
      "Recall:  0.4\n",
      "F_1 score:  0.4\n"
     ]
    }
   ],
   "source": [
    "# Evaluating the model with the function defined above\n",
    "evaluate_popularity_model(train_final_play, test_final_play, 10, 15)"
   ]
  },
  {
   "cell_type": "code",
   "execution_count": 71,
   "metadata": {},
   "outputs": [
    {
     "name": "stdout",
     "output_type": "stream",
     "text": [
      "Precision:  0.3\n",
      "Recall:  0.3\n",
      "F_1 score:  0.3\n"
     ]
    }
   ],
   "source": [
    "# Evaluating the model with the function defined above\n",
    "evaluate_popularity_model(train_final_play, test_final_play, 10, 20)"
   ]
  },
  {
   "cell_type": "code",
   "execution_count": 72,
   "metadata": {},
   "outputs": [
    {
     "name": "stdout",
     "output_type": "stream",
     "text": [
      "Precision:  0.2\n",
      "Recall:  0.2\n",
      "F_1 score:  0.2\n"
     ]
    }
   ],
   "source": [
    "# Evaluating the model with the function defined above\n",
    "evaluate_popularity_model(train_final_play, test_final_play, 10, 50)"
   ]
  },
  {
   "cell_type": "code",
   "execution_count": 73,
   "metadata": {},
   "outputs": [
    {
     "name": "stdout",
     "output_type": "stream",
     "text": [
      "Precision:  0.4\n",
      "Recall:  0.4\n",
      "F_1 score:  0.4\n"
     ]
    }
   ],
   "source": [
    "# Evaluating the model with the function defined above\n",
    "evaluate_popularity_model(train_final_play, test_final_play, 10, 100)"
   ]
  },
  {
   "cell_type": "markdown",
   "metadata": {
    "id": "ANWl0QuUqdH0"
   },
   "source": [
    "### **User-User Similarity-Based Collaborative Filtering**\n",
    "\n",
    "To build the user-user-similarity-based and subsequent models we will use the \"surprise\" library."
   ]
  },
  {
   "cell_type": "code",
   "execution_count": 74,
   "metadata": {
    "colab": {
     "base_uri": "https://localhost:8080/"
    },
    "id": "745WsZwKcuPH",
    "outputId": "c8dae951-e03c-4acf-f9e7-0b5d6ab03d7f"
   },
   "outputs": [
    {
     "name": "stdout",
     "output_type": "stream",
     "text": [
      "Requirement already satisfied: surprise in c:\\users\\andre\\anaconda3\\lib\\site-packages (0.1)\n",
      "Requirement already satisfied: scikit-surprise in c:\\users\\andre\\anaconda3\\lib\\site-packages (from surprise) (1.1.1)\n",
      "Requirement already satisfied: joblib>=0.11 in c:\\users\\andre\\anaconda3\\lib\\site-packages (from scikit-surprise->surprise) (1.1.0)\n",
      "Requirement already satisfied: numpy>=1.11.2 in c:\\users\\andre\\anaconda3\\lib\\site-packages (from scikit-surprise->surprise) (1.21.5)\n",
      "Requirement already satisfied: scipy>=1.0.0 in c:\\users\\andre\\anaconda3\\lib\\site-packages (from scikit-surprise->surprise) (1.9.0)\n",
      "Requirement already satisfied: six>=1.10.0 in c:\\users\\andre\\anaconda3\\lib\\site-packages (from scikit-surprise->surprise) (1.16.0)\n"
     ]
    }
   ],
   "source": [
    "# Install the surprise package using pip. Uncomment and run the below code to do the same\n",
    "!pip install surprise"
   ]
  },
  {
   "cell_type": "code",
   "execution_count": 75,
   "metadata": {
    "id": "Avp5bZKHqwuj"
   },
   "outputs": [],
   "source": [
    "# Import necessary libraries\n",
    "\n",
    "# To compute the accuracy of models\n",
    "from surprise import accuracy\n",
    "\n",
    "# This class is used to parse a file containing play_counts, data should be in structure - user; item; play_count\n",
    "from surprise.reader import Reader\n",
    "\n",
    "# Class for loading datasets\n",
    "from surprise.dataset import Dataset\n",
    "\n",
    "# For tuning model hyperparameters\n",
    "from surprise.model_selection import GridSearchCV, RandomizedSearchCV\n",
    "\n",
    "# For splitting the data in train and test dataset\n",
    "from surprise.model_selection import train_test_split\n",
    "\n",
    "# For implementing similarity-based recommendation system\n",
    "from surprise.prediction_algorithms.knns import KNNBasic\n",
    "\n",
    "# For implementing matrix factorization based recommendation system\n",
    "from surprise.prediction_algorithms.matrix_factorization import SVD\n",
    "\n",
    "# For implementing KFold cross-validation\n",
    "from surprise.model_selection import KFold\n",
    "\n",
    "# For implementing clustering-based recommendation system\n",
    "from surprise import CoClustering"
   ]
  },
  {
   "cell_type": "markdown",
   "metadata": {
    "id": "1_f25CDQq_Sy"
   },
   "source": [
    "### Some useful functions"
   ]
  },
  {
   "cell_type": "code",
   "execution_count": 76,
   "metadata": {
    "id": "WJzKdxO_q_ps"
   },
   "outputs": [],
   "source": [
    "# The function to calulate the RMSE, precision@k, recall@k, and F_1 score\n",
    "def precision_recall_at_k(model, k = 10, threshold = 1.5):\n",
    "    \"\"\"Return precision and recall at k metrics for each user\"\"\"\n",
    "\n",
    "    # First map the predictions to each user.\n",
    "    user_est_true = defaultdict(list)\n",
    "    \n",
    "    # Making predictions on the test data\n",
    "    predictions=model.test(testset)\n",
    "    \n",
    "    for uid, _, true_r, est, _ in predictions:\n",
    "        user_est_true[uid].append((est, true_r))\n",
    "\n",
    "    precisions = dict()\n",
    "    recalls = dict()\n",
    "    for uid, user_ratings in user_est_true.items():\n",
    "\n",
    "        # Sort user ratings by estimated value\n",
    "        user_ratings.sort(key = lambda x : x[0], reverse = True)\n",
    "\n",
    "        # Number of relevant items\n",
    "        n_rel = sum((true_r >= threshold) for (_, true_r) in user_ratings)\n",
    "\n",
    "        # Number of recommended items in top k\n",
    "        n_rec_k = sum((est >= threshold) for (est, _) in user_ratings[ : k])\n",
    "\n",
    "        # Number of relevant and recommended items in top k\n",
    "        n_rel_and_rec_k = sum(((true_r >= threshold) and (est >= threshold))\n",
    "                              for (est, true_r) in user_ratings[ : k])\n",
    "\n",
    "        # Precision@K: Proportion of recommended items that are relevant\n",
    "        # When n_rec_k is 0, Precision is undefined. We here set Precision to 0 when n_rec_k is 0\n",
    "\n",
    "        precisions[uid] = n_rel_and_rec_k / n_rec_k if n_rec_k != 0 else 0\n",
    "\n",
    "        # Recall@K: Proportion of relevant items that are recommended\n",
    "        # When n_rel is 0, Recall is undefined. We here set Recall to 0 when n_rel is 0\n",
    "\n",
    "        recalls[uid] = n_rel_and_rec_k / n_rel if n_rel != 0 else 0\n",
    "    \n",
    "    # Mean of all the predicted precisions are calculated\n",
    "    precision = round((sum(prec for prec in precisions.values()) / len(precisions)), 3)\n",
    "\n",
    "    # Mean of all the predicted recalls are calculated\n",
    "    recall = round((sum(rec for rec in recalls.values()) / len(recalls)), 3)\n",
    "    \n",
    "    accuracy.rmse(predictions)\n",
    "\n",
    "    # Command to print the overall precision\n",
    "    print('Precision: ', precision)\n",
    "\n",
    "    # Command to print the overall recall\n",
    "    print('Recall: ', recall)\n",
    "    \n",
    "    # Formula to compute the F-1 score\n",
    "    print('F_1 score: ', round((2 * precision * recall) / (precision + recall), 3))"
   ]
  },
  {
   "cell_type": "markdown",
   "metadata": {
    "id": "DG02CVcArVWp"
   },
   "source": [
    "- To calculate **precision and recall**, a **threshold of 1.5 and k value of 10 are taken** to filter out the 10 songs with a minimum number of 1.5 plays.\n",
    "- In the **present case, precision and recall, both need to be optimized as the service provider would like to minimize both the losses discussed** above. Hence, the correct performance measure is the **F_1 score**. "
   ]
  },
  {
   "cell_type": "code",
   "execution_count": 77,
   "metadata": {
    "id": "RQvY4fTwrClm"
   },
   "outputs": [],
   "source": [
    "# Instantiating Reader scale with expected rating scale \n",
    "reader = Reader(rating_scale= (0, 5))\n",
    "\n",
    "# Loading the dataset\n",
    "data = Dataset.load_from_df(df_final[[\"user_id\",\"song_id\", \"play_count\"]], reader)\n",
    "\n",
    "# Splitting the data into train and test dataset\n",
    "trainset, testset = train_test_split(data, test_size= 0.4, random_state = 42) # Take test_size = 0.4"
   ]
  },
  {
   "cell_type": "code",
   "execution_count": 78,
   "metadata": {
    "colab": {
     "base_uri": "https://localhost:8080/"
    },
    "id": "rpIHjVqyra82",
    "outputId": "18a86b44-c73a-464e-f067-6b219b08afee"
   },
   "outputs": [
    {
     "data": {
      "text/plain": [
       "(surprise.dataset.DatasetAutoFolds, surprise.trainset.Trainset, list)"
      ]
     },
     "execution_count": 78,
     "metadata": {},
     "output_type": "execute_result"
    }
   ],
   "source": [
    "type(data),type(trainset), type(testset)"
   ]
  },
  {
   "cell_type": "markdown",
   "metadata": {
    "id": "1PTkla4Crfc5"
   },
   "source": [
    "- **trainset** and **testset** are two objects of different types. trainset is of class [Trainset](https://surprise.readthedocs.io/en/stable/trainset.html) whereas testset is a list."
   ]
  },
  {
   "cell_type": "code",
   "execution_count": 79,
   "metadata": {
    "colab": {
     "base_uri": "https://localhost:8080/"
    },
    "id": "G8ipggP3rcyU",
    "outputId": "3970b1e9-873d-41f8-9ceb-e41196f31696"
   },
   "outputs": [
    {
     "data": {
      "text/plain": [
       "(563, 3148)"
      ]
     },
     "execution_count": 79,
     "metadata": {},
     "output_type": "execute_result"
    }
   ],
   "source": [
    "len(trainset.ir), len(trainset.ur)"
   ]
  },
  {
   "cell_type": "markdown",
   "metadata": {
    "id": "Y07sHpXwrmpF"
   },
   "source": [
    "- Now, we are **ready to build the first baseline similarity-based recommendation system** using the cosine similarity.\n",
    "- **KNNBasic** is an algorithm that is also **associated with the surprise package**. It is used to find the **desired similar items among a given set of songs**."
   ]
  },
  {
   "cell_type": "markdown",
   "metadata": {
    "id": "xSfrOCMirpaA"
   },
   "source": [
    "Similarity here is based on the play_count as explained in the documentation of the library [here](https://surprise.readthedocs.io/en/stable/similarities.html)"
   ]
  },
  {
   "cell_type": "code",
   "execution_count": 80,
   "metadata": {
    "colab": {
     "base_uri": "https://localhost:8080/"
    },
    "id": "TjV-BwHSrkUt",
    "outputId": "eace3c7a-2177-4ef0-f37c-bdf4230c98b8"
   },
   "outputs": [
    {
     "name": "stdout",
     "output_type": "stream",
     "text": [
      "RMSE: 1.0878\n",
      "Precision:  0.396\n",
      "Recall:  0.692\n",
      "F_1 score:  0.504\n"
     ]
    }
   ],
   "source": [
    "# Build the default user-user-similarity model\n",
    "sim_options = {'name': 'cosine',\n",
    "               'user_based': True}\n",
    "\n",
    "# KNN algorithm is used to find desired similar items\n",
    "sim_user_user = KNNBasic(sim_options = sim_options, verbose = False, random_state = 1)\n",
    "\n",
    "# Train the algorithm on the trainset, and predict play_count for the testset\n",
    "sim_user_user.fit(trainset)\n",
    "\n",
    "# Let us compute precision@k, recall@k, and f_1 score with k = 30\n",
    "precision_recall_at_k(sim_user_user, 30, 1.5) # Use sim_user_user model"
   ]
  },
  {
   "cell_type": "markdown",
   "metadata": {
    "id": "SJPBDYWir8V6"
   },
   "source": [
    "**Observations and Insights:**\n",
    "\n",
    "- We have calculated **RMSE** to check **how far the overall predicted songs** are from the **actual songs**.\n",
    "- Intuition of Recall - We are getting a **recall of 0.692**, which means out of **all the relevant songs, 69.2% are recommended**. \n",
    "- Intuition of Precision - We are getting a **precision of almost 0.396**, which means **out of all the recommended products 39.6% are relevant**.\n",
    "- Here **F_1 score** of the **baseline model is almost 0.504**. It indicates that **half recommended songs were relevant and not relevant songs were recommended all the times** to the user. We will try to improve this later by using **GridSearchCV by tuning different hyperparameters** of this algorithm."
   ]
  },
  {
   "cell_type": "code",
   "execution_count": 81,
   "metadata": {
    "colab": {
     "base_uri": "https://localhost:8080/",
     "height": 81
    },
    "id": "ZSfWefhxry9R",
    "outputId": "b83ba5fc-9e84-4dc2-949d-186303bdd41b"
   },
   "outputs": [
    {
     "data": {
      "text/html": [
       "<div>\n",
       "<style scoped>\n",
       "    .dataframe tbody tr th:only-of-type {\n",
       "        vertical-align: middle;\n",
       "    }\n",
       "\n",
       "    .dataframe tbody tr th {\n",
       "        vertical-align: top;\n",
       "    }\n",
       "\n",
       "    .dataframe thead th {\n",
       "        text-align: right;\n",
       "    }\n",
       "</style>\n",
       "<table border=\"1\" class=\"dataframe\">\n",
       "  <thead>\n",
       "    <tr style=\"text-align: right;\">\n",
       "      <th></th>\n",
       "      <th>user_id</th>\n",
       "      <th>song_id</th>\n",
       "      <th>play_count</th>\n",
       "      <th>title</th>\n",
       "      <th>release</th>\n",
       "      <th>artist_name</th>\n",
       "      <th>year</th>\n",
       "    </tr>\n",
       "  </thead>\n",
       "  <tbody>\n",
       "    <tr>\n",
       "      <th>8</th>\n",
       "      <td>6958</td>\n",
       "      <td>1671</td>\n",
       "      <td>2</td>\n",
       "      <td>Sleeping In (Album)</td>\n",
       "      <td>Give Up</td>\n",
       "      <td>Postal Service</td>\n",
       "      <td>2003</td>\n",
       "    </tr>\n",
       "  </tbody>\n",
       "</table>\n",
       "</div>"
      ],
      "text/plain": [
       "   user_id  song_id  play_count                title  release     artist_name  \\\n",
       "8     6958     1671           2  Sleeping In (Album)  Give Up  Postal Service   \n",
       "\n",
       "   year  \n",
       "8  2003  "
      ]
     },
     "execution_count": 81,
     "metadata": {},
     "output_type": "execute_result"
    }
   ],
   "source": [
    "df_final[(df_final['user_id'] == 6958) & (df_final['song_id'] == 1671)]"
   ]
  },
  {
   "cell_type": "code",
   "execution_count": 82,
   "metadata": {
    "colab": {
     "base_uri": "https://localhost:8080/"
    },
    "id": "-MMIPiYQsGO4",
    "outputId": "525392f9-a55c-4b90-ceb5-9addc598443d"
   },
   "outputs": [
    {
     "name": "stdout",
     "output_type": "stream",
     "text": [
      "user: 6958       item: 1671       r_ui = 2.00   est = 1.80   {'actual_k': 40, 'was_impossible': False}\n"
     ]
    },
    {
     "data": {
      "text/plain": [
       "Prediction(uid=6958, iid=1671, r_ui=2, est=1.8009387435128914, details={'actual_k': 40, 'was_impossible': False})"
      ]
     },
     "execution_count": 82,
     "metadata": {},
     "output_type": "execute_result"
    }
   ],
   "source": [
    "# Predicting play_count for a sample user with a listened song\n",
    "sim_user_user.predict(6958, 1671, r_ui = 2, verbose = True) # user_id=6958 and song_id=1671"
   ]
  },
  {
   "cell_type": "code",
   "execution_count": 83,
   "metadata": {
    "colab": {
     "base_uri": "https://localhost:8080/",
     "height": 49
    },
    "id": "mQ5xF0mIsMLx",
    "outputId": "18cfc70d-a12f-4246-9416-bed70a7f21ab"
   },
   "outputs": [
    {
     "data": {
      "text/html": [
       "<div>\n",
       "<style scoped>\n",
       "    .dataframe tbody tr th:only-of-type {\n",
       "        vertical-align: middle;\n",
       "    }\n",
       "\n",
       "    .dataframe tbody tr th {\n",
       "        vertical-align: top;\n",
       "    }\n",
       "\n",
       "    .dataframe thead th {\n",
       "        text-align: right;\n",
       "    }\n",
       "</style>\n",
       "<table border=\"1\" class=\"dataframe\">\n",
       "  <thead>\n",
       "    <tr style=\"text-align: right;\">\n",
       "      <th></th>\n",
       "      <th>user_id</th>\n",
       "      <th>song_id</th>\n",
       "      <th>play_count</th>\n",
       "      <th>title</th>\n",
       "      <th>release</th>\n",
       "      <th>artist_name</th>\n",
       "      <th>year</th>\n",
       "    </tr>\n",
       "  </thead>\n",
       "  <tbody>\n",
       "  </tbody>\n",
       "</table>\n",
       "</div>"
      ],
      "text/plain": [
       "Empty DataFrame\n",
       "Columns: [user_id, song_id, play_count, title, release, artist_name, year]\n",
       "Index: []"
      ]
     },
     "execution_count": 83,
     "metadata": {},
     "output_type": "execute_result"
    }
   ],
   "source": [
    "df_final[(df_final['user_id'] == 6958) & (df_final['song_id'] == 3232)]"
   ]
  },
  {
   "cell_type": "code",
   "execution_count": 84,
   "metadata": {
    "colab": {
     "base_uri": "https://localhost:8080/"
    },
    "id": "OTxs-cdJsUP8",
    "outputId": "e0397c65-6116-4a66-cb0a-7ed6ef757725"
   },
   "outputs": [
    {
     "name": "stdout",
     "output_type": "stream",
     "text": [
      "user: 6958       item: 3232       r_ui = None   est = 1.64   {'actual_k': 40, 'was_impossible': False}\n"
     ]
    },
    {
     "data": {
      "text/plain": [
       "Prediction(uid=6958, iid=3232, r_ui=None, est=1.6386860897998294, details={'actual_k': 40, 'was_impossible': False})"
      ]
     },
     "execution_count": 84,
     "metadata": {},
     "output_type": "execute_result"
    }
   ],
   "source": [
    "# Predicting play_count for a sample user with a song not-listened by the user\n",
    "sim_user_user.predict(6958, 3232, verbose = True) # user_id=6958 and song_id=3232"
   ]
  },
  {
   "cell_type": "markdown",
   "metadata": {
    "id": "T41emstrse_t"
   },
   "source": [
    "**Observations and Insights:**\n",
    "\n",
    "- We predicted **play_count** for a user with user_id=6958 and song_id=1671 as shown above. Here the user has already interacted or listened the song with song_id '1671' and given a play_count of 2 which is denoted by the parameter r_ui, we obtained the predicted **play_count** is 1.80 by this **user-user-similarity-based baseline model**.\n",
    "\n",
    "- We predicted **play_count** for a user with user_id=6958 with the song_id=3232 not-listened by the user. It can be observed from the above query that **user_id=6958\" has not listened the song with song_id=3232**. The **predicted play_count for this user is around 1.64** based on this **user-user similarity-based baseline model**."
   ]
  },
  {
   "cell_type": "markdown",
   "metadata": {
    "id": "FjklKxhYshAD"
   },
   "source": [
    "### **Improving similarity-based recommendation system by tuning its hyperparameters**\n",
    "\n",
    "Now, let's try to tune the model and see if we can improve the model performance.\n",
    "\n",
    "Below, we will be tuning hyperparameters for the `KNNBasic` algorithms. Let's try to understand some of the hyperparameters of the KNNBasic algorithm:\n",
    "\n",
    "- **k** (int) – The (max) number of neighbors to take into account for aggregation. Default is 40.\n",
    "- **min_k** (int) – The minimum number of neighbors to take into account for aggregation. If there are not enough neighbors, the prediction is set to the global mean of all play_counts. Default is 1.\n",
    "- **sim_options** (dict) – A dictionary of options for the similarity measure. And there are four similarity measures available in surprise - \n",
    "    - cosine\n",
    "    - msd (default)\n",
    "    - Pearson\n",
    "    - Pearson baseline\n",
    "\n",
    "> **Note:** `The below cell takes ~22 minutes to run` in Google Colab."
   ]
  },
  {
   "cell_type": "code",
   "execution_count": 85,
   "metadata": {
    "colab": {
     "base_uri": "https://localhost:8080/"
    },
    "id": "0caeJe4JsdKE",
    "outputId": "3590a4f0-ea8d-42ab-8663-a0a51c8f69c0"
   },
   "outputs": [
    {
     "name": "stdout",
     "output_type": "stream",
     "text": [
      "1.046685412627462\n",
      "{'k': 30, 'min_k': 9, 'sim_options': {'name': 'pearson_baseline', 'user_based': True, 'min_support': 2}}\n"
     ]
    }
   ],
   "source": [
    "# Setting up parameter grid to tune the hyperparameters \n",
    "param_grid = {'k': [10, 20, 30], 'min_k': [3, 6, 9],\n",
    "              'sim_options': {'name': [\"cosine\", 'pearson', \"pearson_baseline\"],\n",
    "                              'user_based': [True], \"min_support\": [2, 4]}\n",
    "              }\n",
    "\n",
    "# Performing 3-fold cross-validation to tune the hyperparameters\n",
    "gs = GridSearchCV(KNNBasic, param_grid, measures = ['rmse'], cv = 3, n_jobs = -1)\n",
    "\n",
    "# Fitting the data\n",
    "gs.fit(data) # Use entire data for GridSearch\n",
    "\n",
    "# Best RMSE score\n",
    "print(gs.best_score['rmse'])\n",
    "\n",
    "# Combination of parameters that gave the best RMSE score\n",
    "print(gs.best_params['rmse'])"
   ]
  },
  {
   "cell_type": "code",
   "execution_count": 86,
   "metadata": {
    "colab": {
     "base_uri": "https://localhost:8080/"
    },
    "id": "eg4RCt-Zsxqf",
    "outputId": "c724ef82-9723-4918-be5e-d4ae72992fa3"
   },
   "outputs": [
    {
     "name": "stdout",
     "output_type": "stream",
     "text": [
      "RMSE: 1.0521\n",
      "Precision:  0.43\n",
      "Recall:  0.637\n",
      "F_1 score:  0.513\n"
     ]
    }
   ],
   "source": [
    "# Train the best model found in above gridsearch\n",
    "\n",
    "# Using the optimal similarity measure for user-user based collaborative filtering\n",
    "sim_options = {'name': 'pearson_baseline',\n",
    "               'user_based': True,\n",
    "               'min_support': 2}\n",
    "\n",
    "# Creating an instance of KNNBasic with optimal hyperparameter values\n",
    "sim_user_user_optimized = KNNBasic(sim_options = sim_options, k = 30, min_k = 9, random_state = 1, verbose = False)\n",
    "\n",
    "# Training the algorithm on the trainset\n",
    "sim_user_user_optimized.fit(trainset)\n",
    "\n",
    "# Let us compute precision@k and recall@k also with k =10\n",
    "precision_recall_at_k(sim_user_user_optimized, 10, 1.5)"
   ]
  },
  {
   "cell_type": "markdown",
   "metadata": {
    "id": "NQvJ0hkNs6cg"
   },
   "source": [
    "**Observations and Insights:**\n",
    "\n",
    "- We can observe that after tuning hyperparameters, **F_1 score of the optimized model is sightly better with a value of 0.513 and the baseline model has a F_1 score 0.504**. Along with this, **the RMSE of the optimized model is 1.0521 vs 1.0878 of the baseline. So it has sightly gone down compared to the model with default hyperparameters**. Hence, we can say that the model performance has been sightly improved after hyperparameter tuning."
   ]
  },
  {
   "cell_type": "code",
   "execution_count": 87,
   "metadata": {
    "colab": {
     "base_uri": "https://localhost:8080/"
    },
    "id": "WerdbxRJs7XO",
    "outputId": "94845499-b4f9-4d7e-e3be-0b25c280761b"
   },
   "outputs": [
    {
     "name": "stdout",
     "output_type": "stream",
     "text": [
      "user: 6958       item: 1671       r_ui = 2.00   est = 1.96   {'actual_k': 24, 'was_impossible': False}\n"
     ]
    },
    {
     "data": {
      "text/plain": [
       "Prediction(uid=6958, iid=1671, r_ui=2, est=1.962926073914969, details={'actual_k': 24, 'was_impossible': False})"
      ]
     },
     "execution_count": 87,
     "metadata": {},
     "output_type": "execute_result"
    }
   ],
   "source": [
    "# Predict the play count for a user who has listened to the song. Take user_id 6958, song_id 1671 and r_ui = 2\n",
    "sim_user_user_optimized.predict(6958, 1671, r_ui = 2, verbose = True)"
   ]
  },
  {
   "cell_type": "code",
   "execution_count": 88,
   "metadata": {
    "colab": {
     "base_uri": "https://localhost:8080/"
    },
    "id": "KxkC7Fw5s9aB",
    "outputId": "a7402abf-e0f3-4e04-c86a-c0fba5496e01"
   },
   "outputs": [
    {
     "name": "stdout",
     "output_type": "stream",
     "text": [
      "user: 6958       item: 3232       r_ui = None   est = 1.45   {'actual_k': 10, 'was_impossible': False}\n"
     ]
    },
    {
     "data": {
      "text/plain": [
       "Prediction(uid=6958, iid=3232, r_ui=None, est=1.4516261428486725, details={'actual_k': 10, 'was_impossible': False})"
      ]
     },
     "execution_count": 88,
     "metadata": {},
     "output_type": "execute_result"
    }
   ],
   "source": [
    "# Predict the play count for a song that is not listened to by the user (with user_id 6958)\n",
    "sim_user_user_optimized.predict(6958, 3232, verbose = True)"
   ]
  },
  {
   "cell_type": "markdown",
   "metadata": {
    "id": "5Rm7TRTvtBJe"
   },
   "source": [
    "**Observations and Insights:**\n",
    "\n",
    "**Predict the play count for a user who has listened to the song. Take user_id 6958, song_id 1671 and r_ui = 2**\n",
    "\n",
    "*    Above, we have estimated the rating 1.96 for user_id 6958 andsong_id 1671 user-item pair based on this user-user similarity-based optimized model.\n",
    "\n",
    "**Predict the play count for a song that is not listened to by the user (with user_id 6958)**\n",
    "\n",
    "* We can see that the estimated the rating 1.45 for the same user_id 6958 and productId 3232 user-item pair based on this user-user similarity-based optimized model.\n",
    "\n",
    "**Compare the output with the output from the baseline model:**\n",
    "\n",
    "*   We can see from above that after tuning hyperparameters, **F_1 score of the tuned model has increased slightly in comparison to the baseline model**. Along with this, **the RMSE of the model has gone down as compared to the model before hyperparameter tuning**. Hence, we can say that the model performance has improved slightly after hyperparameter tuning.\n",
    "\n",
    "* The **predicted rating for user_id 6958 is around 1.96** based for the **user-user similarity-based baseline model** and the **user-user similarity-based optimized model**."
   ]
  },
  {
   "cell_type": "markdown",
   "metadata": {
    "id": "sE_T2QvytG9C"
   },
   "source": [
    "### **Along with making predictions on listened and unknown songs can we get 5 nearest neighbors (most similar) to a certain song?**"
   ]
  },
  {
   "cell_type": "code",
   "execution_count": 89,
   "metadata": {
    "colab": {
     "base_uri": "https://localhost:8080/"
    },
    "id": "LMKhSZxRtAlW",
    "outputId": "fad62a98-edba-43dc-d6eb-9b7c18b7e847"
   },
   "outputs": [
    {
     "data": {
      "text/plain": [
       "[42, 1131, 17, 186, 249]"
      ]
     },
     "execution_count": 89,
     "metadata": {},
     "output_type": "execute_result"
    }
   ],
   "source": [
    "# Use inner id 0\n",
    "sim_user_user_optimized.get_neighbors(0, 5)"
   ]
  },
  {
   "cell_type": "markdown",
   "metadata": {
    "id": "wkvULlNrtSuT"
   },
   "source": [
    "Below we will be implementing a function where the input parameters are:\n",
    "\n",
    "- data: A **song** dataset\n",
    "- user_id: A user-id **against which we want the recommendations**\n",
    "- top_n: The **number of songs we want to recommend**\n",
    "- algo: The algorithm we want to use **for predicting the play_count**\n",
    "- The output of the function is a **set of top_n items** recommended for the given user_id based on the given algorithm"
   ]
  },
  {
   "cell_type": "code",
   "execution_count": 90,
   "metadata": {
    "id": "1YZYQuBPtKMr"
   },
   "outputs": [],
   "source": [
    "def get_recommendations(data, user_id, top_n, algo):\n",
    "    \n",
    "    # Creating an empty list to store the recommended product ids\n",
    "    recommendations = []\n",
    "    \n",
    "    # Creating an user item interactions matrix \n",
    "    user_item_interactions_matrix = data.pivot_table(index = 'user_id', columns = 'song_id', values = 'play_count')\n",
    "    \n",
    "    # Extracting those business ids which the user_id has not visited yet\n",
    "    non_interacted_products = user_item_interactions_matrix.loc[user_id][user_item_interactions_matrix.loc[user_id].isnull()].index.tolist()\n",
    "    \n",
    "    # Looping through each of the business ids which user_id has not interacted yet\n",
    "    for item_id in non_interacted_products:\n",
    "        \n",
    "        # Predicting the ratings for those non visited restaurant ids by this user\n",
    "        est = algo.predict(user_id, item_id).est\n",
    "        \n",
    "        # Appending the predicted ratings\n",
    "        recommendations.append((item_id, est))\n",
    "\n",
    "    # Sorting the predicted ratings in descending order\n",
    "    recommendations.sort(key = lambda x : x[1], reverse = True)\n",
    "\n",
    "    return recommendations[:top_n] # Returing top n highest predicted rating products for this user"
   ]
  },
  {
   "cell_type": "code",
   "execution_count": 91,
   "metadata": {
    "id": "FatVgKQ5tZjh"
   },
   "outputs": [],
   "source": [
    "# Make top 5 recommendations for user_id 6958 with a similarity-based recommendation engine\n",
    "recommendations = get_recommendations(df_final, 6958, 5, sim_user_user_optimized)"
   ]
  },
  {
   "cell_type": "code",
   "execution_count": 92,
   "metadata": {
    "colab": {
     "base_uri": "https://localhost:8080/",
     "height": 206
    },
    "id": "UsmnVWpitbqC",
    "outputId": "29a1791b-1623-47ee-f0b6-de1093f30016"
   },
   "outputs": [
    {
     "data": {
      "text/html": [
       "<div>\n",
       "<style scoped>\n",
       "    .dataframe tbody tr th:only-of-type {\n",
       "        vertical-align: middle;\n",
       "    }\n",
       "\n",
       "    .dataframe tbody tr th {\n",
       "        vertical-align: top;\n",
       "    }\n",
       "\n",
       "    .dataframe thead th {\n",
       "        text-align: right;\n",
       "    }\n",
       "</style>\n",
       "<table border=\"1\" class=\"dataframe\">\n",
       "  <thead>\n",
       "    <tr style=\"text-align: right;\">\n",
       "      <th></th>\n",
       "      <th>song_id</th>\n",
       "      <th>predicted_ratings</th>\n",
       "    </tr>\n",
       "  </thead>\n",
       "  <tbody>\n",
       "    <tr>\n",
       "      <th>0</th>\n",
       "      <td>5531</td>\n",
       "      <td>2.553335</td>\n",
       "    </tr>\n",
       "    <tr>\n",
       "      <th>1</th>\n",
       "      <td>317</td>\n",
       "      <td>2.518269</td>\n",
       "    </tr>\n",
       "    <tr>\n",
       "      <th>2</th>\n",
       "      <td>4954</td>\n",
       "      <td>2.406776</td>\n",
       "    </tr>\n",
       "    <tr>\n",
       "      <th>3</th>\n",
       "      <td>8635</td>\n",
       "      <td>2.396606</td>\n",
       "    </tr>\n",
       "    <tr>\n",
       "      <th>4</th>\n",
       "      <td>5943</td>\n",
       "      <td>2.390723</td>\n",
       "    </tr>\n",
       "  </tbody>\n",
       "</table>\n",
       "</div>"
      ],
      "text/plain": [
       "   song_id  predicted_ratings\n",
       "0     5531           2.553335\n",
       "1      317           2.518269\n",
       "2     4954           2.406776\n",
       "3     8635           2.396606\n",
       "4     5943           2.390723"
      ]
     },
     "execution_count": 92,
     "metadata": {},
     "output_type": "execute_result"
    }
   ],
   "source": [
    "# Building the dataframe for above recommendations with columns \"song_id\" and \"predicted_ratings\"\n",
    "pd.DataFrame(recommendations, columns = ['song_id', 'predicted_ratings'])"
   ]
  },
  {
   "cell_type": "markdown",
   "metadata": {
    "id": "OQXmqxkWtdnF"
   },
   "source": [
    "### **Correcting the play_counts and Ranking the above songs**"
   ]
  },
  {
   "cell_type": "code",
   "execution_count": 93,
   "metadata": {
    "id": "ES0fscZntiPZ"
   },
   "outputs": [],
   "source": [
    "def ranking_songs(recommendations, final_rating):\n",
    "  # Sort the songs based on play counts\n",
    "  ranked_songs = final_rating.loc[[items[0] for items in recommendations]].sort_values('play_freq', ascending = False)[['play_freq']].reset_index()\n",
    "\n",
    "  # Merge with the recommended songs to get predicted play_count\n",
    "  ranked_songs = ranked_songs.merge(pd.DataFrame(recommendations, columns = ['song_id', 'predicted_ratings']), on = 'song_id', how = 'inner')\n",
    "\n",
    "  # Rank the songs based on corrected play_counts\n",
    "  ranked_songs['corrected_ratings'] = ranked_songs['predicted_ratings'] - 1 / np.sqrt(ranked_songs['play_freq'])\n",
    "\n",
    "  # Sort the songs based on corrected play_counts\n",
    "  ranked_songs = ranked_songs.sort_values('corrected_ratings', ascending = False)\n",
    "  \n",
    "  return ranked_songs"
   ]
  },
  {
   "cell_type": "markdown",
   "metadata": {
    "id": "sr3lEa4Btj1N"
   },
   "source": [
    " ### **In the above function to correct the predicted play_count a quantity 1/np.sqrt (n) is subtracted. What is the intuition behind it? Is it also possible to add this quantity instead of subtracting?**"
   ]
  },
  {
   "cell_type": "code",
   "execution_count": 94,
   "metadata": {},
   "outputs": [
    {
     "data": {
      "text/html": [
       "<div>\n",
       "<style scoped>\n",
       "    .dataframe tbody tr th:only-of-type {\n",
       "        vertical-align: middle;\n",
       "    }\n",
       "\n",
       "    .dataframe tbody tr th {\n",
       "        vertical-align: top;\n",
       "    }\n",
       "\n",
       "    .dataframe thead th {\n",
       "        text-align: right;\n",
       "    }\n",
       "</style>\n",
       "<table border=\"1\" class=\"dataframe\">\n",
       "  <thead>\n",
       "    <tr style=\"text-align: right;\">\n",
       "      <th></th>\n",
       "      <th>song_id</th>\n",
       "      <th>play_freq</th>\n",
       "      <th>predicted_ratings</th>\n",
       "      <th>corrected_ratings</th>\n",
       "    </tr>\n",
       "  </thead>\n",
       "  <tbody>\n",
       "    <tr>\n",
       "      <th>0</th>\n",
       "      <td>5531</td>\n",
       "      <td>618</td>\n",
       "      <td>2.553335</td>\n",
       "      <td>2.513109</td>\n",
       "    </tr>\n",
       "    <tr>\n",
       "      <th>2</th>\n",
       "      <td>317</td>\n",
       "      <td>411</td>\n",
       "      <td>2.518269</td>\n",
       "      <td>2.468943</td>\n",
       "    </tr>\n",
       "    <tr>\n",
       "      <th>1</th>\n",
       "      <td>5943</td>\n",
       "      <td>423</td>\n",
       "      <td>2.390723</td>\n",
       "      <td>2.342101</td>\n",
       "    </tr>\n",
       "    <tr>\n",
       "      <th>3</th>\n",
       "      <td>4954</td>\n",
       "      <td>183</td>\n",
       "      <td>2.406776</td>\n",
       "      <td>2.332854</td>\n",
       "    </tr>\n",
       "    <tr>\n",
       "      <th>4</th>\n",
       "      <td>8635</td>\n",
       "      <td>155</td>\n",
       "      <td>2.396606</td>\n",
       "      <td>2.316284</td>\n",
       "    </tr>\n",
       "  </tbody>\n",
       "</table>\n",
       "</div>"
      ],
      "text/plain": [
       "   song_id  play_freq  predicted_ratings  corrected_ratings\n",
       "0     5531        618           2.553335           2.513109\n",
       "2      317        411           2.518269           2.468943\n",
       "1     5943        423           2.390723           2.342101\n",
       "3     4954        183           2.406776           2.332854\n",
       "4     8635        155           2.396606           2.316284"
      ]
     },
     "execution_count": 94,
     "metadata": {},
     "output_type": "execute_result"
    }
   ],
   "source": [
    "# Applying the ranking_songs function on the final_play data\n",
    "ranking_songs(recommendations, final_play)"
   ]
  },
  {
   "cell_type": "code",
   "execution_count": 95,
   "metadata": {
    "colab": {
     "base_uri": "https://localhost:8080/"
    },
    "id": "0MYAoOU2tow-",
    "outputId": "ac4323af-43a9-44ed-cc58-5b4f9d998c8c"
   },
   "outputs": [
    {
     "data": {
      "text/plain": [
       "(5, 1)"
      ]
     },
     "execution_count": 95,
     "metadata": {},
     "output_type": "execute_result"
    }
   ],
   "source": [
    "# max, and min value of play_count\n",
    "df_final.play_count.max(), df_final.play_count.min()"
   ]
  },
  {
   "cell_type": "markdown",
   "metadata": {
    "id": "yeHmuheztqij"
   },
   "source": [
    "**Observations and Insights:**\n",
    "\n",
    "- In the **above-corrected rating formula**, we can add the **quantity `1/np.sqrt(n)` instead of subtracting it to get more optimistic predictions**. But here we are **subtracting this quantity**, as there are some songs with play_count 5 and **we can't have a rating more than 5 for a song**."
   ]
  },
  {
   "cell_type": "markdown",
   "metadata": {
    "id": "gydxe7dituSK"
   },
   "source": [
    "### **Item-Item Similarity-based collaborative filtering recommendation systems**"
   ]
  },
  {
   "cell_type": "markdown",
   "metadata": {
    "id": "S3bzVjlot04R"
   },
   "source": [
    "* Above we have seen **similarity-based collaborative filtering** where similarity is calculated **between users**. Now let us look into similarity-based collaborative filtering where similarity is seen **between items**. "
   ]
  },
  {
   "cell_type": "code",
   "execution_count": 96,
   "metadata": {
    "colab": {
     "base_uri": "https://localhost:8080/"
    },
    "id": "uzLEgHN3tsWS",
    "outputId": "20aa0593-b91b-4723-c173-dbe92466db48"
   },
   "outputs": [
    {
     "name": "stdout",
     "output_type": "stream",
     "text": [
      "RMSE: 1.0394\n",
      "Precision:  0.311\n",
      "Recall:  0.442\n",
      "F_1 score:  0.365\n"
     ]
    }
   ],
   "source": [
    "# Apply the item-item similarity collaborative filtering model with random_state = 1 and evaluate the model performance\n",
    "# Declaring the similarity options\n",
    "sim_options = {'name': 'cosine',\n",
    "               'user_based': False}\n",
    "\n",
    "# KNN algorithm is used to find desired similar items\n",
    "sim_item_item = KNNBasic(sim_options = sim_options, random_state = 1, verbose = False)\n",
    "\n",
    "# Train the algorithm on the trainset, and predict ratings for the test set\n",
    "sim_item_item.fit(trainset)\n",
    "\n",
    "# Let us compute precision@k, recall@k, and f_1 score with k = 10\n",
    "precision_recall_at_k(sim_item_item)"
   ]
  },
  {
   "cell_type": "markdown",
   "metadata": {
    "id": "p9Mokv68t6ac"
   },
   "source": [
    "**Observations and Insights:**\n",
    "\n",
    "- The baseline model is giving a low F_1 score of ~36.5%. We will try to **improve this later by using GridSearchCV** by tuning different hyperparameters of this algorithm."
   ]
  },
  {
   "cell_type": "markdown",
   "metadata": {
    "id": "BNrRJg05t9Mr"
   },
   "source": [
    "Let's now **predict the play_count for a `user with user_id = 6958` and `song_id = 1671`** as shown below. Here the user has already interacted or watched the product with song_id 1671."
   ]
  },
  {
   "cell_type": "code",
   "execution_count": 97,
   "metadata": {
    "colab": {
     "base_uri": "https://localhost:8080/"
    },
    "id": "HmO8HmLct5q3",
    "outputId": "a29e02f9-3c4b-4301-d2ef-e494ded49c65"
   },
   "outputs": [
    {
     "name": "stdout",
     "output_type": "stream",
     "text": [
      "user: 6958       item: 1671       r_ui = 2.00   est = 1.36   {'actual_k': 20, 'was_impossible': False}\n"
     ]
    },
    {
     "data": {
      "text/plain": [
       "Prediction(uid=6958, iid=1671, r_ui=2, est=1.3614157231762556, details={'actual_k': 20, 'was_impossible': False})"
      ]
     },
     "execution_count": 97,
     "metadata": {},
     "output_type": "execute_result"
    }
   ],
   "source": [
    "# Predicting play count for a sample user_id 6958 and song (with song_id 1671) heard by the user\n",
    "sim_item_item.predict(6958, 1671, r_ui = 2, verbose = True)"
   ]
  },
  {
   "cell_type": "code",
   "execution_count": 98,
   "metadata": {
    "colab": {
     "base_uri": "https://localhost:8080/"
    },
    "id": "jhFdtPBauAnT",
    "outputId": "2ef9af0a-b420-45c2-be35-bd657213f0ea"
   },
   "outputs": [
    {
     "name": "stdout",
     "output_type": "stream",
     "text": [
      "user: 6958       item: 3232       r_ui = None   est = 1.38   {'actual_k': 20, 'was_impossible': False}\n"
     ]
    },
    {
     "data": {
      "text/plain": [
       "Prediction(uid=6958, iid=3232, r_ui=None, est=1.377602711737415, details={'actual_k': 20, 'was_impossible': False})"
      ]
     },
     "execution_count": 98,
     "metadata": {},
     "output_type": "execute_result"
    }
   ],
   "source": [
    "# Predict the play count for a user that has not listened to the song (with song_id 1671)\n",
    "sim_item_item.predict(6958, 3232, verbose = True)"
   ]
  },
  {
   "cell_type": "markdown",
   "metadata": {
    "id": "txF802QRuCro"
   },
   "source": [
    "**Observations and Insights:**\n",
    "\n",
    "- The above output shows that **the actual play_count for this user-item pair is 2 and the predicted rating is 1.36** by this **item-item-similarity-based baseline model**.\n",
    "\n",
    "- For an unknown song with song_id=3232 the model is predicting a play_count of **1.38**."
   ]
  },
  {
   "cell_type": "code",
   "execution_count": 99,
   "metadata": {
    "colab": {
     "base_uri": "https://localhost:8080/"
    },
    "id": "TSXi776dvjrj",
    "outputId": "61542502-eab4-4f50-cbc3-bb8684ce9e52"
   },
   "outputs": [
    {
     "name": "stdout",
     "output_type": "stream",
     "text": [
      "1.0222239578751606\n",
      "{'k': 30, 'min_k': 6, 'sim_options': {'name': 'pearson_baseline', 'user_based': False, 'min_support': 2}}\n"
     ]
    }
   ],
   "source": [
    "# Apply grid search for enhancing model performance\n",
    "\n",
    "# Setting up parameter grid to tune the hyperparameters\n",
    "param_grid = {'k': [10, 20, 30], 'min_k': [3, 6, 9],\n",
    "              'sim_options': {'name': [\"cosine\", 'pearson', \"pearson_baseline\"],\n",
    "                              'user_based': [False], \"min_support\": [2, 4]}\n",
    "              }\n",
    "\n",
    "# Performing 3-fold cross-validation to tune the hyperparameters\n",
    "gs =  GridSearchCV(KNNBasic, param_grid, measures = ['rmse'], cv = 3, n_jobs = -1)\n",
    "\n",
    "# Fitting the data\n",
    "gs.fit(data)\n",
    "\n",
    "# Find the best RMSE score\n",
    "print(gs.best_score['rmse'])\n",
    "\n",
    "# Extract the combination of parameters that gave the best RMSE score\n",
    "print(gs.best_params['rmse'])"
   ]
  },
  {
   "cell_type": "markdown",
   "metadata": {
    "id": "7YvA7oh-v-cz"
   },
   "source": [
    "How do the parameters affect the performance of the model? Can we improve the performance of the model further? Check the list of hyperparameters [here](https://surprise.readthedocs.io/en/stable/knn_inspired.html)."
   ]
  },
  {
   "cell_type": "markdown",
   "metadata": {
    "id": "TQnh_s9ZwEK7"
   },
   "source": [
    "Once the **grid search** is complete, we can get the **optimal values for each of those hyperparameters as shown above.**\n",
    "\n",
    "Now let's build the **final model** by using **tuned values of the hyperparameters** which we received by using grid search cross-validation."
   ]
  },
  {
   "cell_type": "code",
   "execution_count": 100,
   "metadata": {
    "colab": {
     "base_uri": "https://localhost:8080/"
    },
    "id": "Ftyc4f-5wBuk",
    "outputId": "56b4f6ba-4846-4112-cbec-7b869990e26f"
   },
   "outputs": [
    {
     "name": "stdout",
     "output_type": "stream",
     "text": [
      "RMSE: 1.0328\n",
      "Precision:  0.421\n",
      "Recall:  0.584\n",
      "F_1 score:  0.489\n"
     ]
    }
   ],
   "source": [
    "# Apply the best model found in the grid search\n",
    "\n",
    "# Using the optimal similarity measure for item-item based collaborative filtering\n",
    "sim_options = {'name': 'pearson_baseline',\n",
    "               'user_based': False,\n",
    "               'min_support': 2}\n",
    "\n",
    "# Creating an instance of KNNBasic with optimal hyperparameter values\n",
    "sim_item_item_optimized = KNNBasic(sim_options = sim_options, k = 30, min_k = 6, random_state = 1, verbose = False)\n",
    "\n",
    "# Training the algorithm on the trainset\n",
    "sim_item_item_optimized.fit(trainset)\n",
    "\n",
    "# Let us compute precision@k and recall@k, f1_score and RMSE\n",
    "precision_recall_at_k(sim_item_item_optimized)"
   ]
  },
  {
   "cell_type": "markdown",
   "metadata": {
    "id": "G__L64UHwKk4"
   },
   "source": [
    "**Observations and Insights:**\n",
    "\n",
    "- We can observe that after tuning hyperparameters, **F_1 score of the optimized model is better with a value of 0.489 and the baseline model has a F_1 score 0.365**. Along with this, **the RMSE of the optimized model is 1.032 vs 1.0394 of the baseline. So it has sightly gone down compared to the model with default hyperparameters**. Hence, we can say that the model performance has been improved after hyperparameter tuning."
   ]
  },
  {
   "cell_type": "markdown",
   "metadata": {
    "id": "d1IEThEVwPRq"
   },
   "source": [
    "Let's us now predict **play_count for an user with `(user_id 6958) for the song (song_id 1671)`** with the **optimized model** as shown below:"
   ]
  },
  {
   "cell_type": "code",
   "execution_count": 101,
   "metadata": {
    "colab": {
     "base_uri": "https://localhost:8080/"
    },
    "id": "61knbrvlwM7c",
    "outputId": "6ea307f3-2a90-4162-e7b6-2057715ec78d"
   },
   "outputs": [
    {
     "name": "stdout",
     "output_type": "stream",
     "text": [
      "user: 6958       item: 1671       r_ui = 2.00   est = 1.96   {'actual_k': 10, 'was_impossible': False}\n"
     ]
    },
    {
     "data": {
      "text/plain": [
       "Prediction(uid=6958, iid=1671, r_ui=2, est=1.9634957386781853, details={'actual_k': 10, 'was_impossible': False})"
      ]
     },
     "execution_count": 101,
     "metadata": {},
     "output_type": "execute_result"
    }
   ],
   "source": [
    "# Predict the play_count by a user(user_id 6958) for the song (song_id 1671)\n",
    "sim_item_item_optimized.predict(6958, 1671, r_ui = 2, verbose = True)"
   ]
  },
  {
   "cell_type": "code",
   "execution_count": 102,
   "metadata": {
    "colab": {
     "base_uri": "https://localhost:8080/"
    },
    "id": "Yy6yfqLuwRkY",
    "outputId": "0014331c-b592-4dfa-8e2a-d88b9a22ae27"
   },
   "outputs": [
    {
     "name": "stdout",
     "output_type": "stream",
     "text": [
      "user: 6958       item: 3232       r_ui = None   est = 1.28   {'actual_k': 10, 'was_impossible': False}\n"
     ]
    },
    {
     "data": {
      "text/plain": [
       "Prediction(uid=6958, iid=3232, r_ui=None, est=1.2759946618244609, details={'actual_k': 10, 'was_impossible': False})"
      ]
     },
     "execution_count": 102,
     "metadata": {},
     "output_type": "execute_result"
    }
   ],
   "source": [
    "# Predicting play count for a sample user_id 6958 with song_id 3232 which is not heard by the user\n",
    "sim_item_item_optimized.predict(6958, 3232, verbose = True)"
   ]
  },
  {
   "cell_type": "markdown",
   "metadata": {
    "id": "LAMUHNf7wUTL"
   },
   "source": [
    "**Observations and Insights:**\n",
    "\n",
    "- The above output shows that **the actual play_count for this user-item pair is 2 and the predicted rating is 1.96** by this **item-item-similarity-based optimized model**.\n",
    "\n",
    "- For an unknown song with song_id 3232 the model is predicting a rating of **1.28**."
   ]
  },
  {
   "cell_type": "code",
   "execution_count": 103,
   "metadata": {
    "colab": {
     "base_uri": "https://localhost:8080/"
    },
    "id": "5BIprfvUwU_c",
    "outputId": "d5b1e3c7-a47a-42ea-a81d-4b2a607dc04e"
   },
   "outputs": [
    {
     "data": {
      "text/plain": [
       "[124, 523, 173, 205, 65]"
      ]
     },
     "execution_count": 103,
     "metadata": {},
     "output_type": "execute_result"
    }
   ],
   "source": [
    "# Find five most similar items to the item with inner id 0\n",
    "sim_item_item_optimized.get_neighbors(0, k = 5)"
   ]
  },
  {
   "cell_type": "code",
   "execution_count": 104,
   "metadata": {
    "id": "yYtjW9cWwX4-"
   },
   "outputs": [],
   "source": [
    "# Making top 5 recommendations for user_id 6958 with item_item_similarity-based recommendation engine\n",
    "recommendations = get_recommendations(df_final, 6958, 5, sim_item_item_optimized)"
   ]
  },
  {
   "cell_type": "code",
   "execution_count": 105,
   "metadata": {
    "colab": {
     "base_uri": "https://localhost:8080/",
     "height": 206
    },
    "id": "mQUpSJkHwbLW",
    "outputId": "1b49f2ab-6699-49d6-e4fb-2b828b40a0fa"
   },
   "outputs": [
    {
     "data": {
      "text/html": [
       "<div>\n",
       "<style scoped>\n",
       "    .dataframe tbody tr th:only-of-type {\n",
       "        vertical-align: middle;\n",
       "    }\n",
       "\n",
       "    .dataframe tbody tr th {\n",
       "        vertical-align: top;\n",
       "    }\n",
       "\n",
       "    .dataframe thead th {\n",
       "        text-align: right;\n",
       "    }\n",
       "</style>\n",
       "<table border=\"1\" class=\"dataframe\">\n",
       "  <thead>\n",
       "    <tr style=\"text-align: right;\">\n",
       "      <th></th>\n",
       "      <th>song_id</th>\n",
       "      <th>predicted_play_count</th>\n",
       "    </tr>\n",
       "  </thead>\n",
       "  <tbody>\n",
       "    <tr>\n",
       "      <th>0</th>\n",
       "      <td>2342</td>\n",
       "      <td>2.653903</td>\n",
       "    </tr>\n",
       "    <tr>\n",
       "      <th>1</th>\n",
       "      <td>5101</td>\n",
       "      <td>2.386577</td>\n",
       "    </tr>\n",
       "    <tr>\n",
       "      <th>2</th>\n",
       "      <td>139</td>\n",
       "      <td>2.313727</td>\n",
       "    </tr>\n",
       "    <tr>\n",
       "      <th>3</th>\n",
       "      <td>7519</td>\n",
       "      <td>2.270864</td>\n",
       "    </tr>\n",
       "    <tr>\n",
       "      <th>4</th>\n",
       "      <td>8099</td>\n",
       "      <td>2.212702</td>\n",
       "    </tr>\n",
       "  </tbody>\n",
       "</table>\n",
       "</div>"
      ],
      "text/plain": [
       "   song_id  predicted_play_count\n",
       "0     2342              2.653903\n",
       "1     5101              2.386577\n",
       "2      139              2.313727\n",
       "3     7519              2.270864\n",
       "4     8099              2.212702"
      ]
     },
     "execution_count": 105,
     "metadata": {},
     "output_type": "execute_result"
    }
   ],
   "source": [
    "# Building the dataframe for above recommendations with columns \"song_id\" and \"predicted_play_count\"\n",
    "pd.DataFrame(recommendations, columns = ['song_id', 'predicted_play_count'])"
   ]
  },
  {
   "cell_type": "code",
   "execution_count": 106,
   "metadata": {
    "colab": {
     "base_uri": "https://localhost:8080/",
     "height": 206
    },
    "id": "XuHHYTtTwdWi",
    "outputId": "3b9ff7b7-aa4b-4187-91d0-b8f68cce3ca2"
   },
   "outputs": [
    {
     "data": {
      "text/html": [
       "<div>\n",
       "<style scoped>\n",
       "    .dataframe tbody tr th:only-of-type {\n",
       "        vertical-align: middle;\n",
       "    }\n",
       "\n",
       "    .dataframe tbody tr th {\n",
       "        vertical-align: top;\n",
       "    }\n",
       "\n",
       "    .dataframe thead th {\n",
       "        text-align: right;\n",
       "    }\n",
       "</style>\n",
       "<table border=\"1\" class=\"dataframe\">\n",
       "  <thead>\n",
       "    <tr style=\"text-align: right;\">\n",
       "      <th></th>\n",
       "      <th>song_id</th>\n",
       "      <th>play_freq</th>\n",
       "      <th>predicted_ratings</th>\n",
       "      <th>corrected_ratings</th>\n",
       "    </tr>\n",
       "  </thead>\n",
       "  <tbody>\n",
       "    <tr>\n",
       "      <th>4</th>\n",
       "      <td>2342</td>\n",
       "      <td>111</td>\n",
       "      <td>2.653903</td>\n",
       "      <td>2.558987</td>\n",
       "    </tr>\n",
       "    <tr>\n",
       "      <th>2</th>\n",
       "      <td>5101</td>\n",
       "      <td>130</td>\n",
       "      <td>2.386577</td>\n",
       "      <td>2.298871</td>\n",
       "    </tr>\n",
       "    <tr>\n",
       "      <th>3</th>\n",
       "      <td>139</td>\n",
       "      <td>119</td>\n",
       "      <td>2.313727</td>\n",
       "      <td>2.222057</td>\n",
       "    </tr>\n",
       "    <tr>\n",
       "      <th>1</th>\n",
       "      <td>7519</td>\n",
       "      <td>168</td>\n",
       "      <td>2.270864</td>\n",
       "      <td>2.193712</td>\n",
       "    </tr>\n",
       "    <tr>\n",
       "      <th>0</th>\n",
       "      <td>8099</td>\n",
       "      <td>275</td>\n",
       "      <td>2.212702</td>\n",
       "      <td>2.152399</td>\n",
       "    </tr>\n",
       "  </tbody>\n",
       "</table>\n",
       "</div>"
      ],
      "text/plain": [
       "   song_id  play_freq  predicted_ratings  corrected_ratings\n",
       "4     2342        111           2.653903           2.558987\n",
       "2     5101        130           2.386577           2.298871\n",
       "3      139        119           2.313727           2.222057\n",
       "1     7519        168           2.270864           2.193712\n",
       "0     8099        275           2.212702           2.152399"
      ]
     },
     "execution_count": 106,
     "metadata": {},
     "output_type": "execute_result"
    }
   ],
   "source": [
    "# Applying the ranking_songs function\n",
    "ranking_songs(recommendations, final_play)"
   ]
  },
  {
   "cell_type": "markdown",
   "metadata": {
    "id": "Nf-MEZLWwfbu"
   },
   "source": [
    "**Observations and Insights:**\n",
    "\n",
    "* Now as we have seen **similarity-based collaborative filtering algorithms**, let us now get into **model-based collaborative filtering algorithms**."
   ]
  },
  {
   "cell_type": "markdown",
   "metadata": {
    "id": "Tr74FaQQwkkB"
   },
   "source": [
    "### **Model Based Collaborative Filtering - Matrix Factorization**"
   ]
  },
  {
   "cell_type": "markdown",
   "metadata": {
    "id": "uc5BCRVAwo8Z"
   },
   "source": [
    "Model-based Collaborative Filtering is a **personalized recommendation system**, the recommendations are based on the past behavior of the user and it is not dependent on any additional information. We use **latent features** to find recommendations for each user."
   ]
  },
  {
   "cell_type": "markdown",
   "metadata": {
    "id": "Dvt9guB1wr5D"
   },
   "source": [
    "### **Singular Value Decomposition (SVD)**\n",
    "\n",
    "SVD is used to **compute the latent features** from the **user-item matrix**. But SVD does not work when we **miss values** in the **user-item matrix**."
   ]
  },
  {
   "cell_type": "code",
   "execution_count": 107,
   "metadata": {
    "colab": {
     "base_uri": "https://localhost:8080/"
    },
    "id": "o5U8AkwSwilP",
    "outputId": "ff98bee7-5eb6-496f-aa73-5a3a3fef8034"
   },
   "outputs": [
    {
     "name": "stdout",
     "output_type": "stream",
     "text": [
      "RMSE: 1.0252\n",
      "Precision:  0.421\n",
      "Recall:  0.548\n",
      "F_1 score:  0.476\n"
     ]
    }
   ],
   "source": [
    "# Build baseline model using SVD matrix factorization\n",
    "svd = SVD(random_state = 1)\n",
    "\n",
    "\n",
    "# Training the algorithm on the trainset\n",
    "svd.fit(trainset)\n",
    "\n",
    "# Use the function precision_recall_at_k to compute precision@k, recall@k, F1-Score, and RMSE\n",
    "precision_recall_at_k(svd)"
   ]
  },
  {
   "cell_type": "code",
   "execution_count": 108,
   "metadata": {
    "colab": {
     "base_uri": "https://localhost:8080/"
    },
    "id": "XdgnWggEwvkG",
    "outputId": "ab232d3c-98ae-4de0-c03b-3761b6e1689a"
   },
   "outputs": [
    {
     "name": "stdout",
     "output_type": "stream",
     "text": [
      "user: 6958       item: 1671       r_ui = 2.00   est = 1.27   {'was_impossible': False}\n"
     ]
    },
    {
     "data": {
      "text/plain": [
       "Prediction(uid=6958, iid=1671, r_ui=2, est=1.267473397214638, details={'was_impossible': False})"
      ]
     },
     "execution_count": 108,
     "metadata": {},
     "output_type": "execute_result"
    }
   ],
   "source": [
    "# Making prediction for user (with user_id 6958) to song (with song_id 1671), take r_ui = 2\n",
    "svd.predict(6958, 1671, r_ui = 2, verbose = True)"
   ]
  },
  {
   "cell_type": "code",
   "execution_count": 109,
   "metadata": {
    "colab": {
     "base_uri": "https://localhost:8080/"
    },
    "id": "QvELI_LJwxAW",
    "outputId": "4c5e90b7-f944-4143-d1bb-f43fffa5396d"
   },
   "outputs": [
    {
     "name": "stdout",
     "output_type": "stream",
     "text": [
      "user: 6958       item: 3232       r_ui = None   est = 1.56   {'was_impossible': False}\n"
     ]
    },
    {
     "data": {
      "text/plain": [
       "Prediction(uid=6958, iid=3232, r_ui=None, est=1.556167508440366, details={'was_impossible': False})"
      ]
     },
     "execution_count": 109,
     "metadata": {},
     "output_type": "execute_result"
    }
   ],
   "source": [
    "# Making a prediction for the user who has not listened to the song (song_id 3232)\n",
    "svd.predict(6958, 3232, verbose = True)"
   ]
  },
  {
   "cell_type": "markdown",
   "metadata": {
    "id": "Gyf98vj8wzii"
   },
   "source": [
    "#### **Improving matrix factorization based recommendation system by tuning its hyperparameters**"
   ]
  },
  {
   "cell_type": "code",
   "execution_count": 110,
   "metadata": {
    "colab": {
     "base_uri": "https://localhost:8080/"
    },
    "id": "0_5MQWDfw0-b",
    "outputId": "2a74c117-e863-45f6-dda6-2869da5406a9"
   },
   "outputs": [
    {
     "name": "stdout",
     "output_type": "stream",
     "text": [
      "1.0121728874064908\n",
      "{'n_epochs': 30, 'lr_all': 0.01, 'reg_all': 0.2}\n"
     ]
    }
   ],
   "source": [
    "# Set the parameter space to tune\n",
    "param_grid = {'n_epochs': [10, 20, 30], 'lr_all': [0.001, 0.005, 0.01],\n",
    "              'reg_all': [0.2, 0.4, 0.6]}\n",
    "\n",
    "# Performe 3-fold grid-search cross-validation\n",
    "gs_ = GridSearchCV(SVD, param_grid, measures = ['rmse'], cv = 3, n_jobs = -1)\n",
    "\n",
    "# Fitting data\n",
    "gs_.fit(data)\n",
    "\n",
    "# Best RMSE score\n",
    "print(gs_.best_score['rmse'])\n",
    "\n",
    "# Combination of parameters that gave the best RMSE score\n",
    "print(gs_.best_params['rmse'])"
   ]
  },
  {
   "cell_type": "markdown",
   "metadata": {
    "id": "pKunBXe5w3Re"
   },
   "source": [
    "How do the parameters affect the performance of the model? Can we improve the performance of the model further? Check the available hyperparameters [here](https://surprise.readthedocs.io/en/stable/matrix_factorization.html)."
   ]
  },
  {
   "cell_type": "code",
   "execution_count": 111,
   "metadata": {
    "colab": {
     "base_uri": "https://localhost:8080/"
    },
    "id": "C_O9uenJw6yW",
    "outputId": "e594b127-c74d-4434-ba1a-3fde3a5db623"
   },
   "outputs": [
    {
     "name": "stdout",
     "output_type": "stream",
     "text": [
      "RMSE: 1.0141\n",
      "Precision:  0.427\n",
      "Recall:  0.535\n",
      "F_1 score:  0.475\n"
     ]
    }
   ],
   "source": [
    "# Building the optimized SVD model using optimal hyperparameters\n",
    "svd_optimized = SVD(n_epochs = 30, lr_all = 0.01, reg_all = 0.2, random_state = 1)\n",
    "\n",
    "# Train the algorithm on the trainset\n",
    "svd_optimized = svd_optimized.fit(trainset)\n",
    "\n",
    "# Use the function precision_recall_at_k to compute precision@k, recall@k, F1-Score, and RMSE\n",
    "precision_recall_at_k(svd_optimized)"
   ]
  },
  {
   "cell_type": "markdown",
   "metadata": {
    "id": "32bC4u6_w8xD"
   },
   "source": [
    "**Observations and Insights:**\n",
    "\n",
    "* We can observe that **after tuning hyperparameters, the model performance has not improved by much**.\n",
    "* We can observe that **F_1 score**, **RMSE**, **Recall** are sightly lower than baseline model, while the **precision** is 0.427"
   ]
  },
  {
   "cell_type": "code",
   "execution_count": 112,
   "metadata": {
    "colab": {
     "base_uri": "https://localhost:8080/"
    },
    "id": "OwLPYAMXw_Iy",
    "outputId": "63df3d99-8050-4de2-c5fc-aa436044a0a9"
   },
   "outputs": [
    {
     "name": "stdout",
     "output_type": "stream",
     "text": [
      "user: 6958       item: 1671       r_ui = 2.00   est = 1.34   {'was_impossible': False}\n"
     ]
    },
    {
     "data": {
      "text/plain": [
       "Prediction(uid=6958, iid=1671, r_ui=2, est=1.3432395286125096, details={'was_impossible': False})"
      ]
     },
     "execution_count": 112,
     "metadata": {},
     "output_type": "execute_result"
    }
   ],
   "source": [
    "# Using svd_algo_optimized model to recommend for userId 6958 and song_id 1671\n",
    "svd_optimized.predict(6958, 1671, r_ui = 2, verbose = True)"
   ]
  },
  {
   "cell_type": "code",
   "execution_count": 113,
   "metadata": {
    "colab": {
     "base_uri": "https://localhost:8080/"
    },
    "id": "2GrS_fSwxINZ",
    "outputId": "c6422689-2602-4b8c-cf57-c9d533022197"
   },
   "outputs": [
    {
     "name": "stdout",
     "output_type": "stream",
     "text": [
      "user: 6958       item: 3232       r_ui = None   est = 1.44   {'was_impossible': False}\n"
     ]
    },
    {
     "data": {
      "text/plain": [
       "Prediction(uid=6958, iid=3232, r_ui=None, est=1.442548446117648, details={'was_impossible': False})"
      ]
     },
     "execution_count": 113,
     "metadata": {},
     "output_type": "execute_result"
    }
   ],
   "source": [
    "# Using svd_algo_optimized model to recommend for userId 6958 and song_id 3232 with unknown baseline rating\n",
    "svd_optimized.predict(6958, 3232, verbose = True)"
   ]
  },
  {
   "cell_type": "markdown",
   "metadata": {
    "id": "5QIE8_twxJyJ"
   },
   "source": [
    "**Observations and Insights:**\n",
    "\n",
    "* Using the svd_algo_optimized model to recommend for user_id 6958 and song_id 1671 we can observe, the actual play_count for this user-item pair is 2, and the predicted rating is **1.34** by this matrix factorization-based optimized model while baseline model estimates **1.27**. It seems like that the baseline under-estimated the rating and the estimation improves after **tuning the hyperparameters**.\n",
    "\n",
    "* Using the svd_algo_optimized model to recommend for user_id 6958 and song_id 3232 we can observe, that the actual rating for this user-item pair is None, and the predicted rating is **1.44** by this matrix factorization-based optimized model while baseline model estimates **1.56**. The baseline provides a better estimation of the rating for a product with which this user has not interacted before than after **tuning the hyperparameters**."
   ]
  },
  {
   "cell_type": "code",
   "execution_count": 114,
   "metadata": {
    "id": "3dvoGwCUxLgx"
   },
   "outputs": [],
   "source": [
    "# Getting top 5 recommendations for user_id 6958 using \"svd_optimized\" algorithm\n",
    "svd_recommendations = get_recommendations(df_final, 6958, 5, svd_optimized)"
   ]
  },
  {
   "cell_type": "code",
   "execution_count": 115,
   "metadata": {
    "colab": {
     "base_uri": "https://localhost:8080/",
     "height": 206
    },
    "id": "toyU3ZdgxRtU",
    "outputId": "cdf4f4d6-f309-4ba1-d7bd-a2cac0326a7d"
   },
   "outputs": [
    {
     "data": {
      "text/html": [
       "<div>\n",
       "<style scoped>\n",
       "    .dataframe tbody tr th:only-of-type {\n",
       "        vertical-align: middle;\n",
       "    }\n",
       "\n",
       "    .dataframe tbody tr th {\n",
       "        vertical-align: top;\n",
       "    }\n",
       "\n",
       "    .dataframe thead th {\n",
       "        text-align: right;\n",
       "    }\n",
       "</style>\n",
       "<table border=\"1\" class=\"dataframe\">\n",
       "  <thead>\n",
       "    <tr style=\"text-align: right;\">\n",
       "      <th></th>\n",
       "      <th>song_id</th>\n",
       "      <th>play_freq</th>\n",
       "      <th>predicted_ratings</th>\n",
       "      <th>corrected_ratings</th>\n",
       "    </tr>\n",
       "  </thead>\n",
       "  <tbody>\n",
       "    <tr>\n",
       "      <th>2</th>\n",
       "      <td>7224</td>\n",
       "      <td>107</td>\n",
       "      <td>2.601899</td>\n",
       "      <td>2.505225</td>\n",
       "    </tr>\n",
       "    <tr>\n",
       "      <th>1</th>\n",
       "      <td>5653</td>\n",
       "      <td>108</td>\n",
       "      <td>2.108728</td>\n",
       "      <td>2.012502</td>\n",
       "    </tr>\n",
       "    <tr>\n",
       "      <th>4</th>\n",
       "      <td>8324</td>\n",
       "      <td>96</td>\n",
       "      <td>2.014091</td>\n",
       "      <td>1.912029</td>\n",
       "    </tr>\n",
       "    <tr>\n",
       "      <th>0</th>\n",
       "      <td>9942</td>\n",
       "      <td>150</td>\n",
       "      <td>1.940115</td>\n",
       "      <td>1.858465</td>\n",
       "    </tr>\n",
       "    <tr>\n",
       "      <th>3</th>\n",
       "      <td>6450</td>\n",
       "      <td>102</td>\n",
       "      <td>1.952493</td>\n",
       "      <td>1.853478</td>\n",
       "    </tr>\n",
       "  </tbody>\n",
       "</table>\n",
       "</div>"
      ],
      "text/plain": [
       "   song_id  play_freq  predicted_ratings  corrected_ratings\n",
       "2     7224        107           2.601899           2.505225\n",
       "1     5653        108           2.108728           2.012502\n",
       "4     8324         96           2.014091           1.912029\n",
       "0     9942        150           1.940115           1.858465\n",
       "3     6450        102           1.952493           1.853478"
      ]
     },
     "execution_count": 115,
     "metadata": {},
     "output_type": "execute_result"
    }
   ],
   "source": [
    "# Ranking songs based on above recommendations\n",
    "ranking_songs(svd_recommendations, final_play)"
   ]
  },
  {
   "cell_type": "markdown",
   "metadata": {
    "id": "ZFhVmm6wxS2J"
   },
   "source": [
    "**Observations and Insights:**\n",
    "\n",
    "- The **surprise** library was used to demonstrate **\"user-user similarity-based collaborative filtering,\" \"item-item similarity-based collaborative filtering,\" and \"model-based collaborative filtering (matrix factorization)\"** algorithms. For these algorithms, grid search cross-validation is used to find the optimal hyperparameters for the data, and related predictions are created using the optimal hyperparameters.\n",
    "\n",
    "- Overall, the optimized user-user similarity-based recommendation system has given the best performance in terms of the F1-Score = 0.513. In terms of recommendation is slightly better than other recommendation systems built."
   ]
  },
  {
   "cell_type": "markdown",
   "metadata": {
    "id": "Yn3zsJbwxWAt"
   },
   "source": [
    "### **Cluster Based Recommendation System**"
   ]
  },
  {
   "cell_type": "markdown",
   "metadata": {
    "id": "xgCwCuJFxYI8"
   },
   "source": [
    "In **clustering-based recommendation systems**, we explore the **similarities and differences** in people's tastes in songs based on how they rate different songs. We cluster similar users together and recommend songs to a user based on play_counts from other users in the same cluster."
   ]
  },
  {
   "cell_type": "code",
   "execution_count": 116,
   "metadata": {
    "colab": {
     "base_uri": "https://localhost:8080/"
    },
    "id": "1OwiZTS1xUYt",
    "outputId": "b6019673-a773-4838-e43e-d6e9eecfcee3"
   },
   "outputs": [
    {
     "name": "stdout",
     "output_type": "stream",
     "text": [
      "RMSE: 1.0487\n",
      "Precision:  0.405\n",
      "Recall:  0.496\n",
      "F_1 score:  0.446\n",
      "CPU times: total: 1.91 s\n",
      "Wall time: 1.9 s\n"
     ]
    }
   ],
   "source": [
    "%%time\n",
    "# Make baseline clustering model\n",
    "\n",
    "# Using CoClustering algorithm\n",
    "clust_baseline = CoClustering(random_state = 1)\n",
    "\n",
    "# Training the algorithm on the train set\n",
    "clust_baseline.fit(trainset)\n",
    "\n",
    "# Let us compute precision@k, recall@k, and F_1 score with k = 10\n",
    "precision_recall_at_k(clust_baseline)"
   ]
  },
  {
   "cell_type": "code",
   "execution_count": 117,
   "metadata": {
    "colab": {
     "base_uri": "https://localhost:8080/"
    },
    "id": "_oYzV_wzxdY_",
    "outputId": "9ba7aa92-d120-4b59-ed48-7ce659609186"
   },
   "outputs": [
    {
     "name": "stdout",
     "output_type": "stream",
     "text": [
      "user: 6958       item: 1671       r_ui = 2.00   est = 1.29   {'was_impossible': False}\n"
     ]
    },
    {
     "data": {
      "text/plain": [
       "Prediction(uid=6958, iid=1671, r_ui=2, est=1.2941824757363074, details={'was_impossible': False})"
      ]
     },
     "execution_count": 117,
     "metadata": {},
     "output_type": "execute_result"
    }
   ],
   "source": [
    "# Making prediction for user_id 6958 and song_id 1671\n",
    "clust_baseline.predict(6958, 1671, r_ui = 2, verbose = True)"
   ]
  },
  {
   "cell_type": "code",
   "execution_count": 118,
   "metadata": {
    "colab": {
     "base_uri": "https://localhost:8080/"
    },
    "id": "mZ5upsNRxenb",
    "outputId": "05563c8c-9e7f-4140-b714-ce72754842f1"
   },
   "outputs": [
    {
     "name": "stdout",
     "output_type": "stream",
     "text": [
      "user: 6958       item: 3232       r_ui = None   est = 1.48   {'was_impossible': False}\n"
     ]
    },
    {
     "data": {
      "text/plain": [
       "Prediction(uid=6958, iid=3232, r_ui=None, est=1.4785259100797417, details={'was_impossible': False})"
      ]
     },
     "execution_count": 118,
     "metadata": {},
     "output_type": "execute_result"
    }
   ],
   "source": [
    "# Making prediction for user (userid 6958) for a song(song_id 3232) not heard by the user\n",
    "clust_baseline.predict(6958, 3232, verbose = True)"
   ]
  },
  {
   "cell_type": "markdown",
   "metadata": {
    "id": "tl0xA5AOxgF-"
   },
   "source": [
    "#### **Improving clustering-based recommendation system by tuning its hyper-parameters**"
   ]
  },
  {
   "cell_type": "code",
   "execution_count": 119,
   "metadata": {
    "colab": {
     "base_uri": "https://localhost:8080/"
    },
    "id": "lQCqGFCDxiEr",
    "outputId": "aac42abe-95ef-44d4-a1ed-f592aeb8093f"
   },
   "outputs": [
    {
     "name": "stdout",
     "output_type": "stream",
     "text": [
      "1.0600830220851893\n",
      "{'n_cltr_u': 5, 'n_cltr_i': 5, 'n_epochs': 10}\n"
     ]
    }
   ],
   "source": [
    "# Set the parameter space to tune\n",
    "param_grid = {'n_cltr_u': [5, 6, 7, 8], 'n_cltr_i': [5, 6, 7, 8], 'n_epochs': [10, 20, 30]}\n",
    "\n",
    "# Performing 3-fold grid search cross-validation\n",
    "gs = GridSearchCV(CoClustering, param_grid, measures = ['rmse'], cv = 3, n_jobs = -1)\n",
    "\n",
    "# Fitting data\n",
    "gs.fit(data)\n",
    "\n",
    "# Best RMSE score\n",
    "print(gs.best_score['rmse'])\n",
    "\n",
    "# Combination of parameters that gave the best RMSE score\n",
    "print(gs.best_params['rmse'])"
   ]
  },
  {
   "cell_type": "markdown",
   "metadata": {
    "id": "ELLC2onQxnim"
   },
   "source": [
    " How do the parameters affect the performance of the model? Can we improve the performance of the model further? Check the available hyperparameters [here](https://surprise.readthedocs.io/en/stable/co_clustering.html)."
   ]
  },
  {
   "cell_type": "code",
   "execution_count": 120,
   "metadata": {
    "colab": {
     "base_uri": "https://localhost:8080/"
    },
    "id": "B-4Veh2ixpEZ",
    "outputId": "692c5f9c-d8a9-4705-d82a-1eeb94269755"
   },
   "outputs": [
    {
     "name": "stdout",
     "output_type": "stream",
     "text": [
      "1.0287797392864284\n",
      "{'n_cltr_u': 1, 'n_cltr_i': 8, 'n_epochs': 70}\n",
      "CPU times: total: 1.92 s\n",
      "Wall time: 19 s\n"
     ]
    }
   ],
   "source": [
    "%%time\n",
    "# Train the tuned Coclustering algorithm\n",
    "\n",
    "# Set the parameter space to tune\n",
    "param_grid = {'n_cltr_u': range(1, 10), 'n_cltr_i': range(1, 10), 'n_epochs': range(10, 100, 10)}\n",
    "\n",
    "# Performing 3-Fold gridsearch cross-validation\n",
    "gs = RandomizedSearchCV(CoClustering, param_grid, measures = ['rmse'], cv = 3, n_jobs = -1, n_iter=5)\n",
    "\n",
    "# Fitting data\n",
    "gs.fit(data)\n",
    "\n",
    "# Printing the best RMSE score\n",
    "print(gs.best_score['rmse'])\n",
    "\n",
    "# Printing the combination of parameters that gives the best RMSE score\n",
    "print(gs.best_params['rmse'])"
   ]
  },
  {
   "cell_type": "markdown",
   "metadata": {
    "id": "jOkQOHDxxtNP"
   },
   "source": [
    "Once the grid search is **complete**, we can get the **optimal values** for each of those hyperparameters as shown above.\n",
    "\n",
    "We will build **final model** by using tuned values of the hyperparameters received after using the Grid search cross-validation above."
   ]
  },
  {
   "cell_type": "code",
   "execution_count": 121,
   "metadata": {
    "colab": {
     "base_uri": "https://localhost:8080/"
    },
    "id": "4j9dgtN8xtjr",
    "outputId": "a006b538-4f46-41e8-aadf-ba943a1cf7d9"
   },
   "outputs": [
    {
     "name": "stdout",
     "output_type": "stream",
     "text": [
      "RMSE: 1.0315\n",
      "Precision:  0.407\n",
      "Recall:  0.495\n",
      "F_1 score:  0.447\n"
     ]
    }
   ],
   "source": [
    "# Using tuned Coclustering algorithm\n",
    "clust_tuned = CoClustering(n_cltr_u = 1, n_cltr_i = 8, n_epochs = 70, random_state = 1)\n",
    "\n",
    "# Training the algorithm on the train set\n",
    "clust_tuned.fit(trainset)\n",
    "\n",
    "# Let us compute precision@k, recall@k, and F_1 score with k = 10\n",
    "precision_recall_at_k(clust_tuned)"
   ]
  },
  {
   "cell_type": "code",
   "execution_count": 122,
   "metadata": {
    "colab": {
     "base_uri": "https://localhost:8080/"
    },
    "id": "u-V7zKWfxvWv",
    "outputId": "5aaf7114-06b9-4d17-e455-799545292036"
   },
   "outputs": [
    {
     "name": "stdout",
     "output_type": "stream",
     "text": [
      "RMSE: 1.0315\n",
      "Precision:  0.407\n",
      "Recall:  0.495\n",
      "F_1 score:  0.447\n"
     ]
    }
   ],
   "source": [
    "# Using tuned Coclustering algorithm\n",
    "clust_tuned = CoClustering(n_cltr_u = 1, n_cltr_i = 3, n_epochs = 30, random_state = 1)\n",
    "\n",
    "# Training the algorithm on the train set\n",
    "clust_tuned.fit(trainset)\n",
    "\n",
    "# Let us compute precision@k, recall@k, and F_1 score with k = 10\n",
    "precision_recall_at_k(clust_tuned, k=10)"
   ]
  },
  {
   "cell_type": "markdown",
   "metadata": {
    "id": "tR4CA561xxWG"
   },
   "source": [
    "**Observations and Insights:**\n",
    "\n",
    "* Overall, the optimized user-user similarity-based recommendation system has given the best performance in terms of the F1-Score = 0.513. In terms of recommendation is slightly better than other recommendation systems built."
   ]
  },
  {
   "cell_type": "code",
   "execution_count": 123,
   "metadata": {
    "colab": {
     "base_uri": "https://localhost:8080/"
    },
    "id": "UZT-J3TKyMYn",
    "outputId": "bb0e0dc8-fafe-42df-ff4a-fcab0bab4165"
   },
   "outputs": [
    {
     "name": "stdout",
     "output_type": "stream",
     "text": [
      "user: 6958       item: 1671       r_ui = 2.00   est = 1.13   {'was_impossible': False}\n"
     ]
    },
    {
     "data": {
      "text/plain": [
       "Prediction(uid=6958, iid=1671, r_ui=2, est=1.1257867112267956, details={'was_impossible': False})"
      ]
     },
     "execution_count": 123,
     "metadata": {},
     "output_type": "execute_result"
    }
   ],
   "source": [
    "# Using co_clustering_optimized model to recommend for userId 6958 and song_id 1671\n",
    "clust_tuned.predict(6958, 1671, r_ui = 2, verbose = True)"
   ]
  },
  {
   "cell_type": "code",
   "execution_count": 124,
   "metadata": {
    "colab": {
     "base_uri": "https://localhost:8080/"
    },
    "id": "9WIO1dZkyN_p",
    "outputId": "28cfd4e1-16f3-44d9-fcd9-0ae5fbc83650"
   },
   "outputs": [
    {
     "name": "stdout",
     "output_type": "stream",
     "text": [
      "user: 6958       item: 3232       r_ui = None   est = 1.31   {'was_impossible': False}\n"
     ]
    },
    {
     "data": {
      "text/plain": [
       "Prediction(uid=6958, iid=3232, r_ui=None, est=1.3101301455702306, details={'was_impossible': False})"
      ]
     },
     "execution_count": 124,
     "metadata": {},
     "output_type": "execute_result"
    }
   ],
   "source": [
    "# Use Co_clustering based optimized model to recommend for userId 6958 and song_id 3232 with unknown baseline rating\n",
    "clust_tuned.predict(6958, 3232, verbose = True)"
   ]
  },
  {
   "cell_type": "markdown",
   "metadata": {
    "id": "NXKOV6rTyPbk"
   },
   "source": [
    "**Observations and Insights:**"
   ]
  },
  {
   "cell_type": "markdown",
   "metadata": {
    "id": "4fwICfxwyU69"
   },
   "source": [
    "#### **Implementing the recommendation algorithm based on optimized CoClustering model**"
   ]
  },
  {
   "cell_type": "code",
   "execution_count": 125,
   "metadata": {
    "id": "aR1jPOMIyS6F"
   },
   "outputs": [],
   "source": [
    "# Getting top 5 recommendations for user_id 6958 using \"Co-clustering based optimized\" algorithm\n",
    "clustering_recommendations = get_recommendations(df_final, 6958, 5, clust_tuned)"
   ]
  },
  {
   "cell_type": "markdown",
   "metadata": {
    "id": "a7_x3hzMyYJP"
   },
   "source": [
    "### **Correcting the play_count and Ranking the above songs**"
   ]
  },
  {
   "cell_type": "code",
   "execution_count": 126,
   "metadata": {
    "colab": {
     "base_uri": "https://localhost:8080/",
     "height": 206
    },
    "id": "1BMlgpU8yb60",
    "outputId": "ac250c27-292c-4ff5-c6c1-33b9e7f7bb6b"
   },
   "outputs": [
    {
     "data": {
      "text/html": [
       "<div>\n",
       "<style scoped>\n",
       "    .dataframe tbody tr th:only-of-type {\n",
       "        vertical-align: middle;\n",
       "    }\n",
       "\n",
       "    .dataframe tbody tr th {\n",
       "        vertical-align: top;\n",
       "    }\n",
       "\n",
       "    .dataframe thead th {\n",
       "        text-align: right;\n",
       "    }\n",
       "</style>\n",
       "<table border=\"1\" class=\"dataframe\">\n",
       "  <thead>\n",
       "    <tr style=\"text-align: right;\">\n",
       "      <th></th>\n",
       "      <th>song_id</th>\n",
       "      <th>play_freq</th>\n",
       "      <th>predicted_ratings</th>\n",
       "      <th>corrected_ratings</th>\n",
       "    </tr>\n",
       "  </thead>\n",
       "  <tbody>\n",
       "    <tr>\n",
       "      <th>2</th>\n",
       "      <td>7224</td>\n",
       "      <td>107</td>\n",
       "      <td>2.926402</td>\n",
       "      <td>2.829728</td>\n",
       "    </tr>\n",
       "    <tr>\n",
       "      <th>3</th>\n",
       "      <td>6450</td>\n",
       "      <td>102</td>\n",
       "      <td>2.166664</td>\n",
       "      <td>2.067649</td>\n",
       "    </tr>\n",
       "    <tr>\n",
       "      <th>4</th>\n",
       "      <td>8324</td>\n",
       "      <td>96</td>\n",
       "      <td>2.143103</td>\n",
       "      <td>2.041041</td>\n",
       "    </tr>\n",
       "    <tr>\n",
       "      <th>1</th>\n",
       "      <td>5653</td>\n",
       "      <td>108</td>\n",
       "      <td>2.118781</td>\n",
       "      <td>2.022556</td>\n",
       "    </tr>\n",
       "    <tr>\n",
       "      <th>0</th>\n",
       "      <td>9942</td>\n",
       "      <td>150</td>\n",
       "      <td>2.046644</td>\n",
       "      <td>1.964994</td>\n",
       "    </tr>\n",
       "  </tbody>\n",
       "</table>\n",
       "</div>"
      ],
      "text/plain": [
       "   song_id  play_freq  predicted_ratings  corrected_ratings\n",
       "2     7224        107           2.926402           2.829728\n",
       "3     6450        102           2.166664           2.067649\n",
       "4     8324         96           2.143103           2.041041\n",
       "1     5653        108           2.118781           2.022556\n",
       "0     9942        150           2.046644           1.964994"
      ]
     },
     "execution_count": 126,
     "metadata": {},
     "output_type": "execute_result"
    }
   ],
   "source": [
    "# Ranking songs based on the above recommendations\n",
    "ranking_songs(clustering_recommendations, final_play)"
   ]
  },
  {
   "cell_type": "markdown",
   "metadata": {
    "id": "VgRLaixBydvC"
   },
   "source": [
    "**Observations and Insights:**"
   ]
  },
  {
   "cell_type": "markdown",
   "metadata": {
    "id": "DqkjuhGWyjds"
   },
   "source": [
    "### **Content Based Recommendation Systems**"
   ]
  },
  {
   "cell_type": "markdown",
   "metadata": {
    "id": "HTF99wZVylk9"
   },
   "source": [
    "In a **content-based recommendation system**, we will use the feature - **text**, i.e., title, release, artist_name to find similar songs.\n",
    "\n",
    "Text data generally contains pronunciation, stopwords, and non-ASCII characters, which makes it **very noisy**. So, we will first need to **pre-process the text** and then we will **generate features from the text to compute similarities** between the texts/reviews."
   ]
  },
  {
   "cell_type": "markdown",
   "metadata": {
    "id": "F3FTSy82yqX8"
   },
   "source": [
    "So far we have only used the play_count of songs to find recommendations but we have other information/features on songs as well. Can we take those song features into account?"
   ]
  },
  {
   "cell_type": "code",
   "execution_count": 127,
   "metadata": {
    "id": "RCzC6HUQyn8N"
   },
   "outputs": [],
   "source": [
    "df_small = df_final"
   ]
  },
  {
   "cell_type": "code",
   "execution_count": 128,
   "metadata": {
    "id": "kZ3ne2HpyvBV"
   },
   "outputs": [],
   "source": [
    "# Concatenate the \"title\", \"release\", \"artist_name\" columns to create a different column named \"text\"\n",
    "df_small['text'] = df_small['title'] + \" \" + df_small['release'] + \" \" + df_small['artist_name']"
   ]
  },
  {
   "cell_type": "code",
   "execution_count": 129,
   "metadata": {
    "colab": {
     "base_uri": "https://localhost:8080/",
     "height": 237
    },
    "id": "cYexnR8kywkc",
    "outputId": "8f4d41aa-dd35-4ba7-96a6-feae353d55a9"
   },
   "outputs": [
    {
     "data": {
      "text/html": [
       "<div>\n",
       "<style scoped>\n",
       "    .dataframe tbody tr th:only-of-type {\n",
       "        vertical-align: middle;\n",
       "    }\n",
       "\n",
       "    .dataframe tbody tr th {\n",
       "        vertical-align: top;\n",
       "    }\n",
       "\n",
       "    .dataframe thead th {\n",
       "        text-align: right;\n",
       "    }\n",
       "</style>\n",
       "<table border=\"1\" class=\"dataframe\">\n",
       "  <thead>\n",
       "    <tr style=\"text-align: right;\">\n",
       "      <th></th>\n",
       "      <th>user_id</th>\n",
       "      <th>song_id</th>\n",
       "      <th>play_count</th>\n",
       "      <th>text</th>\n",
       "    </tr>\n",
       "    <tr>\n",
       "      <th>title</th>\n",
       "      <th></th>\n",
       "      <th></th>\n",
       "      <th></th>\n",
       "      <th></th>\n",
       "    </tr>\n",
       "  </thead>\n",
       "  <tbody>\n",
       "    <tr>\n",
       "      <th>Daisy And Prudence</th>\n",
       "      <td>6958</td>\n",
       "      <td>447</td>\n",
       "      <td>1</td>\n",
       "      <td>Daisy And Prudence Distillation Erin McKeown</td>\n",
       "    </tr>\n",
       "    <tr>\n",
       "      <th>The Ballad of Michael Valentine</th>\n",
       "      <td>6958</td>\n",
       "      <td>512</td>\n",
       "      <td>1</td>\n",
       "      <td>The Ballad of Michael Valentine Sawdust The Ki...</td>\n",
       "    </tr>\n",
       "    <tr>\n",
       "      <th>I Stand Corrected (Album)</th>\n",
       "      <td>6958</td>\n",
       "      <td>549</td>\n",
       "      <td>1</td>\n",
       "      <td>I Stand Corrected (Album) Vampire Weekend Vamp...</td>\n",
       "    </tr>\n",
       "    <tr>\n",
       "      <th>They Might Follow You</th>\n",
       "      <td>6958</td>\n",
       "      <td>703</td>\n",
       "      <td>1</td>\n",
       "      <td>They Might Follow You Tiny Vipers Tiny Vipers</td>\n",
       "    </tr>\n",
       "    <tr>\n",
       "      <th>Monkey Man</th>\n",
       "      <td>6958</td>\n",
       "      <td>719</td>\n",
       "      <td>1</td>\n",
       "      <td>Monkey Man You Know I'm No Good Amy Winehouse</td>\n",
       "    </tr>\n",
       "  </tbody>\n",
       "</table>\n",
       "</div>"
      ],
      "text/plain": [
       "                                 user_id  song_id  play_count  \\\n",
       "title                                                           \n",
       "Daisy And Prudence                  6958      447           1   \n",
       "The Ballad of Michael Valentine     6958      512           1   \n",
       "I Stand Corrected (Album)           6958      549           1   \n",
       "They Might Follow You               6958      703           1   \n",
       "Monkey Man                          6958      719           1   \n",
       "\n",
       "                                                                              text  \n",
       "title                                                                               \n",
       "Daisy And Prudence                    Daisy And Prudence Distillation Erin McKeown  \n",
       "The Ballad of Michael Valentine  The Ballad of Michael Valentine Sawdust The Ki...  \n",
       "I Stand Corrected (Album)        I Stand Corrected (Album) Vampire Weekend Vamp...  \n",
       "They Might Follow You                They Might Follow You Tiny Vipers Tiny Vipers  \n",
       "Monkey Man                           Monkey Man You Know I'm No Good Amy Winehouse  "
      ]
     },
     "execution_count": 129,
     "metadata": {},
     "output_type": "execute_result"
    }
   ],
   "source": [
    "# Select the columns 'user_id', 'song_id', 'play_count', 'title', 'text' from df_small data\n",
    "df_small = df_small[['user_id', 'song_id', 'play_count', 'title', 'text']]\n",
    "\n",
    "# Drop the duplicates from the title column\n",
    "df_small.drop_duplicates(subset = ['title'], inplace=True)\n",
    "\n",
    "# Set the title column as the index\n",
    "df_small = df_small.set_index('title')\n",
    "\n",
    "# See the first 5 records of the df_small dataset\n",
    "df_small.head()"
   ]
  },
  {
   "cell_type": "code",
   "execution_count": 130,
   "metadata": {
    "colab": {
     "base_uri": "https://localhost:8080/"
    },
    "id": "u5hUWUdMyz9a",
    "outputId": "c560eb61-bd6b-4530-c1bb-1b5018c56dce"
   },
   "outputs": [
    {
     "data": {
      "text/plain": [
       "(561, 4)"
      ]
     },
     "execution_count": 130,
     "metadata": {},
     "output_type": "execute_result"
    }
   ],
   "source": [
    "# Let us see the shape of df_small data\n",
    "df_small.shape"
   ]
  },
  {
   "cell_type": "code",
   "execution_count": 131,
   "metadata": {
    "colab": {
     "base_uri": "https://localhost:8080/"
    },
    "id": "EWlSSKtBy1Rd",
    "outputId": "fdb0d19d-1ebe-4be2-cd76-6c63f35cc5c0"
   },
   "outputs": [
    {
     "data": {
      "text/plain": [
       "0                 Daisy And Prudence\n",
       "1    The Ballad of Michael Valentine\n",
       "2          I Stand Corrected (Album)\n",
       "3              They Might Follow You\n",
       "4                         Monkey Man\n",
       "Name: title, dtype: object"
      ]
     },
     "execution_count": 131,
     "metadata": {},
     "output_type": "execute_result"
    }
   ],
   "source": [
    "# Create the series of indices from the data\n",
    "indices = pd.Series(df_small.index)\n",
    "\n",
    "indices[:5]"
   ]
  },
  {
   "cell_type": "markdown",
   "metadata": {
    "id": "98D-Bo1ty5Uz"
   },
   "source": [
    "### **Loading libraries to handle the text data**"
   ]
  },
  {
   "cell_type": "markdown",
   "metadata": {
    "id": "hQg5nwi8zrti"
   },
   "source": [
    "**NOTE**: we have to install the nltk library from within the notebook or in a Jupyter terminal"
   ]
  },
  {
   "cell_type": "code",
   "execution_count": 132,
   "metadata": {
    "colab": {
     "base_uri": "https://localhost:8080/"
    },
    "id": "nwWavI86y3xz",
    "outputId": "0b52c034-90df-4b30-8933-cfcd9137453d"
   },
   "outputs": [
    {
     "name": "stderr",
     "output_type": "stream",
     "text": [
      "[nltk_data] Downloading package punkt to\n",
      "[nltk_data]     C:\\Users\\andre\\AppData\\Roaming\\nltk_data...\n",
      "[nltk_data]   Package punkt is already up-to-date!\n",
      "[nltk_data] Downloading package stopwords to\n",
      "[nltk_data]     C:\\Users\\andre\\AppData\\Roaming\\nltk_data...\n",
      "[nltk_data]   Package stopwords is already up-to-date!\n",
      "[nltk_data] Downloading package wordnet to\n",
      "[nltk_data]     C:\\Users\\andre\\AppData\\Roaming\\nltk_data...\n",
      "[nltk_data]   Package wordnet is already up-to-date!\n",
      "[nltk_data] Downloading package omw-1.4 to\n",
      "[nltk_data]     C:\\Users\\andre\\AppData\\Roaming\\nltk_data...\n",
      "[nltk_data]   Package omw-1.4 is already up-to-date!\n"
     ]
    }
   ],
   "source": [
    "# Importing necessary packages to work with text data\n",
    "import nltk\n",
    "\n",
    "# Download punkt library\n",
    "nltk.download(\"punkt\")\n",
    "\n",
    "# Download stopwords library\n",
    "nltk.download(\"stopwords\")\n",
    "\n",
    "# Download wordnet \n",
    "nltk.download(\"wordnet\")\n",
    "\n",
    "nltk.download('omw-1.4')\n",
    "\n",
    "# Import regular expression\n",
    "import re\n",
    "\n",
    "# Import word_tokenizer\n",
    "from nltk import word_tokenize\n",
    "\n",
    "# Import WordNetLemmatizer\n",
    "from nltk.stem import WordNetLemmatizer\n",
    "\n",
    "# Import stopwords\n",
    "from nltk.corpus import stopwords\n",
    "\n",
    "# Import CountVectorizer and TfidfVectorizer\n",
    "from sklearn.feature_extraction.text import CountVectorizer, TfidfVectorizer"
   ]
  },
  {
   "cell_type": "markdown",
   "metadata": {
    "id": "_5mJh7Sq1Joh"
   },
   "source": [
    "We will create a **function to pre-process the text data.** Before that, let's see some **terminology**.\n",
    "- **stopwords:** A stop word is a commonly used word (such as “the”, “a”, “an”, or “in”) that does not contain information in the text and can be ignored.\n",
    "- **Lemmatization:** Lemmatization in linguistics is the process of grouping together the inflected forms of a word so they can be analyzed as a single item. For example, runs, running, and ran are all forms of the word run, therefore run is the lemma of all these words."
   ]
  },
  {
   "cell_type": "code",
   "execution_count": 133,
   "metadata": {
    "id": "6o6VAab81KLy"
   },
   "outputs": [],
   "source": [
    "# Create the tokenize function\n",
    "def tokenize(text, **kwargs): # Added **kwargs to pass arguments to the lemmatizer\n",
    "    \n",
    "    # Making each letter as lowercase and removing non-alphabetical text\n",
    "    text = re.sub(r\"[^a-zA-Z]\",\" \", text.lower())\n",
    "    \n",
    "    # Extracting each word in the text\n",
    "    tokens = word_tokenize(text)\n",
    "    \n",
    "    # Removing stopwords\n",
    "    words = [word for word in tokens if word not in stopwords.words(\"english\")]\n",
    "    \n",
    "    # Lemmatize the words\n",
    "    text_lems = [WordNetLemmatizer().lemmatize(lem, **kwargs).strip() for lem in words]\n",
    "\n",
    "    return text_lems"
   ]
  },
  {
   "cell_type": "code",
   "execution_count": 134,
   "metadata": {},
   "outputs": [
    {
     "data": {
      "text/plain": [
       "['This', 'is', 'me', 'Andrés', 'and', 'I', 'am', 'a', 'Data', 'Scientist']"
      ]
     },
     "execution_count": 134,
     "metadata": {},
     "output_type": "execute_result"
    }
   ],
   "source": [
    "tokens = word_tokenize('This is me Andrés and I am a Data Scientist')\n",
    "tokens"
   ]
  },
  {
   "cell_type": "code",
   "execution_count": 135,
   "metadata": {},
   "outputs": [
    {
     "data": {
      "text/plain": [
       "['This', 'Andrés', 'I', 'Data', 'Scientist']"
      ]
     },
     "execution_count": 135,
     "metadata": {},
     "output_type": "execute_result"
    }
   ],
   "source": [
    "[word for word in tokens if word not in stopwords.words(\"english\")]"
   ]
  },
  {
   "cell_type": "markdown",
   "metadata": {},
   "source": [
    "**Lemmatization is context aware.** So the lemmatized form of a word depends on its Position of Speech (POS) in the sentence."
   ]
  },
  {
   "cell_type": "code",
   "execution_count": 136,
   "metadata": {},
   "outputs": [
    {
     "data": {
      "text/plain": [
       "'ran'"
      ]
     },
     "execution_count": 136,
     "metadata": {},
     "output_type": "execute_result"
    }
   ],
   "source": [
    "WordNetLemmatizer().lemmatize('ran')"
   ]
  },
  {
   "cell_type": "code",
   "execution_count": 137,
   "metadata": {},
   "outputs": [
    {
     "data": {
      "text/plain": [
       "'run'"
      ]
     },
     "execution_count": 137,
     "metadata": {},
     "output_type": "execute_result"
    }
   ],
   "source": [
    "WordNetLemmatizer().lemmatize('ran', pos='v')"
   ]
  },
  {
   "cell_type": "code",
   "execution_count": 138,
   "metadata": {},
   "outputs": [
    {
     "data": {
      "text/plain": [
       "['run', 'run', 'run']"
      ]
     },
     "execution_count": 138,
     "metadata": {},
     "output_type": "execute_result"
    }
   ],
   "source": [
    "tokenize(' runs, running, ran', pos='v')"
   ]
  },
  {
   "cell_type": "markdown",
   "metadata": {},
   "source": [
    "### **Feature Extraction**\n",
    "\n",
    "Below are some of the ways to extract features from texts:\n",
    "- Bag of words\n",
    "- TF-IDF\n",
    "- One hot encoding\n",
    "- Word vectors\n",
    "\n",
    "Here, we will be using **TF-IDF** as a feature extraction technique."
   ]
  },
  {
   "cell_type": "code",
   "execution_count": 139,
   "metadata": {
    "id": "muIw6g6N1Lh5"
   },
   "outputs": [],
   "source": [
    "# Create tfidf vectorizer \n",
    "tfidf = TfidfVectorizer(tokenizer = tokenize)\n",
    "\n",
    "# Fit_transfrom the above vectorizer on the text column and then convert the output into an array\n",
    "song_tfidf = tfidf.fit_transform(df_small['text'].values).toarray()"
   ]
  },
  {
   "cell_type": "markdown",
   "metadata": {
    "id": "uw0-_Yjn1PD5"
   },
   "source": [
    "Let's check the dictionary with the vocabulary of the text column"
   ]
  },
  {
   "cell_type": "code",
   "execution_count": 140,
   "metadata": {
    "colab": {
     "base_uri": "https://localhost:8080/"
    },
    "id": "-PmwXP7T1M-R",
    "outputId": "c77ff2f1-c7fd-488a-9470-4a7fdf3a85b6"
   },
   "outputs": [
    {
     "data": {
      "text/plain": [
       "{'daisy': 286,\n",
       " 'prudence': 985,\n",
       " 'distillation': 318,\n",
       " 'erin': 381,\n",
       " 'mckeown': 781,\n",
       " 'ballad': 60,\n",
       " 'michael': 793,\n",
       " 'valentine': 1353,\n",
       " 'sawdust': 1091,\n",
       " 'killer': 669,\n",
       " 'stand': 1197,\n",
       " 'corrected': 251,\n",
       " 'album': 14,\n",
       " 'vampire': 1356,\n",
       " 'weekend': 1389,\n",
       " 'might': 796,\n",
       " 'follow': 448,\n",
       " 'tiny': 1292,\n",
       " 'viper': 1367,\n",
       " 'monkey': 824,\n",
       " 'man': 760,\n",
       " 'know': 681,\n",
       " 'good': 505,\n",
       " 'amy': 29,\n",
       " 'winehouse': 1405,\n",
       " 'bleeding': 108,\n",
       " 'heart': 536,\n",
       " 'hell': 542,\n",
       " 'train': 1311,\n",
       " 'soltero': 1170,\n",
       " 'wet': 1394,\n",
       " 'blanket': 106,\n",
       " 'old': 901,\n",
       " 'world': 1415,\n",
       " 'underground': 1341,\n",
       " 'metric': 790,\n",
       " 'fast': 409,\n",
       " 'monday': 822,\n",
       " 'morning': 831,\n",
       " 'cold': 223,\n",
       " 'sleeping': 1161,\n",
       " 'give': 497,\n",
       " 'postal': 965,\n",
       " 'service': 1117,\n",
       " 'gim': 494,\n",
       " 'sympathy': 1251,\n",
       " 'kick': 665,\n",
       " 'around': 43,\n",
       " 'help': 544,\n",
       " 'alive': 17,\n",
       " 'fantasy': 407,\n",
       " 'teenager': 1266,\n",
       " 'modapop': 816,\n",
       " 'camera': 164,\n",
       " 'obscura': 893,\n",
       " 'stadium': 1195,\n",
       " 'love': 733,\n",
       " 'satellite': 1088,\n",
       " 'mind': 802,\n",
       " 'daddy': 284,\n",
       " 'eye': 396,\n",
       " 'se': 1099,\n",
       " 'orita': 910,\n",
       " 'justified': 649,\n",
       " 'justin': 650,\n",
       " 'timberlake': 1290,\n",
       " 'camaro': 163,\n",
       " 'time': 1291,\n",
       " 'king': 672,\n",
       " 'leon': 705,\n",
       " 'tron': 1321,\n",
       " 'antidote': 39,\n",
       " 'foal': 447,\n",
       " 'twilight': 1331,\n",
       " 'galaxy': 481,\n",
       " 'elephant': 367,\n",
       " 'gun': 520,\n",
       " 'gulag': 519,\n",
       " 'orkestar': 911,\n",
       " 'beirut': 80,\n",
       " 'catch': 181,\n",
       " 'baby': 53,\n",
       " 'steve': 1207,\n",
       " 'pitron': 952,\n",
       " 'max': 777,\n",
       " 'sanna': 1086,\n",
       " 'radio': 997,\n",
       " 'edit': 359,\n",
       " 'lonnie': 726,\n",
       " 'gordon': 507,\n",
       " 'bling': 110,\n",
       " 'confession': 241,\n",
       " 'sam': 1081,\n",
       " 'town': 1307,\n",
       " 'cad': 157,\n",
       " 'ray': 1010,\n",
       " 'future': 476,\n",
       " 'bird': 98,\n",
       " 'bee': 76,\n",
       " 'penalty': 939,\n",
       " 'flying': 446,\n",
       " 'club': 213,\n",
       " 'cup': 278,\n",
       " 'middle': 794,\n",
       " 'goodnight': 506,\n",
       " 'bad': 56,\n",
       " 'midnight': 795,\n",
       " 'boom': 122,\n",
       " 'kill': 667,\n",
       " 'postcard': 966,\n",
       " 'italy': 612,\n",
       " 'white': 1398,\n",
       " 'boy': 129,\n",
       " 'dance': 290,\n",
       " 'bachelor': 54,\n",
       " 'bride': 137,\n",
       " 'majesty': 756,\n",
       " 'decemberists': 300,\n",
       " 'caring': 174,\n",
       " 'creepy': 268,\n",
       " 'garden': 483,\n",
       " 'state': 1202,\n",
       " 'music': 845,\n",
       " 'motion': 833,\n",
       " 'picture': 949,\n",
       " 'shin': 1130,\n",
       " 'rhode': 1044,\n",
       " 'island': 610,\n",
       " 'famous': 405,\n",
       " 'sing': 1146,\n",
       " 'sinner': 1149,\n",
       " 'nantes': 859,\n",
       " 'get': 487,\n",
       " 'started': 1201,\n",
       " 'ron': 1063,\n",
       " 'carter': 176,\n",
       " 'gold': 501,\n",
       " 'girl': 495,\n",
       " 'letter': 707,\n",
       " 'japan': 627,\n",
       " 'balloon': 61,\n",
       " 'single': 1147,\n",
       " 'version': 1360,\n",
       " 'police': 961,\n",
       " 'private': 978,\n",
       " 'live': 720,\n",
       " 'harder': 530,\n",
       " 'better': 86,\n",
       " 'faster': 410,\n",
       " 'stronger': 1221,\n",
       " 'discovery': 317,\n",
       " 'daft': 285,\n",
       " 'punk': 988,\n",
       " 'phantom': 946,\n",
       " 'part': 927,\n",
       " 'cross': 272,\n",
       " 'universe': 1345,\n",
       " 'justice': 648,\n",
       " 'got': 508,\n",
       " 'mine': 803,\n",
       " 'attack': 46,\n",
       " 'release': 1026,\n",
       " 'black': 104,\n",
       " 'key': 662,\n",
       " 'u': 1334,\n",
       " 'v': 1352,\n",
       " 'sound': 1178,\n",
       " 'silver': 1140,\n",
       " 'lcd': 699,\n",
       " 'soundsystem': 1180,\n",
       " 'decay': 298,\n",
       " 'sustain': 1243,\n",
       " 'simian': 1142,\n",
       " 'mobile': 814,\n",
       " 'disco': 316,\n",
       " 'tthhee': 1324,\n",
       " 'ppaarrttyy': 969,\n",
       " 'newjack': 875,\n",
       " 'clock': 211,\n",
       " 'rush': 1074,\n",
       " 'blood': 112,\n",
       " 'head': 534,\n",
       " 'coldplay': 224,\n",
       " 'hustler': 582,\n",
       " 'arcade': 41,\n",
       " 'robot': 1055,\n",
       " 'oi': 897,\n",
       " 'noize': 884,\n",
       " 'deny': 307,\n",
       " 'selected': 1111,\n",
       " 'tuxedo': 1328,\n",
       " 'hat': 533,\n",
       " 'one': 904,\n",
       " 'ten': 1270,\n",
       " 'hundred': 581,\n",
       " 'thousand': 1277,\n",
       " 'million': 800,\n",
       " 'octopus': 895,\n",
       " 'project': 981,\n",
       " 'tribulation': 1318,\n",
       " 'strawberry': 1216,\n",
       " 'swing': 1249,\n",
       " 'viva': 1369,\n",
       " 'la': 686,\n",
       " 'vida': 1365,\n",
       " 'prospekt': 983,\n",
       " 'march': 766,\n",
       " 'edition': 361,\n",
       " 'god': 499,\n",
       " 'put': 992,\n",
       " 'smile': 1166,\n",
       " 'upon': 1347,\n",
       " 'face': 398,\n",
       " 'brother': 145,\n",
       " 'sister': 1152,\n",
       " 'trouble': 1322,\n",
       " 'b': 52,\n",
       " 'side': 1137,\n",
       " 'touch': 1304,\n",
       " 'magic': 751,\n",
       " 'potion': 967,\n",
       " 'new': 874,\n",
       " 'york': 1430,\n",
       " 'bringing': 141,\n",
       " 'much': 842,\n",
       " 'life': 710,\n",
       " 'technicolor': 1264,\n",
       " 'ii': 591,\n",
       " 'musique': 847,\n",
       " 'vol': 1371,\n",
       " 'playing': 959,\n",
       " 'house': 576,\n",
       " 'easy': 355,\n",
       " 'look': 727,\n",
       " 'mstrkrft': 841,\n",
       " 'champ': 186,\n",
       " 'ever': 386,\n",
       " 'lived': 721,\n",
       " 'scientist': 1096,\n",
       " 'repeat': 1034,\n",
       " 'psychotic': 986,\n",
       " 'let': 706,\n",
       " 'buy': 155,\n",
       " 'happiness': 527,\n",
       " 'remixed': 1032,\n",
       " 'spark': 1187,\n",
       " 'parachute': 921,\n",
       " 'big': 92,\n",
       " 'come': 232,\n",
       " 'tortured': 1302,\n",
       " 'soul': 1177,\n",
       " 'skream': 1156,\n",
       " 'maestro': 750,\n",
       " 'check': 189,\n",
       " 'beastie': 71,\n",
       " 'place': 954,\n",
       " 'thriller': 1280,\n",
       " 'essential': 382,\n",
       " 'jackson': 617,\n",
       " 'innocuous': 603,\n",
       " 'someone': 1172,\n",
       " 'great': 511,\n",
       " 'colourful': 231,\n",
       " 'skin': 1154,\n",
       " 'thrill': 1279,\n",
       " 'ep': 380,\n",
       " 'lost': 730,\n",
       " 'death': 297,\n",
       " 'friend': 467,\n",
       " 'explicit': 395,\n",
       " 'alright': 25,\n",
       " 'still': 1209,\n",
       " 'lily': 715,\n",
       " 'allen': 19,\n",
       " 'person': 944,\n",
       " 'doll': 327,\n",
       " 'domination': 329,\n",
       " 'pussycat': 991,\n",
       " 'recycled': 1019,\n",
       " 'air': 9,\n",
       " 'yellow': 1428,\n",
       " 'every': 388,\n",
       " 'lasting': 696,\n",
       " 'light': 712,\n",
       " 'losing': 729,\n",
       " 'edge': 358,\n",
       " 'something': 1173,\n",
       " 'meteor': 789,\n",
       " 'strange': 1214,\n",
       " 'movement': 836,\n",
       " 'six': 1153,\n",
       " 'foot': 451,\n",
       " 'everything': 389,\n",
       " 'end': 374,\n",
       " 'city': 204,\n",
       " 'cop': 248,\n",
       " 'stroke': 1220,\n",
       " 'fancy': 406,\n",
       " 'footwork': 452,\n",
       " 'chromeo': 201,\n",
       " 'politik': 963,\n",
       " 'shiver': 1132,\n",
       " 'moar': 813,\n",
       " 'ghost': 489,\n",
       " 'n': 853,\n",
       " 'stuff': 1225,\n",
       " 'deadmau': 296,\n",
       " 'spy': 1193,\n",
       " 'panic': 919,\n",
       " 'speed': 1190,\n",
       " 'gear': 485,\n",
       " 'rock': 1056,\n",
       " 'north': 885,\n",
       " 'american': 27,\n",
       " 'scum': 1098,\n",
       " 'tighten': 1285,\n",
       " 'malaria': 759,\n",
       " 'code': 218,\n",
       " 'sample': 1082,\n",
       " 'hold': 559,\n",
       " 'howlin': 577,\n",
       " 'fix': 437,\n",
       " 'x': 1420,\n",
       " 'safari': 1078,\n",
       " 'lp': 738,\n",
       " 'holy': 565,\n",
       " 'fuck': 472,\n",
       " 'reprise': 1036,\n",
       " 'lovely': 734,\n",
       " 'christmas': 200,\n",
       " 'stop': 1212,\n",
       " 'choir': 198,\n",
       " 'pretend': 974,\n",
       " 'december': 299,\n",
       " 'bonafied': 119,\n",
       " 'lovin': 737,\n",
       " 'believe': 81,\n",
       " 'hype': 584,\n",
       " 'reject': 1024,\n",
       " 'watch': 1383,\n",
       " 'tape': 1257,\n",
       " 'electric': 365,\n",
       " 'bloom': 113,\n",
       " 'float': 441,\n",
       " 'modest': 818,\n",
       " 'mouse': 834,\n",
       " 'song': 1175,\n",
       " 'home': 566,\n",
       " 'edward': 362,\n",
       " 'sharpe': 1128,\n",
       " 'magnetic': 753,\n",
       " 'zero': 1436,\n",
       " 'limb': 716,\n",
       " 'wincing': 1403,\n",
       " 'night': 878,\n",
       " 'away': 51,\n",
       " 'uprising': 1348,\n",
       " 'muse': 844,\n",
       " 'day': 294,\n",
       " 'age': 6,\n",
       " 'dog': 325,\n",
       " 'call': 161,\n",
       " 'florence': 443,\n",
       " 'machine': 749,\n",
       " 'lucky': 740,\n",
       " 'steal': 1205,\n",
       " 'thing': 1275,\n",
       " 'jason': 629,\n",
       " 'mraz': 840,\n",
       " 'colbie': 221,\n",
       " 'caillat': 159,\n",
       " 'sun': 1233,\n",
       " 'maladroit': 758,\n",
       " 'weezer': 1390,\n",
       " 'bleed': 107,\n",
       " 'milton': 801,\n",
       " 'keynes': 663,\n",
       " 'road': 1054,\n",
       " 'revolution': 1043,\n",
       " 'linkin': 717,\n",
       " 'park': 926,\n",
       " 'whataya': 1395,\n",
       " 'want': 1379,\n",
       " 'adam': 3,\n",
       " 'lambert': 689,\n",
       " 'somebody': 1171,\n",
       " 'bieber': 91,\n",
       " 'mia': 792,\n",
       " 'first': 432,\n",
       " 'emmy': 372,\n",
       " 'rehab': 1022,\n",
       " 'hip': 555,\n",
       " 'hop': 569,\n",
       " 'collection': 226,\n",
       " 'rihanna': 1049,\n",
       " 'hey': 550,\n",
       " 'delilah': 303,\n",
       " 'plain': 955,\n",
       " 'sehr': 1110,\n",
       " 'kosmisch': 682,\n",
       " 'musik': 846,\n",
       " 'von': 1373,\n",
       " 'harmonia': 531,\n",
       " 'damn': 288,\n",
       " 'futuresex': 477,\n",
       " 'lovesounds': 735,\n",
       " 'featuring': 415,\n",
       " 'kiss': 674,\n",
       " 'fist': 435,\n",
       " 'wild': 1400,\n",
       " 'child': 194,\n",
       " 'ost': 912,\n",
       " 'superstition': 1241,\n",
       " 'keep': 659,\n",
       " 'mean': 782,\n",
       " 'flume': 444,\n",
       " 'emma': 371,\n",
       " 'forever': 453,\n",
       " 'ago': 7,\n",
       " 'bon': 118,\n",
       " 'iver': 614,\n",
       " 'manhattan': 761,\n",
       " 'mr': 839,\n",
       " 'jones': 641,\n",
       " 'rest': 1038,\n",
       " 'wicked': 1399,\n",
       " 'original': 909,\n",
       " 'cage': 158,\n",
       " 'told': 1298,\n",
       " 'hot': 573,\n",
       " 'fuss': 475,\n",
       " 'firefly': 431,\n",
       " 'karaoke': 654,\n",
       " 'monthly': 827,\n",
       " 'january': 626,\n",
       " 'charttraxx': 188,\n",
       " 'bed': 74,\n",
       " 'angie': 34,\n",
       " 'digital': 312,\n",
       " 'remaster': 1027,\n",
       " 'jump': 646,\n",
       " 'back': 55,\n",
       " 'best': 84,\n",
       " 'rolling': 1059,\n",
       " 'stone': 1211,\n",
       " 'say': 1092,\n",
       " 'paper': 920,\n",
       " 'summerland': 1231,\n",
       " 'dark': 292,\n",
       " 'plan': 956,\n",
       " 'cab': 156,\n",
       " 'cutie': 281,\n",
       " 'creep': 267,\n",
       " 'pablo': 917,\n",
       " 'honey': 568,\n",
       " 'radiohead': 998,\n",
       " 'r': 994,\n",
       " 'alicia': 16,\n",
       " 'cousin': 260,\n",
       " 'contra': 245,\n",
       " 'alejandro': 15,\n",
       " 'fame': 404,\n",
       " 'monster': 825,\n",
       " 'lady': 688,\n",
       " 'gaga': 480,\n",
       " 'revelry': 1040,\n",
       " 'skinny': 1155,\n",
       " 'marry': 769,\n",
       " 'save': 1089,\n",
       " 'san': 1083,\n",
       " 'francisco': 461,\n",
       " 'story': 1213,\n",
       " 'het': 549,\n",
       " 'beste': 85,\n",
       " 'uit': 1335,\n",
       " 'de': 295,\n",
       " 'top': 1301,\n",
       " 'taylor': 1260,\n",
       " 'swift': 1247,\n",
       " 'heartbreak': 537,\n",
       " 'warfare': 1382,\n",
       " 'battle': 68,\n",
       " 'study': 1224,\n",
       " 'john': 637,\n",
       " 'mayer': 778,\n",
       " 'climb': 210,\n",
       " 'hannah': 526,\n",
       " 'montana': 826,\n",
       " 'movie': 837,\n",
       " 'miley': 798,\n",
       " 'cyrus': 282,\n",
       " 'plane': 957,\n",
       " 'decent': 301,\n",
       " 'work': 1413,\n",
       " 'pay': 934,\n",
       " 'drop': 341,\n",
       " 'lil': 714,\n",
       " 'wayne': 1388,\n",
       " 'eminem': 370,\n",
       " 'party': 928,\n",
       " 'use': 1349,\n",
       " 'french': 464,\n",
       " 'open': 907,\n",
       " 'mgmt': 791,\n",
       " 'grow': 518,\n",
       " 'joe': 636,\n",
       " 'youth': 1432,\n",
       " 'young': 1431,\n",
       " 'manhood': 762,\n",
       " 'feel': 416,\n",
       " 'anthem': 37,\n",
       " 'bitter': 101,\n",
       " 'sweet': 1246,\n",
       " 'symphony': 1252,\n",
       " 'verve': 1361,\n",
       " 'roll': 1057,\n",
       " 'blitz': 111,\n",
       " 'yeah': 1424,\n",
       " 'yeahs': 1425,\n",
       " 'ragoo': 1001,\n",
       " 'halo': 524,\n",
       " 'beyonc': 87,\n",
       " 'seven': 1119,\n",
       " 'nation': 862,\n",
       " 'army': 42,\n",
       " 'stripe': 1219,\n",
       " 'imma': 593,\n",
       " 'e': 350,\n",
       " 'energy': 376,\n",
       " 'never': 870,\n",
       " 'dy': 349,\n",
       " 'eyed': 397,\n",
       " 'pea': 936,\n",
       " 'till': 1286,\n",
       " 'collapse': 225,\n",
       " 'show': 1136,\n",
       " 'nate': 861,\n",
       " 'dogg': 326,\n",
       " 'naturally': 865,\n",
       " 'tell': 1268,\n",
       " 'selena': 1113,\n",
       " 'gomez': 502,\n",
       " 'scene': 1094,\n",
       " 'enter': 378,\n",
       " 'sandman': 1085,\n",
       " 'metallica': 788,\n",
       " 'happy': 528,\n",
       " 'ending': 375,\n",
       " 'avril': 50,\n",
       " 'lavigne': 698,\n",
       " 'idiot': 589,\n",
       " 'feat': 414,\n",
       " 'green': 514,\n",
       " 'cast': 179,\n",
       " 'broadway': 143,\n",
       " 'recording': 1018,\n",
       " 'nite': 883,\n",
       " 'yearbook': 1427,\n",
       " 'kid': 666,\n",
       " 'cudi': 276,\n",
       " 'crookers': 271,\n",
       " 'breakeven': 134,\n",
       " 'script': 1097,\n",
       " 'hotel': 575,\n",
       " 'california': 160,\n",
       " 'pretty': 976,\n",
       " 'maid': 754,\n",
       " 'row': 1071,\n",
       " 'eagle': 351,\n",
       " 'lie': 709,\n",
       " 'wyclef': 1419,\n",
       " 'jean': 631,\n",
       " 'hit': 557,\n",
       " 'selection': 1112,\n",
       " 'shakira': 1124,\n",
       " 'funeral': 473,\n",
       " 'mix': 811,\n",
       " 'television': 1267,\n",
       " 'series': 1116,\n",
       " 'tree': 1317,\n",
       " 'hill': 553,\n",
       " 'band': 62,\n",
       " 'horse': 572,\n",
       " 'like': 713,\n",
       " 'jack': 616,\n",
       " 'johnson': 638,\n",
       " 'colby': 222,\n",
       " 'donis': 332,\n",
       " 'earth': 353,\n",
       " 'far': 408,\n",
       " 'right': 1048,\n",
       " 'reason': 1016,\n",
       " 'nickelback': 877,\n",
       " 'livin': 722,\n",
       " 'prayer': 970,\n",
       " 'jovi': 643,\n",
       " 'eenie': 363,\n",
       " 'meenie': 784,\n",
       " 'sean': 1101,\n",
       " 'kingston': 673,\n",
       " 'vanilla': 1358,\n",
       " 'ocean': 894,\n",
       " 'owl': 915,\n",
       " 'superman': 1238,\n",
       " 'dina': 314,\n",
       " 'rae': 999,\n",
       " 'karma': 656,\n",
       " 'ok': 900,\n",
       " 'computer': 238,\n",
       " 'collector': 227,\n",
       " 'mockingbird': 815,\n",
       " 'te': 1261,\n",
       " 'amo': 28,\n",
       " 'rated': 1009,\n",
       " 'pearl': 937,\n",
       " 'jam': 622,\n",
       " 'usher': 1350,\n",
       " 'jon': 639,\n",
       " 'ludacris': 741,\n",
       " 'calling': 162,\n",
       " 'liar': 708,\n",
       " 'lung': 744,\n",
       " 'entertainment': 379,\n",
       " 'deluxe': 304,\n",
       " 'supermassive': 1239,\n",
       " 'hole': 560,\n",
       " 'soundtrack': 1181,\n",
       " 'remind': 1030,\n",
       " 'fetenhits': 422,\n",
       " 'set': 1118,\n",
       " 'real': 1014,\n",
       " 'slim': 1163,\n",
       " 'shady': 1123,\n",
       " 'curtain': 279,\n",
       " 'remixes': 1033,\n",
       " 'exception': 393,\n",
       " 'paramore': 925,\n",
       " 'remember': 1029,\n",
       " 'dream': 338,\n",
       " 'kryptonite': 683,\n",
       " 'total': 1303,\n",
       " 'door': 333,\n",
       " 'track': 1309,\n",
       " 'break': 132,\n",
       " 'simon': 1143,\n",
       " 'harris': 532,\n",
       " 'bulletproof': 152,\n",
       " 'roux': 1070,\n",
       " 'step': 1206,\n",
       " 'closer': 212,\n",
       " 'hybrid': 583,\n",
       " 'theory': 1274,\n",
       " 'move': 835,\n",
       " 'waking': 1375,\n",
       " 'onerepublic': 905,\n",
       " 'go': 498,\n",
       " 'tourist': 1306,\n",
       " 'history': 556,\n",
       " 'two': 1333,\n",
       " 'cinema': 203,\n",
       " 'sexy': 1122,\n",
       " 'bitch': 100,\n",
       " 'traxxx': 1316,\n",
       " 'summer': 1230,\n",
       " 'slammin': 1159,\n",
       " 'dj': 324,\n",
       " 'dizzy': 323,\n",
       " 'bring': 140,\n",
       " 'fallen': 402,\n",
       " 'evanescence': 385,\n",
       " 'kissed': 675,\n",
       " 'itunes': 613,\n",
       " 'exclusive': 394,\n",
       " 'katy': 657,\n",
       " 'perry': 943,\n",
       " 'without': 1410,\n",
       " 'name': 858,\n",
       " 'rabbit': 995,\n",
       " 'raise': 1004,\n",
       " 'hailie': 522,\n",
       " 'pursuit': 990,\n",
       " 'nightmare': 880,\n",
       " 'ratatat': 1008,\n",
       " 'boat': 116,\n",
       " 'incredibad': 598,\n",
       " 'lonely': 725,\n",
       " 'pain': 918,\n",
       " 'paradise': 923,\n",
       " 'greatest': 512,\n",
       " 'rose': 1066,\n",
       " 'pretender': 975,\n",
       " 'echo': 357,\n",
       " 'silence': 1138,\n",
       " 'patience': 930,\n",
       " 'grace': 509,\n",
       " 'foo': 449,\n",
       " 'fighter': 426,\n",
       " 'take': 1254,\n",
       " 'bow': 125,\n",
       " 'ultimate': 1336,\n",
       " 'lot': 731,\n",
       " 'homesick': 567,\n",
       " 'special': 1189,\n",
       " 'jimmy': 635,\n",
       " 'eat': 356,\n",
       " 'bubble': 148,\n",
       " 'toe': 1297,\n",
       " 'brushfire': 147,\n",
       " 'fairytale': 401,\n",
       " 'killing': 670,\n",
       " 'rage': 1000,\n",
       " 'evil': 391,\n",
       " 'empire': 373,\n",
       " 'coffret': 220,\n",
       " 'cd': 182,\n",
       " 'belong': 83,\n",
       " 'fearless': 413,\n",
       " 'stuck': 1223,\n",
       " 'moment': 821,\n",
       " 'relapse': 1025,\n",
       " 'refill': 1021,\n",
       " 'drake': 336,\n",
       " 'kanye': 653,\n",
       " 'west': 1392,\n",
       " 'nothin': 887,\n",
       " 'bruno': 146,\n",
       " 'mar': 765,\n",
       " 'omg': 903,\n",
       " 'toxic': 1308,\n",
       " 'britney': 142,\n",
       " 'spear': 1188,\n",
       " 'le': 701,\n",
       " 'whatcha': 1396,\n",
       " 'derulo': 308,\n",
       " 'resistance': 1037,\n",
       " 'ta': 1253,\n",
       " 'feeling': 417,\n",
       " 'todo': 1296,\n",
       " 'xitos': 1421,\n",
       " 'half': 523,\n",
       " 'cosmic': 253,\n",
       " 'hero': 546,\n",
       " 'enrique': 377,\n",
       " 'iglesias': 590,\n",
       " 'company': 234,\n",
       " 'war': 1381,\n",
       " 'answer': 36,\n",
       " 'five': 436,\n",
       " 'finger': 429,\n",
       " 'punch': 987,\n",
       " 'win': 1402,\n",
       " 'snoop': 1167,\n",
       " 'rick': 1047,\n",
       " 'ross': 1068,\n",
       " 'victory': 1364,\n",
       " 'khaled': 664,\n",
       " 'jesus': 633,\n",
       " 'tribute': 1319,\n",
       " 'jake': 620,\n",
       " 'hess': 548,\n",
       " 'undo': 1342,\n",
       " 'vespertine': 1362,\n",
       " 'bj': 102,\n",
       " 'rk': 1053,\n",
       " 'leave': 703,\n",
       " 'tive': 1294,\n",
       " 'sim': 1141,\n",
       " 'nova': 889,\n",
       " 'bi': 89,\n",
       " 'cartola': 177,\n",
       " 'mission': 809,\n",
       " 'goggles': 500,\n",
       " 'demon': 305,\n",
       " 'bag': 57,\n",
       " 'heaven': 539,\n",
       " 'must': 849,\n",
       " 'missing': 808,\n",
       " 'angel': 33,\n",
       " 'capitol': 170,\n",
       " 'tavares': 1259,\n",
       " 'runner': 1072,\n",
       " 'ball': 59,\n",
       " 'word': 1412,\n",
       " 'spaceman': 1186,\n",
       " 'teenage': 1265,\n",
       " 'crush': 274,\n",
       " 'worlwide': 1416,\n",
       " 'number': 891,\n",
       " 'tommy': 1299,\n",
       " 'sand': 1084,\n",
       " 'submarine': 1227,\n",
       " 'fire': 430,\n",
       " 'could': 255,\n",
       " 'country': 258,\n",
       " 'star': 1198,\n",
       " 'misbehavin': 807,\n",
       " 'summertime': 1232,\n",
       " 'cooke': 246,\n",
       " 'car': 171,\n",
       " 'running': 1073,\n",
       " 'neon': 868,\n",
       " 'bible': 90,\n",
       " 'last': 695,\n",
       " 'many': 764,\n",
       " 'campus': 165,\n",
       " 'fig': 425,\n",
       " 'cape': 169,\n",
       " 'cod': 216,\n",
       " 'kwassa': 685,\n",
       " 'ready': 1013,\n",
       " 'floor': 442,\n",
       " 'chip': 197,\n",
       " 'jigsaw': 634,\n",
       " 'falling': 403,\n",
       " 'rainbow': 1003,\n",
       " 'shine': 1131,\n",
       " 'crack': 261,\n",
       " 'grin': 516,\n",
       " 'bear': 70,\n",
       " 'rut': 1075,\n",
       " 'sleepyhead': 1162,\n",
       " 'belle': 82,\n",
       " 'sebastian': 1104,\n",
       " 'station': 1203,\n",
       " 'rain': 1002,\n",
       " 'dive': 321,\n",
       " 'subhumans': 1226,\n",
       " 'van': 1357,\n",
       " 'helsing': 545,\n",
       " 'boombox': 123,\n",
       " 'card': 173,\n",
       " 'volver': 1372,\n",
       " 'tiempo': 1283,\n",
       " 'gian': 490,\n",
       " 'marco': 767,\n",
       " 'weird': 1391,\n",
       " 'fish': 433,\n",
       " 'arpeggi': 44,\n",
       " 'rorol': 1065,\n",
       " 'identification': 588,\n",
       " 'parade': 922,\n",
       " 'auto': 48,\n",
       " 'dub': 343,\n",
       " 'prize': 979,\n",
       " 'hilarious': 552,\n",
       " 'pause': 932,\n",
       " 'four': 458,\n",
       " 'tet': 1273,\n",
       " 'basic': 65,\n",
       " 'space': 1185,\n",
       " 'various': 1359,\n",
       " 'artist': 45,\n",
       " 'rough': 1069,\n",
       " 'trade': 1310,\n",
       " 'counter': 256,\n",
       " 'culture': 277,\n",
       " 'xx': 1422,\n",
       " 'cut': 280,\n",
       " 'copy': 249,\n",
       " 'knight': 679,\n",
       " 'ministry': 804,\n",
       " 'present': 971,\n",
       " 'chilled': 196,\n",
       " 'business': 153,\n",
       " 'kut': 684,\n",
       " 'hypnopaedia': 585,\n",
       " 'colour': 230,\n",
       " 'natural': 864,\n",
       " 'superfresh': 1237,\n",
       " 'oh': 896,\n",
       " 'simple': 1144,\n",
       " 'blackbird': 105,\n",
       " 'horchata': 570,\n",
       " 'short': 1134,\n",
       " 'hummer': 580,\n",
       " 'kitsun': 676,\n",
       " 'maison': 755,\n",
       " 'compilation': 236,\n",
       " 'hotdog': 574,\n",
       " 'infinity': 602,\n",
       " 'found': 457,\n",
       " 'way': 1387,\n",
       " 'aerodynamic': 4,\n",
       " 'remix': 1031,\n",
       " 'stranger': 1215,\n",
       " 'wind': 1404,\n",
       " 'infiltrator': 601,\n",
       " 'fk': 438,\n",
       " 'infiltrated': 600,\n",
       " 'vocal': 1370,\n",
       " 'intron': 606,\n",
       " 'beyonce': 88,\n",
       " 'dutty': 346,\n",
       " 'paul': 931,\n",
       " 'so': 1168,\n",
       " 'jonas': 640,\n",
       " 'unholy': 1343,\n",
       " 'frank': 462,\n",
       " 'fair': 400,\n",
       " 'clean': 208,\n",
       " 'knocked': 680,\n",
       " 'wire': 1407,\n",
       " 'elevator': 368,\n",
       " 'gfk': 488,\n",
       " 'duet': 344,\n",
       " 'lovestoned': 736,\n",
       " 'think': 1276,\n",
       " 'human': 579,\n",
       " 'need': 867,\n",
       " 'diva': 320,\n",
       " 'cha': 184,\n",
       " 'pcd': 935,\n",
       " 'busta': 154,\n",
       " 'rhyme': 1045,\n",
       " 'dustland': 345,\n",
       " 'read': 1012,\n",
       " 'ldn': 700,\n",
       " 'done': 331,\n",
       " 'wake': 1374,\n",
       " 'alone': 23,\n",
       " 'cheryl': 192,\n",
       " 'tweedy': 1330,\n",
       " 'left': 704,\n",
       " 'corymb': 252,\n",
       " 'bip': 97,\n",
       " 'sky': 1157,\n",
       " 'fence': 419,\n",
       " 'wolfgang': 1411,\n",
       " 'amadeus': 26,\n",
       " 'phoenix': 947,\n",
       " 'stagger': 1196,\n",
       " 'cry': 275,\n",
       " 'luvstruck': 746,\n",
       " 'hard': 529,\n",
       " 'southside': 1184,\n",
       " 'spinner': 1191,\n",
       " 'tim': 1288,\n",
       " 'mcgraw': 780,\n",
       " 'gon': 503,\n",
       " 'na': 854,\n",
       " 'tiger': 1284,\n",
       " 'year': 1426,\n",
       " 'survivor': 1242,\n",
       " 'rianna': 1046,\n",
       " 'update': 1346,\n",
       " 'fisher': 434,\n",
       " 'film': 427,\n",
       " 'counting': 257,\n",
       " 'crow': 273,\n",
       " 'slippery': 1164,\n",
       " 'divide': 322,\n",
       " 'transformer': 1312,\n",
       " 'revenge': 1041,\n",
       " 'pressure': 972,\n",
       " 'queen': 993,\n",
       " 'bowl': 126,\n",
       " 'breathing': 136,\n",
       " 'graduation': 510,\n",
       " 'already': 24,\n",
       " 'gone': 504,\n",
       " 'wanted': 1380,\n",
       " 'kelly': 660,\n",
       " 'clarkson': 206,\n",
       " 'sad': 1077,\n",
       " 'stay': 1204,\n",
       " 'dollar': 328,\n",
       " 'aloe': 22,\n",
       " 'blacc': 103,\n",
       " 'bone': 120,\n",
       " 'ice': 587,\n",
       " 'romeo': 1062,\n",
       " 'juliet': 645,\n",
       " 'billy': 96,\n",
       " 'breakdown': 133,\n",
       " 'build': 151,\n",
       " 'coffin': 219,\n",
       " 'unite': 1344,\n",
       " 'hello': 543,\n",
       " 'nasty': 860,\n",
       " 'remastered': 1028,\n",
       " 'moon': 829,\n",
       " 'rising': 1052,\n",
       " 'complete': 237,\n",
       " 'box': 127,\n",
       " 'creedence': 266,\n",
       " 'clearwater': 209,\n",
       " 'revival': 1042,\n",
       " 'minute': 806,\n",
       " 'instrumental': 604,\n",
       " 'downward': 335,\n",
       " 'spiral': 1192,\n",
       " 'nine': 881,\n",
       " 'inch': 596,\n",
       " 'nail': 857,\n",
       " 'prostitute': 984,\n",
       " 'marseille': 770,\n",
       " 'zapotec': 1435,\n",
       " 'realpeople': 1015,\n",
       " 'holland': 562,\n",
       " 'cassius': 178,\n",
       " ...}"
      ]
     },
     "execution_count": 140,
     "metadata": {},
     "output_type": "execute_result"
    }
   ],
   "source": [
    "tfidf.vocabulary_"
   ]
  },
  {
   "cell_type": "code",
   "execution_count": 141,
   "metadata": {
    "colab": {
     "base_uri": "https://localhost:8080/"
    },
    "id": "WfBlPuv91Zr6",
    "outputId": "29a80e48-0484-41cb-9a66-46b58cd8dfb3"
   },
   "outputs": [
    {
     "data": {
      "text/plain": [
       "array(['academy', 'acadian', 'access', ..., 'z', 'zapotec', 'zero'],\n",
       "      dtype=object)"
      ]
     },
     "execution_count": 141,
     "metadata": {},
     "output_type": "execute_result"
    }
   ],
   "source": [
    "tfidf.get_feature_names_out()"
   ]
  },
  {
   "cell_type": "markdown",
   "metadata": {},
   "source": [
    "We have **extracted features from the text data**. Now, we can find similarities between songs using these features. We will use cosine similarity to calculate the similarity."
   ]
  },
  {
   "cell_type": "code",
   "execution_count": 142,
   "metadata": {
    "colab": {
     "base_uri": "https://localhost:8080/"
    },
    "id": "RWXz_JZC1a4G",
    "outputId": "995b5df0-b6c3-4eb4-c172-9c5fa60a162e"
   },
   "outputs": [
    {
     "data": {
      "text/plain": [
       "True"
      ]
     },
     "execution_count": 142,
     "metadata": {},
     "output_type": "execute_result"
    }
   ],
   "source": [
    "# Let's check if 'Learn To Fly' is present in the dataset\n",
    "'Learn To Fly' in df_small.text"
   ]
  },
  {
   "cell_type": "code",
   "execution_count": 143,
   "metadata": {
    "colab": {
     "base_uri": "https://localhost:8080/"
    },
    "id": "dBaQawrx1dzL",
    "outputId": "1b4b2304-bf78-433c-953c-b3db15375291"
   },
   "outputs": [
    {
     "data": {
      "text/plain": [
       "title\n",
       "Learn To Fly         True\n",
       "Sam's Town          False\n",
       "Under The Gun       False\n",
       "I Need A Dollar     False\n",
       "Feel The Love       False\n",
       "                    ...  \n",
       "Enter Sandman       False\n",
       "Naturally           False\n",
       "'Till I Collapse    False\n",
       "Imma Be             False\n",
       "Starlight           False\n",
       "Name: text, Length: 561, dtype: bool"
      ]
     },
     "execution_count": 143,
     "metadata": {},
     "output_type": "execute_result"
    }
   ],
   "source": [
    "df_small.text.apply(lambda x: 'Learn To Fly' in x).sort_values(ascending=False)"
   ]
  },
  {
   "cell_type": "code",
   "execution_count": 144,
   "metadata": {
    "colab": {
     "base_uri": "https://localhost:8080/",
     "height": 479
    },
    "id": "uySgCiMr1iFW",
    "outputId": "9e873a9f-b67f-45e1-d027-ca1d3068ae92"
   },
   "outputs": [
    {
     "name": "stdout",
     "output_type": "stream",
     "text": [
      "Index(['user_id', 'song_id', 'play_count', 'title', 'release', 'artist_name',\n",
      "       'year', 'text'],\n",
      "      dtype='object')\n"
     ]
    },
    {
     "data": {
      "text/html": [
       "<div>\n",
       "<style scoped>\n",
       "    .dataframe tbody tr th:only-of-type {\n",
       "        vertical-align: middle;\n",
       "    }\n",
       "\n",
       "    .dataframe tbody tr th {\n",
       "        vertical-align: top;\n",
       "    }\n",
       "\n",
       "    .dataframe thead th {\n",
       "        text-align: right;\n",
       "    }\n",
       "</style>\n",
       "<table border=\"1\" class=\"dataframe\">\n",
       "  <thead>\n",
       "    <tr style=\"text-align: right;\">\n",
       "      <th></th>\n",
       "      <th>user_id</th>\n",
       "      <th>song_id</th>\n",
       "      <th>play_count</th>\n",
       "      <th>title</th>\n",
       "      <th>release</th>\n",
       "      <th>artist_name</th>\n",
       "      <th>year</th>\n",
       "      <th>text</th>\n",
       "    </tr>\n",
       "  </thead>\n",
       "  <tbody>\n",
       "    <tr>\n",
       "      <th>676</th>\n",
       "      <td>75901</td>\n",
       "      <td>1188</td>\n",
       "      <td>2</td>\n",
       "      <td>Learn To Fly</td>\n",
       "      <td>There Is Nothing Left To Lose</td>\n",
       "      <td>Foo Fighters</td>\n",
       "      <td>1999</td>\n",
       "      <td>Learn To Fly There Is Nothing Left To Lose Foo...</td>\n",
       "    </tr>\n",
       "    <tr>\n",
       "      <th>1369</th>\n",
       "      <td>9097</td>\n",
       "      <td>1188</td>\n",
       "      <td>1</td>\n",
       "      <td>Learn To Fly</td>\n",
       "      <td>There Is Nothing Left To Lose</td>\n",
       "      <td>Foo Fighters</td>\n",
       "      <td>1999</td>\n",
       "      <td>Learn To Fly There Is Nothing Left To Lose Foo...</td>\n",
       "    </tr>\n",
       "    <tr>\n",
       "      <th>1535</th>\n",
       "      <td>19193</td>\n",
       "      <td>1188</td>\n",
       "      <td>1</td>\n",
       "      <td>Learn To Fly</td>\n",
       "      <td>There Is Nothing Left To Lose</td>\n",
       "      <td>Foo Fighters</td>\n",
       "      <td>1999</td>\n",
       "      <td>Learn To Fly There Is Nothing Left To Lose Foo...</td>\n",
       "    </tr>\n",
       "    <tr>\n",
       "      <th>2171</th>\n",
       "      <td>26149</td>\n",
       "      <td>1188</td>\n",
       "      <td>2</td>\n",
       "      <td>Learn To Fly</td>\n",
       "      <td>There Is Nothing Left To Lose</td>\n",
       "      <td>Foo Fighters</td>\n",
       "      <td>1999</td>\n",
       "      <td>Learn To Fly There Is Nothing Left To Lose Foo...</td>\n",
       "    </tr>\n",
       "    <tr>\n",
       "      <th>3315</th>\n",
       "      <td>35737</td>\n",
       "      <td>1188</td>\n",
       "      <td>1</td>\n",
       "      <td>Learn To Fly</td>\n",
       "      <td>There Is Nothing Left To Lose</td>\n",
       "      <td>Foo Fighters</td>\n",
       "      <td>1999</td>\n",
       "      <td>Learn To Fly There Is Nothing Left To Lose Foo...</td>\n",
       "    </tr>\n",
       "    <tr>\n",
       "      <th>...</th>\n",
       "      <td>...</td>\n",
       "      <td>...</td>\n",
       "      <td>...</td>\n",
       "      <td>...</td>\n",
       "      <td>...</td>\n",
       "      <td>...</td>\n",
       "      <td>...</td>\n",
       "      <td>...</td>\n",
       "    </tr>\n",
       "    <tr>\n",
       "      <th>115373</th>\n",
       "      <td>35114</td>\n",
       "      <td>1188</td>\n",
       "      <td>1</td>\n",
       "      <td>Learn To Fly</td>\n",
       "      <td>There Is Nothing Left To Lose</td>\n",
       "      <td>Foo Fighters</td>\n",
       "      <td>1999</td>\n",
       "      <td>Learn To Fly There Is Nothing Left To Lose Foo...</td>\n",
       "    </tr>\n",
       "    <tr>\n",
       "      <th>115586</th>\n",
       "      <td>21484</td>\n",
       "      <td>1188</td>\n",
       "      <td>1</td>\n",
       "      <td>Learn To Fly</td>\n",
       "      <td>There Is Nothing Left To Lose</td>\n",
       "      <td>Foo Fighters</td>\n",
       "      <td>1999</td>\n",
       "      <td>Learn To Fly There Is Nothing Left To Lose Foo...</td>\n",
       "    </tr>\n",
       "    <tr>\n",
       "      <th>116883</th>\n",
       "      <td>74529</td>\n",
       "      <td>1188</td>\n",
       "      <td>2</td>\n",
       "      <td>Learn To Fly</td>\n",
       "      <td>There Is Nothing Left To Lose</td>\n",
       "      <td>Foo Fighters</td>\n",
       "      <td>1999</td>\n",
       "      <td>Learn To Fly There Is Nothing Left To Lose Foo...</td>\n",
       "    </tr>\n",
       "    <tr>\n",
       "      <th>117299</th>\n",
       "      <td>14416</td>\n",
       "      <td>1188</td>\n",
       "      <td>1</td>\n",
       "      <td>Learn To Fly</td>\n",
       "      <td>There Is Nothing Left To Lose</td>\n",
       "      <td>Foo Fighters</td>\n",
       "      <td>1999</td>\n",
       "      <td>Learn To Fly There Is Nothing Left To Lose Foo...</td>\n",
       "    </tr>\n",
       "    <tr>\n",
       "      <th>117546</th>\n",
       "      <td>9570</td>\n",
       "      <td>1188</td>\n",
       "      <td>1</td>\n",
       "      <td>Learn To Fly</td>\n",
       "      <td>There Is Nothing Left To Lose</td>\n",
       "      <td>Foo Fighters</td>\n",
       "      <td>1999</td>\n",
       "      <td>Learn To Fly There Is Nothing Left To Lose Foo...</td>\n",
       "    </tr>\n",
       "  </tbody>\n",
       "</table>\n",
       "<p>222 rows × 8 columns</p>\n",
       "</div>"
      ],
      "text/plain": [
       "        user_id  song_id  play_count         title  \\\n",
       "676       75901     1188           2  Learn To Fly   \n",
       "1369       9097     1188           1  Learn To Fly   \n",
       "1535      19193     1188           1  Learn To Fly   \n",
       "2171      26149     1188           2  Learn To Fly   \n",
       "3315      35737     1188           1  Learn To Fly   \n",
       "...         ...      ...         ...           ...   \n",
       "115373    35114     1188           1  Learn To Fly   \n",
       "115586    21484     1188           1  Learn To Fly   \n",
       "116883    74529     1188           2  Learn To Fly   \n",
       "117299    14416     1188           1  Learn To Fly   \n",
       "117546     9570     1188           1  Learn To Fly   \n",
       "\n",
       "                              release   artist_name  year  \\\n",
       "676     There Is Nothing Left To Lose  Foo Fighters  1999   \n",
       "1369    There Is Nothing Left To Lose  Foo Fighters  1999   \n",
       "1535    There Is Nothing Left To Lose  Foo Fighters  1999   \n",
       "2171    There Is Nothing Left To Lose  Foo Fighters  1999   \n",
       "3315    There Is Nothing Left To Lose  Foo Fighters  1999   \n",
       "...                               ...           ...   ...   \n",
       "115373  There Is Nothing Left To Lose  Foo Fighters  1999   \n",
       "115586  There Is Nothing Left To Lose  Foo Fighters  1999   \n",
       "116883  There Is Nothing Left To Lose  Foo Fighters  1999   \n",
       "117299  There Is Nothing Left To Lose  Foo Fighters  1999   \n",
       "117546  There Is Nothing Left To Lose  Foo Fighters  1999   \n",
       "\n",
       "                                                     text  \n",
       "676     Learn To Fly There Is Nothing Left To Lose Foo...  \n",
       "1369    Learn To Fly There Is Nothing Left To Lose Foo...  \n",
       "1535    Learn To Fly There Is Nothing Left To Lose Foo...  \n",
       "2171    Learn To Fly There Is Nothing Left To Lose Foo...  \n",
       "3315    Learn To Fly There Is Nothing Left To Lose Foo...  \n",
       "...                                                   ...  \n",
       "115373  Learn To Fly There Is Nothing Left To Lose Foo...  \n",
       "115586  Learn To Fly There Is Nothing Left To Lose Foo...  \n",
       "116883  Learn To Fly There Is Nothing Left To Lose Foo...  \n",
       "117299  Learn To Fly There Is Nothing Left To Lose Foo...  \n",
       "117546  Learn To Fly There Is Nothing Left To Lose Foo...  \n",
       "\n",
       "[222 rows x 8 columns]"
      ]
     },
     "execution_count": 144,
     "metadata": {},
     "output_type": "execute_result"
    }
   ],
   "source": [
    "print(df_final.columns)\n",
    "df_final.loc[df_final.title=='Learn To Fly']"
   ]
  },
  {
   "cell_type": "code",
   "execution_count": 195,
   "metadata": {
    "colab": {
     "base_uri": "https://localhost:8080/",
     "height": 235
    },
    "id": "ZvNAlwO31jY_",
    "outputId": "fb47a97e-d1cf-420d-ccc8-f4511356769f"
   },
   "outputs": [
    {
     "data": {
      "text/html": [
       "<div>\n",
       "<style scoped>\n",
       "    .dataframe tbody tr th:only-of-type {\n",
       "        vertical-align: middle;\n",
       "    }\n",
       "\n",
       "    .dataframe tbody tr th {\n",
       "        vertical-align: top;\n",
       "    }\n",
       "\n",
       "    .dataframe thead th {\n",
       "        text-align: right;\n",
       "    }\n",
       "</style>\n",
       "<table border=\"1\" class=\"dataframe\">\n",
       "  <thead>\n",
       "    <tr style=\"text-align: right;\">\n",
       "      <th></th>\n",
       "      <th>0</th>\n",
       "      <th>1</th>\n",
       "      <th>2</th>\n",
       "      <th>3</th>\n",
       "      <th>4</th>\n",
       "      <th>5</th>\n",
       "      <th>6</th>\n",
       "      <th>7</th>\n",
       "      <th>8</th>\n",
       "      <th>9</th>\n",
       "      <th>...</th>\n",
       "      <th>1427</th>\n",
       "      <th>1428</th>\n",
       "      <th>1429</th>\n",
       "      <th>1430</th>\n",
       "      <th>1431</th>\n",
       "      <th>1432</th>\n",
       "      <th>1433</th>\n",
       "      <th>1434</th>\n",
       "      <th>1435</th>\n",
       "      <th>1436</th>\n",
       "    </tr>\n",
       "  </thead>\n",
       "  <tbody>\n",
       "    <tr>\n",
       "      <th>0</th>\n",
       "      <td>0.0</td>\n",
       "      <td>0.0</td>\n",
       "      <td>0.0</td>\n",
       "      <td>0.0</td>\n",
       "      <td>0.0</td>\n",
       "      <td>0.0</td>\n",
       "      <td>0.0</td>\n",
       "      <td>0.0</td>\n",
       "      <td>0.0</td>\n",
       "      <td>0.0</td>\n",
       "      <td>...</td>\n",
       "      <td>0.0</td>\n",
       "      <td>0.0</td>\n",
       "      <td>0.0</td>\n",
       "      <td>0.0</td>\n",
       "      <td>0.0</td>\n",
       "      <td>0.0</td>\n",
       "      <td>0.0</td>\n",
       "      <td>0.0</td>\n",
       "      <td>0.0</td>\n",
       "      <td>0.0</td>\n",
       "    </tr>\n",
       "    <tr>\n",
       "      <th>1</th>\n",
       "      <td>0.0</td>\n",
       "      <td>0.0</td>\n",
       "      <td>0.0</td>\n",
       "      <td>0.0</td>\n",
       "      <td>0.0</td>\n",
       "      <td>0.0</td>\n",
       "      <td>0.0</td>\n",
       "      <td>0.0</td>\n",
       "      <td>0.0</td>\n",
       "      <td>0.0</td>\n",
       "      <td>...</td>\n",
       "      <td>0.0</td>\n",
       "      <td>0.0</td>\n",
       "      <td>0.0</td>\n",
       "      <td>0.0</td>\n",
       "      <td>0.0</td>\n",
       "      <td>0.0</td>\n",
       "      <td>0.0</td>\n",
       "      <td>0.0</td>\n",
       "      <td>0.0</td>\n",
       "      <td>0.0</td>\n",
       "    </tr>\n",
       "    <tr>\n",
       "      <th>2</th>\n",
       "      <td>0.0</td>\n",
       "      <td>0.0</td>\n",
       "      <td>0.0</td>\n",
       "      <td>0.0</td>\n",
       "      <td>0.0</td>\n",
       "      <td>0.0</td>\n",
       "      <td>0.0</td>\n",
       "      <td>0.0</td>\n",
       "      <td>0.0</td>\n",
       "      <td>0.0</td>\n",
       "      <td>...</td>\n",
       "      <td>0.0</td>\n",
       "      <td>0.0</td>\n",
       "      <td>0.0</td>\n",
       "      <td>0.0</td>\n",
       "      <td>0.0</td>\n",
       "      <td>0.0</td>\n",
       "      <td>0.0</td>\n",
       "      <td>0.0</td>\n",
       "      <td>0.0</td>\n",
       "      <td>0.0</td>\n",
       "    </tr>\n",
       "    <tr>\n",
       "      <th>3</th>\n",
       "      <td>0.0</td>\n",
       "      <td>0.0</td>\n",
       "      <td>0.0</td>\n",
       "      <td>0.0</td>\n",
       "      <td>0.0</td>\n",
       "      <td>0.0</td>\n",
       "      <td>0.0</td>\n",
       "      <td>0.0</td>\n",
       "      <td>0.0</td>\n",
       "      <td>0.0</td>\n",
       "      <td>...</td>\n",
       "      <td>0.0</td>\n",
       "      <td>0.0</td>\n",
       "      <td>0.0</td>\n",
       "      <td>0.0</td>\n",
       "      <td>0.0</td>\n",
       "      <td>0.0</td>\n",
       "      <td>0.0</td>\n",
       "      <td>0.0</td>\n",
       "      <td>0.0</td>\n",
       "      <td>0.0</td>\n",
       "    </tr>\n",
       "    <tr>\n",
       "      <th>4</th>\n",
       "      <td>0.0</td>\n",
       "      <td>0.0</td>\n",
       "      <td>0.0</td>\n",
       "      <td>0.0</td>\n",
       "      <td>0.0</td>\n",
       "      <td>0.0</td>\n",
       "      <td>0.0</td>\n",
       "      <td>0.0</td>\n",
       "      <td>0.0</td>\n",
       "      <td>0.0</td>\n",
       "      <td>...</td>\n",
       "      <td>0.0</td>\n",
       "      <td>0.0</td>\n",
       "      <td>0.0</td>\n",
       "      <td>0.0</td>\n",
       "      <td>0.0</td>\n",
       "      <td>0.0</td>\n",
       "      <td>0.0</td>\n",
       "      <td>0.0</td>\n",
       "      <td>0.0</td>\n",
       "      <td>0.0</td>\n",
       "    </tr>\n",
       "  </tbody>\n",
       "</table>\n",
       "<p>5 rows × 1437 columns</p>\n",
       "</div>"
      ],
      "text/plain": [
       "   0     1     2     3     4     5     6     7     8     9     ...  1427  \\\n",
       "0   0.0   0.0   0.0   0.0   0.0   0.0   0.0   0.0   0.0   0.0  ...   0.0   \n",
       "1   0.0   0.0   0.0   0.0   0.0   0.0   0.0   0.0   0.0   0.0  ...   0.0   \n",
       "2   0.0   0.0   0.0   0.0   0.0   0.0   0.0   0.0   0.0   0.0  ...   0.0   \n",
       "3   0.0   0.0   0.0   0.0   0.0   0.0   0.0   0.0   0.0   0.0  ...   0.0   \n",
       "4   0.0   0.0   0.0   0.0   0.0   0.0   0.0   0.0   0.0   0.0  ...   0.0   \n",
       "\n",
       "   1428  1429  1430  1431  1432  1433  1434  1435  1436  \n",
       "0   0.0   0.0   0.0   0.0   0.0   0.0   0.0   0.0   0.0  \n",
       "1   0.0   0.0   0.0   0.0   0.0   0.0   0.0   0.0   0.0  \n",
       "2   0.0   0.0   0.0   0.0   0.0   0.0   0.0   0.0   0.0  \n",
       "3   0.0   0.0   0.0   0.0   0.0   0.0   0.0   0.0   0.0  \n",
       "4   0.0   0.0   0.0   0.0   0.0   0.0   0.0   0.0   0.0  \n",
       "\n",
       "[5 rows x 1437 columns]"
      ]
     },
     "execution_count": 195,
     "metadata": {},
     "output_type": "execute_result"
    }
   ],
   "source": [
    "# Making the DataFrame of movie_tfidf data\n",
    "song_tfidf = pd.DataFrame(song_tfidf)\n",
    "song_tfidf.head()"
   ]
  },
  {
   "cell_type": "markdown",
   "metadata": {},
   "source": [
    "* the rows of the previous column correspond to the songs while the columns correspond to the individual tokens contained in the `text` column of `df_final`. The order of the token is provided by the `get_feature_names_out` method of `tfidf` as shown below."
   ]
  },
  {
   "cell_type": "code",
   "execution_count": 196,
   "metadata": {
    "colab": {
     "base_uri": "https://localhost:8080/"
    },
    "id": "2oW_wb3O1ksu",
    "outputId": "572003a6-22e3-4093-8aef-0e75bf789d7b"
   },
   "outputs": [
    {
     "name": "stdout",
     "output_type": "stream",
     "text": [
      "[[1. 0. 0. ... 0. 0. 0.]\n",
      " [0. 1. 0. ... 0. 0. 0.]\n",
      " [0. 0. 1. ... 0. 0. 0.]\n",
      " ...\n",
      " [0. 0. 0. ... 1. 0. 0.]\n",
      " [0. 0. 0. ... 0. 1. 0.]\n",
      " [0. 0. 0. ... 0. 0. 1.]]\n",
      "[1.         0.         0.         0.         0.         0.\n",
      " 0.         0.28173757 0.         0.         0.49258119 0.\n",
      " 0.         0.         0.         0.         0.         0.\n",
      " 0.         0.         0.         0.         0.         0.\n",
      " 0.         0.         0.         0.         0.         0.\n",
      " 0.         0.         0.24365773 0.         0.         0.\n",
      " 0.         0.         0.         0.         0.         0.\n",
      " 0.         0.         0.         0.         0.         0.\n",
      " 0.         0.         0.         0.         0.         0.\n",
      " 0.         0.         0.         0.         0.         0.\n",
      " 0.         0.         0.         0.         0.         0.\n",
      " 0.         0.         0.         0.         0.         0.\n",
      " 0.         0.         0.         0.         0.         0.\n",
      " 0.         0.         0.         0.         0.         0.\n",
      " 0.         0.         0.         0.         0.         0.\n",
      " 0.         0.         0.         0.         0.         0.\n",
      " 0.         0.         0.         0.        ]\n",
      "(561, 561)\n"
     ]
    }
   ],
   "source": [
    "# Compute the cosine similarity for the tfidf above output\n",
    "similar_songs = cosine_similarity(song_tfidf, song_tfidf)\n",
    "\n",
    "# Let us see the above array\n",
    "print(similar_songs)\n",
    "\n",
    "# print the 100 values of similar_songs\n",
    "print(similar_songs[0][:100])\n",
    "\n",
    "# Let us see the shape of the above array\n",
    "print(similar_songs.shape)"
   ]
  },
  {
   "cell_type": "markdown",
   "metadata": {
    "id": "J9gkw9dn1mcr"
   },
   "source": [
    " Finally, let's create a function to find most similar songs to recommend for a given song."
   ]
  },
  {
   "cell_type": "code",
   "execution_count": 197,
   "metadata": {
    "id": "zg4BrbtS1n3s"
   },
   "outputs": [],
   "source": [
    "# Function that takes in song title as input and returns the top 10 recommended songs\n",
    "def recommendations(title, similar_songs):\n",
    "    \n",
    "    recommended_songs = []\n",
    "    \n",
    "    # Getting the index of the song that matches the title\n",
    "    idx = indices[indices == title].index[0]\n",
    "\n",
    "    # Creating a Series with the similarity scores in descending order\n",
    "    score_series = pd.Series(similar_songs[idx]).sort_values(ascending = False)\n",
    "\n",
    "    # Getting the indexes of the 10 most similar songs\n",
    "    top_10_indexes = list(score_series.iloc[1 : 11].index)\n",
    "    print(top_10_indexes)\n",
    "    \n",
    "    # Populating the list with the titles of the best 10 matching songs\n",
    "    for i in top_10_indexes:\n",
    "        recommended_songs.append(list(df_small.index)[i])\n",
    "        \n",
    "    return recommended_songs"
   ]
  },
  {
   "cell_type": "markdown",
   "metadata": {
    "id": "jtK5ju9D1pY-"
   },
   "source": [
    "### Recommending 10 songs similar to Learn to Fly"
   ]
  },
  {
   "cell_type": "code",
   "execution_count": 198,
   "metadata": {
    "colab": {
     "base_uri": "https://localhost:8080/"
    },
    "id": "yrpwYw8z1p-2",
    "outputId": "dd3fd16b-a9b1-4c21-9462-90eb06eca295"
   },
   "outputs": [
    {
     "name": "stdout",
     "output_type": "stream",
     "text": [
      "[509, 234, 423, 345, 394, 370, 371, 372, 373, 375]\n"
     ]
    },
    {
     "data": {
      "text/plain": [
       "['Everlong',\n",
       " 'The Pretender',\n",
       " 'Nothing Better (Album)',\n",
       " 'From Left To Right',\n",
       " 'Lifespan Of A Fly',\n",
       " 'Under The Gun',\n",
       " 'I Need A Dollar',\n",
       " 'Feel The Love',\n",
       " 'All The Pretty Faces',\n",
       " 'Bones']"
      ]
     },
     "execution_count": 198,
     "metadata": {},
     "output_type": "execute_result"
    }
   ],
   "source": [
    "# Make the recommendation for the song with title 'Learn To Fly'\n",
    "recommendations('Learn To Fly', similar_songs)"
   ]
  },
  {
   "cell_type": "code",
   "execution_count": 199,
   "metadata": {
    "colab": {
     "base_uri": "https://localhost:8080/"
    },
    "id": "JZefydwD1sk8",
    "outputId": "327922e2-7f61-402e-9def-0dd7703c337d"
   },
   "outputs": [
    {
     "data": {
      "text/plain": [
       "array(['Everlong The Colour And The Shape (Special Edition) Foo Fighters',\n",
       "       'The Pretender Echoes_ Silence_ Patience & Grace Foo Fighters',\n",
       "       'Nothing Better (Album) Give Up Postal Service',\n",
       "       'From Left To Right Corymb Boom Bip',\n",
       "       'Lifespan Of A Fly Ray Guns Are Not Just The Future the bird and the bee',\n",
       "       'Under The Gun Sawdust The Killers',\n",
       "       'I Need A Dollar I Need A Dollar Aloe Blacc',\n",
       "       'Feel The Love In Ghost Colours Cut Copy',\n",
       "       'All The Pretty Faces When You  Were Young The Killers',\n",
       "       'Bones Bones The Killers'], dtype=object)"
      ]
     },
     "execution_count": 199,
     "metadata": {},
     "output_type": "execute_result"
    }
   ],
   "source": [
    "df_small.reset_index().loc[[509, 234, 423, 345, 394, 370, 371, 372, 373, 375], 'text'].values"
   ]
  },
  {
   "cell_type": "markdown",
   "metadata": {
    "id": "-XZHGtrn1w0G"
   },
   "source": [
    "**Observations and Insights:**\n",
    "\n",
    "- The song 'Learn To Fly' belongs to **Rock, Pop** genres, and the **majority of the recommendations** lie in one or more of the genres **Rock, Pop, Indie pop, electronic**. It implies that the resulting recommendation system is working well is highly probable that people loves the recommended songs."
   ]
  },
  {
   "cell_type": "markdown",
   "metadata": {
    "id": "wf8l9okV1zlt"
   },
   "source": [
    "## **Conclusion and Recommendations:**\n",
    "\n",
    "**Refined Insights -** What are the most meaningful insights from the data relevant to the problem?\n",
    "\n",
    "The constraints that we main follows given the subset that we have, it's the provision of the characteristics of a small dataset of 117,876 user_id and song_id pairs of the universe of possibilities of the Million Song Dataset.\n",
    "\n",
    "**How many unique users are in the dataset?**\n",
    "\n",
    "There are 3155 unique users in the \"Million Song Dataset\" dataset.\n",
    "\n",
    "**What is the total number of unique songs?**\n",
    "\n",
    "There are 563 unique songs\n",
    "\n",
    "- There are 117,876 observations and 7 columns in the data.\n",
    "- All the columns are of numeric data type except the title, release, artist_name.\n",
    "- As per the number of unique users and songs, **there is a possibility of 3155 * 563 = 1,776,265 listened songs** in the dataset. But **we only have 117,876 played songs**, i.e., not every user has listened every song in the dataset, which is quite understandable. This creates the possibility of building a recommendation system to recommend songs to the users which they have not interacted with.\n",
    "\n",
    "**Comparison of various techniques and their relative performance -** How do different techniques perform? Which one is performing relatively better? Is there scope to improve the performance further?\n",
    "\n",
    "- In this project we built a music recommendation system for the Million Song Dataset to recommend songs to users based on their previous listening activity using six different algorithms. They are as follows:\n",
    "  1. **Rank-based using averages**\n",
    "  2. **User-User similarity-based collaborative filtering**\n",
    "  3. **Item-Item similarity-based collaborative filtering**\n",
    "  4. **Model-based collaborative filtering - Matrix Factorization**\n",
    "  5. **clustering-based recommendation systems**\n",
    "  6. **content-based recommendation systems**\n",
    "\n",
    "- The **surprise** library was used to demonstrate \"user-user similarity-based collaborative filtering,\" \"item-item similarity-based collaborative filtering,\" and \"model-based collaborative filtering (matrix factorization)\", clustering-based recommendation systems. Grid search cross-validation was applied to find the best working model, and with that the corresponding predictions are made.\n",
    "- To evaluate the performance of these models, **precision@k and recall@k** are used in this project. Using these two metrics F_1 score is calculated for each working model.\n",
    "\n",
    "**Proposal for the final solution design -** What model do you propose to be adopted? Why is this the best solution to adopt?\n",
    "\n",
    "Overall, the **Optimized user-user similarity-based recommendation system** has given the best performance in terms of the **F1-Score = 0.513**, i.e., 51,3% indicates that half the recommended songs were relevant and not relevant songs were recommended all the times to the user. The **RMSE= 1.0521**, here the smaller the better but there are small differences between the RMSE metrics of the recommendation systems evaluated. In this scenario, it means that this metric is not relevant or even significant to compare the models. We are getting a **recall=0.637**, which means out of all the relevant songs, 63.7% are recommended. We are getting a **precision=0.43**, which means out of all the recommended products 43% are relevant.\n",
    "\n",
    "This solution with **F1-Score = 51,3%** means that the model is performing not very good, so it might be improved by using GridSearchCV by tuning different hyperparameters of this algorithm. In terms of recommendation is slightly better than other recommendation systems built. However, for the given dataset we cannot improve the model combining optimized user-user similarity-based recommendation system with a Content-Based approach due to lack of user engagement data. The lack of text data about the user prevents the creation of a hybrid recommendation systems. Therefore, to improve the Music Recommendation System the dataset should be extended by adding user engagement data and categorical data for each song. By adding that data to the dataset we can take advantage of the already built models to provides accurate recommendations based on the listening activity of the users getting an improved models because we will have more data of the user interaction with the music platform.\n",
    "\n",
    "\n",
    "**Recommendations and Next Steps:**\n",
    "\n",
    "For the given dataset it is recommended the **optimized user-user similarity-based recommendation system** because that model extract better the similarities between users mainly due to the interactions that are described by the user_id, song_id and play_count. However, the recommendation system can be improved by following the next recommendations:\n",
    "- We can still try to improve the performance of these models using hyperparameter tuning.\n",
    "- The dataset lack of user engagement information. We might add data from the analytics of the music platform to the current dataset to improve our Recommendation Systems. So, we don't have access to important information that would model the interactions between user songs to build a Content based model using user information such as comments, likes, so on. The only value that we used to build the model was play_count that give us information about the frequency that the user use to listen certain song\n",
    "- We can enrich the data to get a better chance to get similarities between users-users models, song-song models. For the songs we can add categories such as genres of the music such us, Rock, Pop, Indie pop, electronic, reggae, salsa. On the other hand, the user engagement data that would help to build better models might be:\n",
    "    - Listening time and average listening duration\n",
    "    - Likes, Dislikes\n",
    "    - Comments\n",
    "    - ...\n",
    "- We can try also combine different recommendation techniques to build hybrid recommendation systems, but it only can be possible if we have access to user engagement information, due to all the models that were built perform poorly with a maximum F1 score 51.3%, that indicates that half recommended songs were relevant and not relevant songs were recommended all the times to the user.\n",
    "-\tTo improve the performance of the User-User similarity-based collaborative filtering, user information such as demographics including age, gender, occupation, philosophy of life, style (Street Wear, Punk, Urban Style, Emo, Skater, etc.) is required. Surfer, Biker, Rocker, gothic, emo, cowboy, and so on), profession, work position, and so on. That information might be extracted from the user database under user's consent.\n",
    "-\tTo improve the performance of the Item-Item similarity-based collaborative filtering models, in addition to play_count, new columns with genre categories are required (rock, heavy metal, progressive rock, classical, opera, pop, electronic, hip-hop, rap). , trap, reggae, reggaeton, and so on), and themes (romantic love, sex, rebellion against \"The Establishment\", social concerns, life styles, spiritual, happy, party, and so on) to the data set. By incorporating this information, better Model Based Collaborative Filtering could be created, and this result could be integrated with Content-based recommendation systems to create a hybrid recommendation system.\n"
   ]
  },
  {
   "cell_type": "code",
   "execution_count": null,
   "metadata": {},
   "outputs": [],
   "source": []
  }
 ],
 "metadata": {
  "colab": {
   "collapsed_sections": [],
   "provenance": []
  },
  "kernelspec": {
   "display_name": "Python 3 (ipykernel)",
   "language": "python",
   "name": "python3"
  },
  "language_info": {
   "codemirror_mode": {
    "name": "ipython",
    "version": 3
   },
   "file_extension": ".py",
   "mimetype": "text/x-python",
   "name": "python",
   "nbconvert_exporter": "python",
   "pygments_lexer": "ipython3",
   "version": "3.9.12"
  },
  "vscode": {
   "interpreter": {
    "hash": "c4f92193806e2908606a5f23edd55a5282f2f433b73b1c504507f9256ed9f0b4"
   }
  }
 },
 "nbformat": 4,
 "nbformat_minor": 1
}
